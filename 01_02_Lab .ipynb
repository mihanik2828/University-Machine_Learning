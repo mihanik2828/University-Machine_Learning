{
 "cells": [
  {
   "cell_type": "code",
   "execution_count": 1,
   "id": "f23389c6",
   "metadata": {},
   "outputs": [],
   "source": [
    "import numpy as np\n",
    "import matplotlib.pyplot as plt\n",
    "import pandas as pd\n",
    "import seaborn as sns\n",
    "import sklearn\n",
    "%matplotlib inline\n"
   ]
  },
  {
   "cell_type": "markdown",
   "id": "631c52a5",
   "metadata": {},
   "source": [
    "# Информация о данных"
   ]
  },
  {
   "cell_type": "markdown",
   "id": "55e245fb",
   "metadata": {},
   "source": [
    "Датасет содержит информацию об ожидаемой продолжительности жизни и факторах здоровья населения 193-х стран за 2000-2015 годы. Набор данных содержит около 22 признаков, которые можно разделить на категории: факторы, связанные с иммунизацией, факторы смертности, экономические факторы и социальные факторы. Все представленные страны можно разделить на 2 класса: хорошо развитые страны и еще только развивающиеся."
   ]
  },
  {
   "cell_type": "markdown",
   "id": "4b798547",
   "metadata": {},
   "source": [
    "# Загрузка данных"
   ]
  },
  {
   "cell_type": "code",
   "execution_count": 2,
   "id": "2c8987cf",
   "metadata": {},
   "outputs": [
    {
     "data": {
      "text/plain": [
       "(2938, 22)"
      ]
     },
     "execution_count": 2,
     "metadata": {},
     "output_type": "execute_result"
    }
   ],
   "source": [
    "url = \"https://raw.githubusercontent.com/lutovatanya/machine-learning-course-2022/main/Life_Expectancy_Dataset.csv\"\n",
    "data_raw = pd.read_csv(url, sep=',', engine='python')\n",
    "data_raw.shape"
   ]
  },
  {
   "cell_type": "markdown",
   "id": "ec136fb5",
   "metadata": {},
   "source": [
    "Вначале посмотрим на размеры таблицы - количество строк (каждая строка соответствует информации об одном человеке) и количество столбцов (каждый столбец соответствует конкретному признаку). Как видно из вывода, набор данных содержит 2938 строк и 22 столбца"
   ]
  },
  {
   "cell_type": "code",
   "execution_count": 3,
   "id": "0d3bce4b",
   "metadata": {},
   "outputs": [
    {
     "data": {
      "text/html": [
       "<div>\n",
       "<style scoped>\n",
       "    .dataframe tbody tr th:only-of-type {\n",
       "        vertical-align: middle;\n",
       "    }\n",
       "\n",
       "    .dataframe tbody tr th {\n",
       "        vertical-align: top;\n",
       "    }\n",
       "\n",
       "    .dataframe thead th {\n",
       "        text-align: right;\n",
       "    }\n",
       "</style>\n",
       "<table border=\"1\" class=\"dataframe\">\n",
       "  <thead>\n",
       "    <tr style=\"text-align: right;\">\n",
       "      <th></th>\n",
       "      <th>Country</th>\n",
       "      <th>Year</th>\n",
       "      <th>Status</th>\n",
       "      <th>Life expectancy</th>\n",
       "      <th>Adult Mortality</th>\n",
       "      <th>infant deaths</th>\n",
       "      <th>Alcohol</th>\n",
       "      <th>percentage expenditure</th>\n",
       "      <th>Hepatitis B</th>\n",
       "      <th>Measles</th>\n",
       "      <th>...</th>\n",
       "      <th>Polio</th>\n",
       "      <th>Total expenditure</th>\n",
       "      <th>Diphtheria</th>\n",
       "      <th>HIV/AIDS</th>\n",
       "      <th>GDP</th>\n",
       "      <th>Population</th>\n",
       "      <th>thinness  1-19 years</th>\n",
       "      <th>thinness 5-9 years</th>\n",
       "      <th>Income composition of resources</th>\n",
       "      <th>Schooling</th>\n",
       "    </tr>\n",
       "  </thead>\n",
       "  <tbody>\n",
       "    <tr>\n",
       "      <th>0</th>\n",
       "      <td>Afghanistan</td>\n",
       "      <td>2015</td>\n",
       "      <td>Developing</td>\n",
       "      <td>65.0</td>\n",
       "      <td>263.0</td>\n",
       "      <td>62</td>\n",
       "      <td>0.01</td>\n",
       "      <td>71.279624</td>\n",
       "      <td>65.0</td>\n",
       "      <td>1154</td>\n",
       "      <td>...</td>\n",
       "      <td>6.0</td>\n",
       "      <td>8.16</td>\n",
       "      <td>65.0</td>\n",
       "      <td>0.1</td>\n",
       "      <td>584.259210</td>\n",
       "      <td>33736494.0</td>\n",
       "      <td>17.2</td>\n",
       "      <td>17.3</td>\n",
       "      <td>0.479</td>\n",
       "      <td>10.1</td>\n",
       "    </tr>\n",
       "    <tr>\n",
       "      <th>1</th>\n",
       "      <td>Afghanistan</td>\n",
       "      <td>2014</td>\n",
       "      <td>Developing</td>\n",
       "      <td>59.9</td>\n",
       "      <td>271.0</td>\n",
       "      <td>64</td>\n",
       "      <td>0.01</td>\n",
       "      <td>73.523582</td>\n",
       "      <td>62.0</td>\n",
       "      <td>492</td>\n",
       "      <td>...</td>\n",
       "      <td>58.0</td>\n",
       "      <td>8.18</td>\n",
       "      <td>62.0</td>\n",
       "      <td>0.1</td>\n",
       "      <td>612.696514</td>\n",
       "      <td>327582.0</td>\n",
       "      <td>17.5</td>\n",
       "      <td>17.5</td>\n",
       "      <td>0.476</td>\n",
       "      <td>10.0</td>\n",
       "    </tr>\n",
       "    <tr>\n",
       "      <th>2</th>\n",
       "      <td>Afghanistan</td>\n",
       "      <td>2013</td>\n",
       "      <td>Developing</td>\n",
       "      <td>59.9</td>\n",
       "      <td>268.0</td>\n",
       "      <td>66</td>\n",
       "      <td>0.01</td>\n",
       "      <td>73.219243</td>\n",
       "      <td>64.0</td>\n",
       "      <td>430</td>\n",
       "      <td>...</td>\n",
       "      <td>62.0</td>\n",
       "      <td>8.13</td>\n",
       "      <td>64.0</td>\n",
       "      <td>0.1</td>\n",
       "      <td>631.744976</td>\n",
       "      <td>31731688.0</td>\n",
       "      <td>17.7</td>\n",
       "      <td>17.7</td>\n",
       "      <td>0.470</td>\n",
       "      <td>9.9</td>\n",
       "    </tr>\n",
       "    <tr>\n",
       "      <th>3</th>\n",
       "      <td>Afghanistan</td>\n",
       "      <td>2012</td>\n",
       "      <td>Developing</td>\n",
       "      <td>59.5</td>\n",
       "      <td>272.0</td>\n",
       "      <td>69</td>\n",
       "      <td>0.01</td>\n",
       "      <td>78.184215</td>\n",
       "      <td>67.0</td>\n",
       "      <td>2787</td>\n",
       "      <td>...</td>\n",
       "      <td>67.0</td>\n",
       "      <td>8.52</td>\n",
       "      <td>67.0</td>\n",
       "      <td>0.1</td>\n",
       "      <td>669.959000</td>\n",
       "      <td>3696958.0</td>\n",
       "      <td>17.9</td>\n",
       "      <td>18.0</td>\n",
       "      <td>0.463</td>\n",
       "      <td>9.8</td>\n",
       "    </tr>\n",
       "    <tr>\n",
       "      <th>4</th>\n",
       "      <td>Afghanistan</td>\n",
       "      <td>2011</td>\n",
       "      <td>Developing</td>\n",
       "      <td>59.2</td>\n",
       "      <td>275.0</td>\n",
       "      <td>71</td>\n",
       "      <td>0.01</td>\n",
       "      <td>7.097109</td>\n",
       "      <td>68.0</td>\n",
       "      <td>3013</td>\n",
       "      <td>...</td>\n",
       "      <td>68.0</td>\n",
       "      <td>7.87</td>\n",
       "      <td>68.0</td>\n",
       "      <td>0.1</td>\n",
       "      <td>63.537231</td>\n",
       "      <td>2978599.0</td>\n",
       "      <td>18.2</td>\n",
       "      <td>18.2</td>\n",
       "      <td>0.454</td>\n",
       "      <td>9.5</td>\n",
       "    </tr>\n",
       "  </tbody>\n",
       "</table>\n",
       "<p>5 rows × 22 columns</p>\n",
       "</div>"
      ],
      "text/plain": [
       "       Country  Year      Status  Life expectancy   Adult Mortality  \\\n",
       "0  Afghanistan  2015  Developing              65.0            263.0   \n",
       "1  Afghanistan  2014  Developing              59.9            271.0   \n",
       "2  Afghanistan  2013  Developing              59.9            268.0   \n",
       "3  Afghanistan  2012  Developing              59.5            272.0   \n",
       "4  Afghanistan  2011  Developing              59.2            275.0   \n",
       "\n",
       "   infant deaths  Alcohol  percentage expenditure  Hepatitis B  Measles   ...  \\\n",
       "0             62     0.01               71.279624         65.0      1154  ...   \n",
       "1             64     0.01               73.523582         62.0       492  ...   \n",
       "2             66     0.01               73.219243         64.0       430  ...   \n",
       "3             69     0.01               78.184215         67.0      2787  ...   \n",
       "4             71     0.01                7.097109         68.0      3013  ...   \n",
       "\n",
       "   Polio  Total expenditure  Diphtheria    HIV/AIDS         GDP  Population  \\\n",
       "0    6.0               8.16         65.0        0.1  584.259210  33736494.0   \n",
       "1   58.0               8.18         62.0        0.1  612.696514    327582.0   \n",
       "2   62.0               8.13         64.0        0.1  631.744976  31731688.0   \n",
       "3   67.0               8.52         67.0        0.1  669.959000   3696958.0   \n",
       "4   68.0               7.87         68.0        0.1   63.537231   2978599.0   \n",
       "\n",
       "    thinness  1-19 years   thinness 5-9 years  \\\n",
       "0                   17.2                 17.3   \n",
       "1                   17.5                 17.5   \n",
       "2                   17.7                 17.7   \n",
       "3                   17.9                 18.0   \n",
       "4                   18.2                 18.2   \n",
       "\n",
       "   Income composition of resources  Schooling  \n",
       "0                            0.479       10.1  \n",
       "1                            0.476       10.0  \n",
       "2                            0.470        9.9  \n",
       "3                            0.463        9.8  \n",
       "4                            0.454        9.5  \n",
       "\n",
       "[5 rows x 22 columns]"
      ]
     },
     "execution_count": 3,
     "metadata": {},
     "output_type": "execute_result"
    }
   ],
   "source": [
    "data_raw.head()"
   ]
  },
  {
   "cell_type": "markdown",
   "id": "f5742b40",
   "metadata": {},
   "source": [
    "Всего в датасете содержится 22 признака\n",
    "\n",
    "#### Признаки:\n",
    "\n",
    "1. Country - страна \n",
    "2. Year - год\n",
    "3. Status - статус\n",
    "4. Life expectancy - ожидаемая продолжительность жизни\n",
    "5. Adult Mortality - показатели смертности среди взрослых (от 15 до 60 лет)\n",
    "6. infant deaths - кол-во младенческих смертей\n",
    "7. Alcohol - учет потребления алкоголя на душу населения\n",
    "8. percentage expenditure - расходы на здравоохранение в % от ВВП на душу населения\n",
    "9. Hepatitis B - охват иммунизацией против гепатита B среди годовалых детей %\n",
    "10. Measles - корь - кол-во случаев\n",
    "11. BMI - средний индекс массы тела всего населения\n",
    "12. under-five deaths - кол-во смертей детей в возрасте до 5 лет\n",
    "13. Polio - охват иммунизацией от полиомиелита среди годовалых детей (%)\n",
    "14. Total expenditure - общие гос. расходы на здравоохранение как процент от общих государственных\n",
    "15. Diphtheria - охват иммунизацией от столбняка, дифтерии и коклюша среди детей в возрасте 1 года (%)\n",
    "16. HIV/AIDS - смертность ВИЧ / СПИД (0-4 года)\n",
    "17. GDP - ВВП на душу населения\n",
    "18. Population - население страны\n",
    "19. thinness 10-19 years -распространенность худобы среди детей от 10 до 19 лет (%)\n",
    "20. thinness 5-9 years - распространенность худобы среди детей от 5 до 9 лет (%)\n",
    "21. Income composition of resources - индекс человеческого развития с точки зрения доходной структуры ресурсов (от 0 до 1)\n",
    "22. Schooling - кол-во лет обучения\n",
    "\n",
    "Рассмотрим отдельно признаки. Здесь можно узнать типы значений в столбцах"
   ]
  },
  {
   "cell_type": "code",
   "execution_count": 4,
   "id": "b3769aaa",
   "metadata": {},
   "outputs": [
    {
     "name": "stdout",
     "output_type": "stream",
     "text": [
      "<class 'pandas.core.frame.DataFrame'>\n",
      "RangeIndex: 2938 entries, 0 to 2937\n",
      "Data columns (total 22 columns):\n",
      " #   Column                           Non-Null Count  Dtype  \n",
      "---  ------                           --------------  -----  \n",
      " 0   Country                          2938 non-null   object \n",
      " 1   Year                             2938 non-null   int64  \n",
      " 2   Status                           2938 non-null   object \n",
      " 3   Life expectancy                  2928 non-null   float64\n",
      " 4   Adult Mortality                  2928 non-null   float64\n",
      " 5   infant deaths                    2938 non-null   int64  \n",
      " 6   Alcohol                          2744 non-null   float64\n",
      " 7   percentage expenditure           2938 non-null   float64\n",
      " 8   Hepatitis B                      2385 non-null   float64\n",
      " 9   Measles                          2938 non-null   int64  \n",
      " 10   BMI                             2904 non-null   float64\n",
      " 11  under-five deaths                2938 non-null   int64  \n",
      " 12  Polio                            2919 non-null   float64\n",
      " 13  Total expenditure                2712 non-null   float64\n",
      " 14  Diphtheria                       2919 non-null   float64\n",
      " 15   HIV/AIDS                        2938 non-null   float64\n",
      " 16  GDP                              2490 non-null   float64\n",
      " 17  Population                       2286 non-null   float64\n",
      " 18   thinness  1-19 years            2904 non-null   float64\n",
      " 19   thinness 5-9 years              2904 non-null   float64\n",
      " 20  Income composition of resources  2771 non-null   float64\n",
      " 21  Schooling                        2775 non-null   float64\n",
      "dtypes: float64(16), int64(4), object(2)\n",
      "memory usage: 505.1+ KB\n"
     ]
    }
   ],
   "source": [
    "data_raw.info()"
   ]
  },
  {
   "cell_type": "markdown",
   "id": "3977bc4c",
   "metadata": {},
   "source": [
    "В названии признаков присутствуют отступы вначале, выведем колонки отдельно, чтобы проанализировать их.\n"
   ]
  },
  {
   "cell_type": "code",
   "execution_count": 5,
   "id": "1b56d7e0",
   "metadata": {},
   "outputs": [
    {
     "data": {
      "text/plain": [
       "Index(['Country', 'Year', 'Status', 'Life expectancy ', 'Adult Mortality',\n",
       "       'infant deaths', 'Alcohol', 'percentage expenditure', 'Hepatitis B',\n",
       "       'Measles ', ' BMI ', 'under-five deaths ', 'Polio', 'Total expenditure',\n",
       "       'Diphtheria ', ' HIV/AIDS', 'GDP', 'Population',\n",
       "       ' thinness  1-19 years', ' thinness 5-9 years',\n",
       "       'Income composition of resources', 'Schooling'],\n",
       "      dtype='object')"
      ]
     },
     "execution_count": 5,
     "metadata": {},
     "output_type": "execute_result"
    }
   ],
   "source": [
    "data_raw.columns"
   ]
  },
  {
   "cell_type": "markdown",
   "id": "fc17d5e6",
   "metadata": {},
   "source": [
    "Есть лишние отступы, как в начале, так и в конце, которые стоит убрать для более аккуратного оформления. Также выведем все названия с заглавной буквы."
   ]
  },
  {
   "cell_type": "code",
   "execution_count": 6,
   "id": "4f45cf0a",
   "metadata": {},
   "outputs": [
    {
     "data": {
      "text/plain": [
       "Index(['Country', 'Year', 'Status', 'Life expectancy', 'Adult Mortality',\n",
       "       'infant deaths', 'Alcohol', 'percentage expenditure', 'Hepatitis B',\n",
       "       'Measles', 'BMI', 'Under-five deaths', 'Polio', 'Total expenditure',\n",
       "       'Diphtheria', 'HIV/AIDS', 'GDP', 'Population', 'Thinness 1-19 years',\n",
       "       'Thinness 5-9 years', 'Income composition of resources', 'Schooling'],\n",
       "      dtype='object')"
      ]
     },
     "execution_count": 6,
     "metadata": {},
     "output_type": "execute_result"
    }
   ],
   "source": [
    "data_raw.rename(columns={'Life expectancy ': 'Life expectancy', 'Measles ': 'Measles' , ' BMI ': 'BMI', 'under-five deaths ': 'Under-five deaths', 'Diphtheria ': 'Diphtheria', ' HIV/AIDS': 'HIV/AIDS', ' thinness  1-19 years': 'Thinness 1-19 years', ' thinness 5-9 years': 'Thinness 5-9 years' }, inplace=True)\n",
    "data_raw.columns"
   ]
  },
  {
   "cell_type": "markdown",
   "id": "d466f81e",
   "metadata": {},
   "source": [
    "Так как признак \"Thinness 5-9 years\" по смыслу входит в признак \"Thinness 1-19 years\", то мы можем удалить его из рассмотрения"
   ]
  },
  {
   "cell_type": "code",
   "execution_count": 7,
   "id": "3d5aa7d7",
   "metadata": {},
   "outputs": [],
   "source": [
    "del data_raw['Thinness 5-9 years']"
   ]
  },
  {
   "cell_type": "code",
   "execution_count": 8,
   "id": "053e4b16",
   "metadata": {},
   "outputs": [
    {
     "name": "stdout",
     "output_type": "stream",
     "text": [
      "<class 'pandas.core.frame.DataFrame'>\n",
      "RangeIndex: 2938 entries, 0 to 2937\n",
      "Data columns (total 21 columns):\n",
      " #   Column                           Non-Null Count  Dtype  \n",
      "---  ------                           --------------  -----  \n",
      " 0   Country                          2938 non-null   object \n",
      " 1   Year                             2938 non-null   int64  \n",
      " 2   Status                           2938 non-null   object \n",
      " 3   Life expectancy                  2928 non-null   float64\n",
      " 4   Adult Mortality                  2928 non-null   float64\n",
      " 5   infant deaths                    2938 non-null   int64  \n",
      " 6   Alcohol                          2744 non-null   float64\n",
      " 7   percentage expenditure           2938 non-null   float64\n",
      " 8   Hepatitis B                      2385 non-null   float64\n",
      " 9   Measles                          2938 non-null   int64  \n",
      " 10  BMI                              2904 non-null   float64\n",
      " 11  Under-five deaths                2938 non-null   int64  \n",
      " 12  Polio                            2919 non-null   float64\n",
      " 13  Total expenditure                2712 non-null   float64\n",
      " 14  Diphtheria                       2919 non-null   float64\n",
      " 15  HIV/AIDS                         2938 non-null   float64\n",
      " 16  GDP                              2490 non-null   float64\n",
      " 17  Population                       2286 non-null   float64\n",
      " 18  Thinness 1-19 years              2904 non-null   float64\n",
      " 19  Income composition of resources  2771 non-null   float64\n",
      " 20  Schooling                        2775 non-null   float64\n",
      "dtypes: float64(15), int64(4), object(2)\n",
      "memory usage: 482.1+ KB\n"
     ]
    }
   ],
   "source": [
    "data_raw.info()"
   ]
  },
  {
   "cell_type": "markdown",
   "id": "2deacdbf",
   "metadata": {},
   "source": [
    "# Обработка категориальных признаков"
   ]
  },
  {
   "cell_type": "markdown",
   "id": "c3cceb15",
   "metadata": {},
   "source": [
    "Из таблицы выше видно, что признаки \"Country\" и \"Status\" являются категориальными, поока они имеют тип 'Object'. Обработаем их, преобразовав тип к необходимому для обработки категориальных значений"
   ]
  },
  {
   "cell_type": "code",
   "execution_count": 9,
   "id": "0f65e479",
   "metadata": {},
   "outputs": [],
   "source": [
    "data_raw['Country'] = data_raw['Country'].astype('category')\n",
    "data_raw['Status'] = data_raw['Status'].astype('category')"
   ]
  },
  {
   "cell_type": "code",
   "execution_count": 10,
   "id": "779cfc0f",
   "metadata": {},
   "outputs": [
    {
     "data": {
      "text/plain": [
       "CategoricalDtype(categories=['Developed', 'Developing'], ordered=False)"
      ]
     },
     "execution_count": 10,
     "metadata": {},
     "output_type": "execute_result"
    }
   ],
   "source": [
    "data_raw['Status'].dtype"
   ]
  },
  {
   "cell_type": "code",
   "execution_count": 11,
   "id": "ec23d83c",
   "metadata": {},
   "outputs": [
    {
     "data": {
      "text/plain": [
       "CategoricalDtype(categories=['Afghanistan', 'Albania', 'Algeria', 'Angola',\n",
       "                  'Antigua and Barbuda', 'Argentina', 'Armenia', 'Australia',\n",
       "                  'Austria', 'Azerbaijan',\n",
       "                  ...\n",
       "                  'United Republic of Tanzania', 'United States of America',\n",
       "                  'Uruguay', 'Uzbekistan', 'Vanuatu',\n",
       "                  'Venezuela (Bolivarian Republic of)', 'Viet Nam', 'Yemen',\n",
       "                  'Zambia', 'Zimbabwe'],\n",
       ", ordered=False)"
      ]
     },
     "execution_count": 11,
     "metadata": {},
     "output_type": "execute_result"
    }
   ],
   "source": [
    "data_raw['Country'].dtype"
   ]
  },
  {
   "cell_type": "code",
   "execution_count": 12,
   "id": "dba034e2",
   "metadata": {},
   "outputs": [
    {
     "name": "stdout",
     "output_type": "stream",
     "text": [
      "<class 'pandas.core.frame.DataFrame'>\n",
      "RangeIndex: 2938 entries, 0 to 2937\n",
      "Data columns (total 21 columns):\n",
      " #   Column                           Non-Null Count  Dtype   \n",
      "---  ------                           --------------  -----   \n",
      " 0   Country                          2938 non-null   category\n",
      " 1   Year                             2938 non-null   int64   \n",
      " 2   Status                           2938 non-null   category\n",
      " 3   Life expectancy                  2928 non-null   float64 \n",
      " 4   Adult Mortality                  2928 non-null   float64 \n",
      " 5   infant deaths                    2938 non-null   int64   \n",
      " 6   Alcohol                          2744 non-null   float64 \n",
      " 7   percentage expenditure           2938 non-null   float64 \n",
      " 8   Hepatitis B                      2385 non-null   float64 \n",
      " 9   Measles                          2938 non-null   int64   \n",
      " 10  BMI                              2904 non-null   float64 \n",
      " 11  Under-five deaths                2938 non-null   int64   \n",
      " 12  Polio                            2919 non-null   float64 \n",
      " 13  Total expenditure                2712 non-null   float64 \n",
      " 14  Diphtheria                       2919 non-null   float64 \n",
      " 15  HIV/AIDS                         2938 non-null   float64 \n",
      " 16  GDP                              2490 non-null   float64 \n",
      " 17  Population                       2286 non-null   float64 \n",
      " 18  Thinness 1-19 years              2904 non-null   float64 \n",
      " 19  Income composition of resources  2771 non-null   float64 \n",
      " 20  Schooling                        2775 non-null   float64 \n",
      "dtypes: category(2), float64(15), int64(4)\n",
      "memory usage: 450.5 KB\n"
     ]
    }
   ],
   "source": [
    "data_raw.info()"
   ]
  },
  {
   "cell_type": "markdown",
   "id": "f8771007",
   "metadata": {},
   "source": [
    "# Обработка выбросов"
   ]
  },
  {
   "cell_type": "markdown",
   "id": "7eb139a7",
   "metadata": {},
   "source": [
    "Построим диаграммы рассеивания для признаков 'infant deaths' и 'Schooling'"
   ]
  },
  {
   "cell_type": "code",
   "execution_count": 13,
   "id": "ee7b73e0",
   "metadata": {},
   "outputs": [
    {
     "data": {
      "image/png": "[encoded data removed]",
      "text/plain": [
       "<Figure size 432x288 with 1 Axes>"
      ]
     },
     "metadata": {
      "needs_background": "light"
     },
     "output_type": "display_data"
    }
   ],
   "source": [
    "plt.scatter(data_raw['infant deaths'], data_raw['Schooling'], alpha=1)\n",
    "plt.xlabel('infant deaths')\n",
    "plt.ylabel('Schooling')\n",
    "pass"
   ]
  },
  {
   "cell_type": "markdown",
   "id": "357ea2e4",
   "metadata": {},
   "source": [
    "Основная масса точек расположена в левой части графика, но некоторые точки сильно выбиваются из общей массы. Найдем квантили для этих признаков"
   ]
  },
  {
   "cell_type": "code",
   "execution_count": 14,
   "id": "7a907321",
   "metadata": {},
   "outputs": [
    {
     "data": {
      "text/plain": [
       "0.100       0.00\n",
       "0.500       3.00\n",
       "0.700      14.00\n",
       "0.900      58.00\n",
       "0.950      94.15\n",
       "0.999    1700.00\n",
       "1.000    1800.00\n",
       "Name: infant deaths, dtype: float64"
      ]
     },
     "execution_count": 14,
     "metadata": {},
     "output_type": "execute_result"
    }
   ],
   "source": [
    "data_raw['infant deaths'].quantile([.1,.5,.70, .90, .95, .999, 1])"
   ]
  },
  {
   "cell_type": "code",
   "execution_count": 15,
   "id": "531aedf7",
   "metadata": {},
   "outputs": [
    {
     "data": {
      "text/plain": [
       "0.100     7.7000\n",
       "0.500    12.3000\n",
       "0.700    13.8000\n",
       "0.900    15.9000\n",
       "0.950    16.8000\n",
       "0.999    20.4226\n",
       "1.000    20.7000\n",
       "Name: Schooling, dtype: float64"
      ]
     },
     "execution_count": 15,
     "metadata": {},
     "output_type": "execute_result"
    }
   ],
   "source": [
    "data_raw['Schooling'].quantile([.1,.5,.70, .90, .95, .999, 1])"
   ]
  },
  {
   "cell_type": "markdown",
   "id": "85329423",
   "metadata": {},
   "source": [
    "Аналогично построим диаграмму рассеивания для признаков 'Life expectancy' и 'Population' и найдем квантили для них"
   ]
  },
  {
   "cell_type": "code",
   "execution_count": 16,
   "id": "86e4b927",
   "metadata": {},
   "outputs": [
    {
     "data": {
      "image/png": "[encoded data removed]",
      "text/plain": [
       "<Figure size 432x288 with 1 Axes>"
      ]
     },
     "metadata": {
      "needs_background": "light"
     },
     "output_type": "display_data"
    }
   ],
   "source": [
    "plt.scatter(data_raw['Life expectancy'], data_raw['Population'], alpha=1)\n",
    "plt.xlabel('Life expectancy')\n",
    "plt.ylabel('Population')\n",
    "pass"
   ]
  },
  {
   "cell_type": "code",
   "execution_count": 17,
   "id": "482b87c8",
   "metadata": {},
   "outputs": [
    {
     "data": {
      "text/plain": [
       "0.100    2.938250e+04\n",
       "0.500    1.386542e+06\n",
       "0.700    5.416702e+06\n",
       "0.900    2.578714e+07\n",
       "0.950    4.755442e+07\n",
       "0.999    1.156888e+09\n",
       "1.000    1.293859e+09\n",
       "Name: Population, dtype: float64"
      ]
     },
     "execution_count": 17,
     "metadata": {},
     "output_type": "execute_result"
    }
   ],
   "source": [
    "data_raw['Population'].quantile([.1,.5,.70, .90, .95, .999, 1])"
   ]
  },
  {
   "cell_type": "code",
   "execution_count": 18,
   "id": "96b48338",
   "metadata": {},
   "outputs": [
    {
     "data": {
      "text/plain": [
       "0.100    54.8\n",
       "0.500    72.1\n",
       "0.700    74.9\n",
       "0.900    79.7\n",
       "0.950    82.0\n",
       "0.999    89.0\n",
       "1.000    89.0\n",
       "Name: Life expectancy, dtype: float64"
      ]
     },
     "execution_count": 18,
     "metadata": {},
     "output_type": "execute_result"
    }
   ],
   "source": [
    "data_raw['Life expectancy'].quantile([.1,.5,.70, .90, .95, .999, 1])"
   ]
  },
  {
   "cell_type": "markdown",
   "id": "41d37671",
   "metadata": {},
   "source": [
    "Также посмотрим диаграмму рассеивания для признаков 'Measles' и 'Population'  и для 'infant deaths' и 'GDP'"
   ]
  },
  {
   "cell_type": "code",
   "execution_count": 19,
   "id": "7b0ee58c",
   "metadata": {},
   "outputs": [
    {
     "data": {
      "image/png": "[encoded data removed]",
      "text/plain": [
       "<Figure size 432x288 with 1 Axes>"
      ]
     },
     "metadata": {
      "needs_background": "light"
     },
     "output_type": "display_data"
    }
   ],
   "source": [
    "plt.scatter(data_raw['Measles'], data_raw['Population'], alpha=1)\n",
    "plt.xlabel('Measles')\n",
    "plt.ylabel('Population')\n",
    "pass"
   ]
  },
  {
   "cell_type": "code",
   "execution_count": 20,
   "id": "988917b6",
   "metadata": {},
   "outputs": [
    {
     "data": {
      "text/plain": [
       "0.1000         0.0000\n",
       "0.5000        17.0000\n",
       "0.7000       192.9000\n",
       "0.9000      3580.1000\n",
       "0.9500      9985.5500\n",
       "0.9965     97026.4075\n",
       "1.0000    212183.0000\n",
       "Name: Measles, dtype: float64"
      ]
     },
     "execution_count": 20,
     "metadata": {},
     "output_type": "execute_result"
    }
   ],
   "source": [
    "data_raw['Measles'].quantile([.1,.5,.70, .90, .95, .9965, 1]) "
   ]
  },
  {
   "cell_type": "code",
   "execution_count": 21,
   "id": "968146c9",
   "metadata": {},
   "outputs": [
    {
     "data": {
      "image/png": "[encoded data removed]",
      "text/plain": [
       "<Figure size 432x288 with 1 Axes>"
      ]
     },
     "metadata": {
      "needs_background": "light"
     },
     "output_type": "display_data"
    }
   ],
   "source": [
    "plt.scatter(data_raw['infant deaths'], data_raw['GDP'], alpha=1)\n",
    "plt.xlabel('infant deaths')\n",
    "plt.ylabel('GDP')\n",
    "pass"
   ]
  },
  {
   "cell_type": "code",
   "execution_count": 22,
   "id": "6283a569",
   "metadata": {},
   "outputs": [
    {
     "data": {
      "text/plain": [
       "0.100       161.462132\n",
       "0.500      1766.947595\n",
       "0.700      4691.110315\n",
       "0.900     23726.139730\n",
       "0.950     41606.848325\n",
       "0.998     88590.670532\n",
       "1.000    119172.741800\n",
       "Name: GDP, dtype: float64"
      ]
     },
     "execution_count": 22,
     "metadata": {},
     "output_type": "execute_result"
    }
   ],
   "source": [
    "data_raw['GDP'].quantile([.1,.5,.70, .90, .95, .998, 1]) "
   ]
  },
  {
   "cell_type": "markdown",
   "id": "29e9d288",
   "metadata": {},
   "source": [
    "Для признака 'Population' и 'infant deaths' уберем значения, которые превышают значения квантиля равное 0.95, аналогично сделаем и для остальных 2 признаков ( для 'Measles' выше 0.9965, для 'GDP' выщк 0.998)"
   ]
  },
  {
   "cell_type": "code",
   "execution_count": 23,
   "id": "4e31889e",
   "metadata": {},
   "outputs": [
    {
     "data": {
      "text/plain": [
       "(2714, 21)"
      ]
     },
     "execution_count": 23,
     "metadata": {},
     "output_type": "execute_result"
    }
   ],
   "source": [
    "rows_to_drop = data_raw[\n",
    "    (data_raw['Population'] > data_raw['Population'].quantile(0.95)) | (data_raw['Measles'] > data_raw['Measles'].quantile(0.9965))| (data_raw['infant deaths'] > data_raw['infant deaths'].quantile(0.95)) | (data_raw['GDP'] > data_raw['GDP'].quantile(0.998))].index\n",
    "data_raw = data_raw.drop(rows_to_drop)\n",
    "data_raw.shape"
   ]
  },
  {
   "cell_type": "markdown",
   "id": "be4f0ea2",
   "metadata": {},
   "source": [
    "# Визуализация и получение основных характеристик"
   ]
  },
  {
   "cell_type": "markdown",
   "id": "af1e448d",
   "metadata": {},
   "source": [
    "Выведем сводную информацию о признаках"
   ]
  },
  {
   "cell_type": "code",
   "execution_count": 24,
   "id": "7a463972",
   "metadata": {},
   "outputs": [
    {
     "data": {
      "text/html": [
       "<div>\n",
       "<style scoped>\n",
       "    .dataframe tbody tr th:only-of-type {\n",
       "        vertical-align: middle;\n",
       "    }\n",
       "\n",
       "    .dataframe tbody tr th {\n",
       "        vertical-align: top;\n",
       "    }\n",
       "\n",
       "    .dataframe thead th {\n",
       "        text-align: right;\n",
       "    }\n",
       "</style>\n",
       "<table border=\"1\" class=\"dataframe\">\n",
       "  <thead>\n",
       "    <tr style=\"text-align: right;\">\n",
       "      <th></th>\n",
       "      <th>Year</th>\n",
       "      <th>Life expectancy</th>\n",
       "      <th>Adult Mortality</th>\n",
       "      <th>infant deaths</th>\n",
       "      <th>Alcohol</th>\n",
       "      <th>percentage expenditure</th>\n",
       "      <th>Hepatitis B</th>\n",
       "      <th>Measles</th>\n",
       "      <th>BMI</th>\n",
       "      <th>Under-five deaths</th>\n",
       "      <th>Polio</th>\n",
       "      <th>Total expenditure</th>\n",
       "      <th>Diphtheria</th>\n",
       "      <th>HIV/AIDS</th>\n",
       "      <th>GDP</th>\n",
       "      <th>Population</th>\n",
       "      <th>Thinness 1-19 years</th>\n",
       "      <th>Income composition of resources</th>\n",
       "      <th>Schooling</th>\n",
       "    </tr>\n",
       "  </thead>\n",
       "  <tbody>\n",
       "    <tr>\n",
       "      <th>count</th>\n",
       "      <td>2714.000000</td>\n",
       "      <td>2704.000000</td>\n",
       "      <td>2704.000000</td>\n",
       "      <td>2714.000000</td>\n",
       "      <td>2530.000000</td>\n",
       "      <td>2714.000000</td>\n",
       "      <td>2199.000000</td>\n",
       "      <td>2714.000000</td>\n",
       "      <td>2680.000000</td>\n",
       "      <td>2714.000000</td>\n",
       "      <td>2695.000000</td>\n",
       "      <td>2498.000000</td>\n",
       "      <td>2695.000000</td>\n",
       "      <td>2714.000000</td>\n",
       "      <td>2289.000000</td>\n",
       "      <td>2.085000e+03</td>\n",
       "      <td>2680.000000</td>\n",
       "      <td>2570.000000</td>\n",
       "      <td>2574.000000</td>\n",
       "    </tr>\n",
       "    <tr>\n",
       "      <th>mean</th>\n",
       "      <td>2007.553427</td>\n",
       "      <td>69.506435</td>\n",
       "      <td>163.197115</td>\n",
       "      <td>11.934046</td>\n",
       "      <td>4.636984</td>\n",
       "      <td>731.576031</td>\n",
       "      <td>81.985903</td>\n",
       "      <td>1002.412307</td>\n",
       "      <td>39.324291</td>\n",
       "      <td>17.072587</td>\n",
       "      <td>83.247866</td>\n",
       "      <td>6.057894</td>\n",
       "      <td>83.019295</td>\n",
       "      <td>1.736993</td>\n",
       "      <td>7529.425558</td>\n",
       "      <td>5.090313e+06</td>\n",
       "      <td>4.552873</td>\n",
       "      <td>0.630200</td>\n",
       "      <td>12.082945</td>\n",
       "    </tr>\n",
       "    <tr>\n",
       "      <th>std</th>\n",
       "      <td>4.613908</td>\n",
       "      <td>9.446323</td>\n",
       "      <td>123.709788</td>\n",
       "      <td>19.265514</td>\n",
       "      <td>4.049584</td>\n",
       "      <td>1913.780444</td>\n",
       "      <td>24.308157</td>\n",
       "      <td>4205.772270</td>\n",
       "      <td>19.893542</td>\n",
       "      <td>28.930059</td>\n",
       "      <td>23.013459</td>\n",
       "      <td>2.490787</td>\n",
       "      <td>23.331899</td>\n",
       "      <td>5.179996</td>\n",
       "      <td>13785.900033</td>\n",
       "      <td>8.967422e+06</td>\n",
       "      <td>3.872855</td>\n",
       "      <td>0.213153</td>\n",
       "      <td>3.363644</td>\n",
       "    </tr>\n",
       "    <tr>\n",
       "      <th>min</th>\n",
       "      <td>2000.000000</td>\n",
       "      <td>36.300000</td>\n",
       "      <td>1.000000</td>\n",
       "      <td>0.000000</td>\n",
       "      <td>0.010000</td>\n",
       "      <td>0.000000</td>\n",
       "      <td>1.000000</td>\n",
       "      <td>0.000000</td>\n",
       "      <td>1.000000</td>\n",
       "      <td>0.000000</td>\n",
       "      <td>3.000000</td>\n",
       "      <td>0.370000</td>\n",
       "      <td>2.000000</td>\n",
       "      <td>0.100000</td>\n",
       "      <td>1.681350</td>\n",
       "      <td>3.400000e+01</td>\n",
       "      <td>0.100000</td>\n",
       "      <td>0.000000</td>\n",
       "      <td>0.000000</td>\n",
       "    </tr>\n",
       "    <tr>\n",
       "      <th>25%</th>\n",
       "      <td>2004.000000</td>\n",
       "      <td>63.400000</td>\n",
       "      <td>73.000000</td>\n",
       "      <td>0.000000</td>\n",
       "      <td>0.912500</td>\n",
       "      <td>4.380458</td>\n",
       "      <td>79.000000</td>\n",
       "      <td>0.000000</td>\n",
       "      <td>21.300000</td>\n",
       "      <td>0.000000</td>\n",
       "      <td>79.000000</td>\n",
       "      <td>4.400000</td>\n",
       "      <td>81.000000</td>\n",
       "      <td>0.100000</td>\n",
       "      <td>473.844449</td>\n",
       "      <td>1.711610e+05</td>\n",
       "      <td>1.600000</td>\n",
       "      <td>0.494000</td>\n",
       "      <td>10.300000</td>\n",
       "    </tr>\n",
       "    <tr>\n",
       "      <th>50%</th>\n",
       "      <td>2008.000000</td>\n",
       "      <td>72.400000</td>\n",
       "      <td>142.000000</td>\n",
       "      <td>2.000000</td>\n",
       "      <td>3.805000</td>\n",
       "      <td>70.143724</td>\n",
       "      <td>92.000000</td>\n",
       "      <td>10.000000</td>\n",
       "      <td>45.000000</td>\n",
       "      <td>3.000000</td>\n",
       "      <td>93.000000</td>\n",
       "      <td>5.870000</td>\n",
       "      <td>93.000000</td>\n",
       "      <td>0.100000</td>\n",
       "      <td>1886.433359</td>\n",
       "      <td>1.186873e+06</td>\n",
       "      <td>3.300000</td>\n",
       "      <td>0.683000</td>\n",
       "      <td>12.400000</td>\n",
       "    </tr>\n",
       "    <tr>\n",
       "      <th>75%</th>\n",
       "      <td>2012.000000</td>\n",
       "      <td>75.900000</td>\n",
       "      <td>226.000000</td>\n",
       "      <td>15.000000</td>\n",
       "      <td>7.747500</td>\n",
       "      <td>462.192952</td>\n",
       "      <td>97.000000</td>\n",
       "      <td>211.750000</td>\n",
       "      <td>56.425000</td>\n",
       "      <td>20.000000</td>\n",
       "      <td>97.000000</td>\n",
       "      <td>7.595000</td>\n",
       "      <td>97.000000</td>\n",
       "      <td>0.700000</td>\n",
       "      <td>6387.785281</td>\n",
       "      <td>5.547683e+06</td>\n",
       "      <td>7.000000</td>\n",
       "      <td>0.782750</td>\n",
       "      <td>14.300000</td>\n",
       "    </tr>\n",
       "    <tr>\n",
       "      <th>max</th>\n",
       "      <td>2015.000000</td>\n",
       "      <td>89.000000</td>\n",
       "      <td>723.000000</td>\n",
       "      <td>94.000000</td>\n",
       "      <td>17.870000</td>\n",
       "      <td>19479.911610</td>\n",
       "      <td>99.000000</td>\n",
       "      <td>63057.000000</td>\n",
       "      <td>87.300000</td>\n",
       "      <td>152.000000</td>\n",
       "      <td>99.000000</td>\n",
       "      <td>17.600000</td>\n",
       "      <td>99.000000</td>\n",
       "      <td>50.600000</td>\n",
       "      <td>88564.822980</td>\n",
       "      <td>4.734298e+07</td>\n",
       "      <td>19.900000</td>\n",
       "      <td>0.948000</td>\n",
       "      <td>20.700000</td>\n",
       "    </tr>\n",
       "  </tbody>\n",
       "</table>\n",
       "</div>"
      ],
      "text/plain": [
       "              Year  Life expectancy  Adult Mortality  infant deaths  \\\n",
       "count  2714.000000      2704.000000      2704.000000    2714.000000   \n",
       "mean   2007.553427        69.506435       163.197115      11.934046   \n",
       "std       4.613908         9.446323       123.709788      19.265514   \n",
       "min    2000.000000        36.300000         1.000000       0.000000   \n",
       "25%    2004.000000        63.400000        73.000000       0.000000   \n",
       "50%    2008.000000        72.400000       142.000000       2.000000   \n",
       "75%    2012.000000        75.900000       226.000000      15.000000   \n",
       "max    2015.000000        89.000000       723.000000      94.000000   \n",
       "\n",
       "           Alcohol  percentage expenditure  Hepatitis B       Measles  \\\n",
       "count  2530.000000             2714.000000  2199.000000   2714.000000   \n",
       "mean      4.636984              731.576031    81.985903   1002.412307   \n",
       "std       4.049584             1913.780444    24.308157   4205.772270   \n",
       "min       0.010000                0.000000     1.000000      0.000000   \n",
       "25%       0.912500                4.380458    79.000000      0.000000   \n",
       "50%       3.805000               70.143724    92.000000     10.000000   \n",
       "75%       7.747500              462.192952    97.000000    211.750000   \n",
       "max      17.870000            19479.911610    99.000000  63057.000000   \n",
       "\n",
       "               BMI  Under-five deaths        Polio  Total expenditure  \\\n",
       "count  2680.000000        2714.000000  2695.000000        2498.000000   \n",
       "mean     39.324291          17.072587    83.247866           6.057894   \n",
       "std      19.893542          28.930059    23.013459           2.490787   \n",
       "min       1.000000           0.000000     3.000000           0.370000   \n",
       "25%      21.300000           0.000000    79.000000           4.400000   \n",
       "50%      45.000000           3.000000    93.000000           5.870000   \n",
       "75%      56.425000          20.000000    97.000000           7.595000   \n",
       "max      87.300000         152.000000    99.000000          17.600000   \n",
       "\n",
       "        Diphtheria     HIV/AIDS           GDP    Population  \\\n",
       "count  2695.000000  2714.000000   2289.000000  2.085000e+03   \n",
       "mean     83.019295     1.736993   7529.425558  5.090313e+06   \n",
       "std      23.331899     5.179996  13785.900033  8.967422e+06   \n",
       "min       2.000000     0.100000      1.681350  3.400000e+01   \n",
       "25%      81.000000     0.100000    473.844449  1.711610e+05   \n",
       "50%      93.000000     0.100000   1886.433359  1.186873e+06   \n",
       "75%      97.000000     0.700000   6387.785281  5.547683e+06   \n",
       "max      99.000000    50.600000  88564.822980  4.734298e+07   \n",
       "\n",
       "       Thinness 1-19 years  Income composition of resources    Schooling  \n",
       "count          2680.000000                      2570.000000  2574.000000  \n",
       "mean              4.552873                         0.630200    12.082945  \n",
       "std               3.872855                         0.213153     3.363644  \n",
       "min               0.100000                         0.000000     0.000000  \n",
       "25%               1.600000                         0.494000    10.300000  \n",
       "50%               3.300000                         0.683000    12.400000  \n",
       "75%               7.000000                         0.782750    14.300000  \n",
       "max              19.900000                         0.948000    20.700000  "
      ]
     },
     "execution_count": 24,
     "metadata": {},
     "output_type": "execute_result"
    }
   ],
   "source": [
    "data_raw.describe()"
   ]
  },
  {
   "cell_type": "markdown",
   "id": "ec9f9e7a",
   "metadata": {},
   "source": [
    "В описании можно увидеть:\n",
    "\n",
    "- count - количество значений для каждого признака. В нашем случае, в таблице все значения различны из-за пропущенных.\n",
    "- mean - среднее значение\n",
    "- std - стандартное отклонение\n",
    "- min/max - минимальное / максимальное значение\n",
    "- 25% - первый квартиль\n",
    "- 50% - медиана\n",
    "- 75% - третий квартиль"
   ]
  },
  {
   "cell_type": "code",
   "execution_count": 25,
   "id": "f474b3c1",
   "metadata": {},
   "outputs": [
    {
     "data": {
      "text/html": [
       "<div>\n",
       "<style scoped>\n",
       "    .dataframe tbody tr th:only-of-type {\n",
       "        vertical-align: middle;\n",
       "    }\n",
       "\n",
       "    .dataframe tbody tr th {\n",
       "        vertical-align: top;\n",
       "    }\n",
       "\n",
       "    .dataframe thead th {\n",
       "        text-align: right;\n",
       "    }\n",
       "</style>\n",
       "<table border=\"1\" class=\"dataframe\">\n",
       "  <thead>\n",
       "    <tr style=\"text-align: right;\">\n",
       "      <th></th>\n",
       "      <th>Country</th>\n",
       "      <th>Status</th>\n",
       "    </tr>\n",
       "  </thead>\n",
       "  <tbody>\n",
       "    <tr>\n",
       "      <th>count</th>\n",
       "      <td>2714</td>\n",
       "      <td>2714</td>\n",
       "    </tr>\n",
       "    <tr>\n",
       "      <th>unique</th>\n",
       "      <td>186</td>\n",
       "      <td>2</td>\n",
       "    </tr>\n",
       "    <tr>\n",
       "      <th>top</th>\n",
       "      <td>Afghanistan</td>\n",
       "      <td>Developing</td>\n",
       "    </tr>\n",
       "    <tr>\n",
       "      <th>freq</th>\n",
       "      <td>16</td>\n",
       "      <td>2221</td>\n",
       "    </tr>\n",
       "  </tbody>\n",
       "</table>\n",
       "</div>"
      ],
      "text/plain": [
       "            Country      Status\n",
       "count          2714        2714\n",
       "unique          186           2\n",
       "top     Afghanistan  Developing\n",
       "freq             16        2221"
      ]
     },
     "execution_count": 25,
     "metadata": {},
     "output_type": "execute_result"
    }
   ],
   "source": [
    "data_raw.describe(include=['category'])"
   ]
  },
  {
   "cell_type": "markdown",
   "id": "a3adb84a",
   "metadata": {},
   "source": [
    "Для категориальных признаков мы получили:\n",
    "\n",
    "- count - количество значений.\n",
    "- unique - количество уникальных значений.\n",
    "- top - наиболее встречающееся значение.\n",
    "- freq - частота наиболее встречающегося значения."
   ]
  },
  {
   "cell_type": "markdown",
   "id": "2be66b76",
   "metadata": {},
   "source": [
    "## Вычислим матрицу корреляции"
   ]
  },
  {
   "cell_type": "code",
   "execution_count": 26,
   "id": "034933d6",
   "metadata": {},
   "outputs": [
    {
     "data": {
      "text/html": [
       "<div>\n",
       "<style scoped>\n",
       "    .dataframe tbody tr th:only-of-type {\n",
       "        vertical-align: middle;\n",
       "    }\n",
       "\n",
       "    .dataframe tbody tr th {\n",
       "        vertical-align: top;\n",
       "    }\n",
       "\n",
       "    .dataframe thead th {\n",
       "        text-align: right;\n",
       "    }\n",
       "</style>\n",
       "<table border=\"1\" class=\"dataframe\">\n",
       "  <thead>\n",
       "    <tr style=\"text-align: right;\">\n",
       "      <th></th>\n",
       "      <th>Year</th>\n",
       "      <th>Life expectancy</th>\n",
       "      <th>Adult Mortality</th>\n",
       "      <th>infant deaths</th>\n",
       "      <th>Alcohol</th>\n",
       "      <th>percentage expenditure</th>\n",
       "      <th>Hepatitis B</th>\n",
       "      <th>Measles</th>\n",
       "      <th>BMI</th>\n",
       "      <th>Under-five deaths</th>\n",
       "      <th>Polio</th>\n",
       "      <th>Total expenditure</th>\n",
       "      <th>Diphtheria</th>\n",
       "      <th>HIV/AIDS</th>\n",
       "      <th>GDP</th>\n",
       "      <th>Population</th>\n",
       "      <th>Thinness 1-19 years</th>\n",
       "      <th>Income composition of resources</th>\n",
       "      <th>Schooling</th>\n",
       "    </tr>\n",
       "  </thead>\n",
       "  <tbody>\n",
       "    <tr>\n",
       "      <th>Year</th>\n",
       "      <td>1.000000</td>\n",
       "      <td>0.157953</td>\n",
       "      <td>-0.078868</td>\n",
       "      <td>-0.035790</td>\n",
       "      <td>-0.053931</td>\n",
       "      <td>0.022834</td>\n",
       "      <td>0.087603</td>\n",
       "      <td>-0.137437</td>\n",
       "      <td>0.104106</td>\n",
       "      <td>-0.045939</td>\n",
       "      <td>0.085865</td>\n",
       "      <td>0.080434</td>\n",
       "      <td>0.123969</td>\n",
       "      <td>-0.138105</td>\n",
       "      <td>0.094773</td>\n",
       "      <td>0.057791</td>\n",
       "      <td>-0.040338</td>\n",
       "      <td>0.239366</td>\n",
       "      <td>0.204931</td>\n",
       "    </tr>\n",
       "    <tr>\n",
       "      <th>Life expectancy</th>\n",
       "      <td>0.157953</td>\n",
       "      <td>1.000000</td>\n",
       "      <td>-0.705250</td>\n",
       "      <td>-0.567194</td>\n",
       "      <td>0.421094</td>\n",
       "      <td>0.380257</td>\n",
       "      <td>0.236214</td>\n",
       "      <td>-0.175337</td>\n",
       "      <td>0.562136</td>\n",
       "      <td>-0.601500</td>\n",
       "      <td>0.444379</td>\n",
       "      <td>0.201465</td>\n",
       "      <td>0.449129</td>\n",
       "      <td>-0.559225</td>\n",
       "      <td>0.463977</td>\n",
       "      <td>-0.008967</td>\n",
       "      <td>-0.516859</td>\n",
       "      <td>0.717205</td>\n",
       "      <td>0.754119</td>\n",
       "    </tr>\n",
       "    <tr>\n",
       "      <th>Adult Mortality</th>\n",
       "      <td>-0.078868</td>\n",
       "      <td>-0.705250</td>\n",
       "      <td>1.000000</td>\n",
       "      <td>0.385208</td>\n",
       "      <td>-0.210282</td>\n",
       "      <td>-0.245226</td>\n",
       "      <td>-0.153775</td>\n",
       "      <td>0.100226</td>\n",
       "      <td>-0.395072</td>\n",
       "      <td>0.402869</td>\n",
       "      <td>-0.270321</td>\n",
       "      <td>-0.120452</td>\n",
       "      <td>-0.262118</td>\n",
       "      <td>0.523702</td>\n",
       "      <td>-0.303282</td>\n",
       "      <td>0.027695</td>\n",
       "      <td>0.360560</td>\n",
       "      <td>-0.463920</td>\n",
       "      <td>-0.468045</td>\n",
       "    </tr>\n",
       "    <tr>\n",
       "      <th>infant deaths</th>\n",
       "      <td>-0.035790</td>\n",
       "      <td>-0.567194</td>\n",
       "      <td>0.385208</td>\n",
       "      <td>1.000000</td>\n",
       "      <td>-0.311331</td>\n",
       "      <td>-0.199356</td>\n",
       "      <td>-0.190520</td>\n",
       "      <td>0.285019</td>\n",
       "      <td>-0.400459</td>\n",
       "      <td>0.988739</td>\n",
       "      <td>-0.325247</td>\n",
       "      <td>-0.059154</td>\n",
       "      <td>-0.308875</td>\n",
       "      <td>0.215520</td>\n",
       "      <td>-0.256933</td>\n",
       "      <td>0.308747</td>\n",
       "      <td>0.395714</td>\n",
       "      <td>-0.399641</td>\n",
       "      <td>-0.495304</td>\n",
       "    </tr>\n",
       "    <tr>\n",
       "      <th>Alcohol</th>\n",
       "      <td>-0.053931</td>\n",
       "      <td>0.421094</td>\n",
       "      <td>-0.210282</td>\n",
       "      <td>-0.311331</td>\n",
       "      <td>1.000000</td>\n",
       "      <td>0.328278</td>\n",
       "      <td>0.092313</td>\n",
       "      <td>-0.095142</td>\n",
       "      <td>0.316314</td>\n",
       "      <td>-0.304246</td>\n",
       "      <td>0.221067</td>\n",
       "      <td>0.283795</td>\n",
       "      <td>0.222196</td>\n",
       "      <td>-0.063403</td>\n",
       "      <td>0.342174</td>\n",
       "      <td>-0.024475</td>\n",
       "      <td>-0.457988</td>\n",
       "      <td>0.454354</td>\n",
       "      <td>0.543224</td>\n",
       "    </tr>\n",
       "    <tr>\n",
       "      <th>percentage expenditure</th>\n",
       "      <td>0.022834</td>\n",
       "      <td>0.380257</td>\n",
       "      <td>-0.245226</td>\n",
       "      <td>-0.199356</td>\n",
       "      <td>0.328278</td>\n",
       "      <td>1.000000</td>\n",
       "      <td>0.002544</td>\n",
       "      <td>-0.038841</td>\n",
       "      <td>0.225541</td>\n",
       "      <td>-0.193356</td>\n",
       "      <td>0.137936</td>\n",
       "      <td>0.173113</td>\n",
       "      <td>0.132499</td>\n",
       "      <td>-0.098448</td>\n",
       "      <td>0.885888</td>\n",
       "      <td>0.002141</td>\n",
       "      <td>-0.263311</td>\n",
       "      <td>0.380606</td>\n",
       "      <td>0.398152</td>\n",
       "    </tr>\n",
       "    <tr>\n",
       "      <th>Hepatitis B</th>\n",
       "      <td>0.087603</td>\n",
       "      <td>0.236214</td>\n",
       "      <td>-0.153775</td>\n",
       "      <td>-0.190520</td>\n",
       "      <td>0.092313</td>\n",
       "      <td>0.002544</td>\n",
       "      <td>1.000000</td>\n",
       "      <td>-0.086734</td>\n",
       "      <td>0.119908</td>\n",
       "      <td>-0.202107</td>\n",
       "      <td>0.494058</td>\n",
       "      <td>0.023982</td>\n",
       "      <td>0.613914</td>\n",
       "      <td>-0.115789</td>\n",
       "      <td>0.074370</td>\n",
       "      <td>-0.014527</td>\n",
       "      <td>-0.069764</td>\n",
       "      <td>0.190314</td>\n",
       "      <td>0.219036</td>\n",
       "    </tr>\n",
       "    <tr>\n",
       "      <th>Measles</th>\n",
       "      <td>-0.137437</td>\n",
       "      <td>-0.175337</td>\n",
       "      <td>0.100226</td>\n",
       "      <td>0.285019</td>\n",
       "      <td>-0.095142</td>\n",
       "      <td>-0.038841</td>\n",
       "      <td>-0.086734</td>\n",
       "      <td>1.000000</td>\n",
       "      <td>-0.156124</td>\n",
       "      <td>0.312182</td>\n",
       "      <td>-0.140433</td>\n",
       "      <td>-0.031450</td>\n",
       "      <td>-0.135217</td>\n",
       "      <td>0.050027</td>\n",
       "      <td>-0.062081</td>\n",
       "      <td>0.045153</td>\n",
       "      <td>0.163695</td>\n",
       "      <td>-0.129043</td>\n",
       "      <td>-0.187972</td>\n",
       "    </tr>\n",
       "    <tr>\n",
       "      <th>BMI</th>\n",
       "      <td>0.104106</td>\n",
       "      <td>0.562136</td>\n",
       "      <td>-0.395072</td>\n",
       "      <td>-0.400459</td>\n",
       "      <td>0.316314</td>\n",
       "      <td>0.225541</td>\n",
       "      <td>0.119908</td>\n",
       "      <td>-0.156124</td>\n",
       "      <td>1.000000</td>\n",
       "      <td>-0.420711</td>\n",
       "      <td>0.260985</td>\n",
       "      <td>0.206488</td>\n",
       "      <td>0.259791</td>\n",
       "      <td>-0.253364</td>\n",
       "      <td>0.301958</td>\n",
       "      <td>-0.002789</td>\n",
       "      <td>-0.552536</td>\n",
       "      <td>0.499346</td>\n",
       "      <td>0.527662</td>\n",
       "    </tr>\n",
       "    <tr>\n",
       "      <th>Under-five deaths</th>\n",
       "      <td>-0.045939</td>\n",
       "      <td>-0.601500</td>\n",
       "      <td>0.402869</td>\n",
       "      <td>0.988739</td>\n",
       "      <td>-0.304246</td>\n",
       "      <td>-0.193356</td>\n",
       "      <td>-0.202107</td>\n",
       "      <td>0.312182</td>\n",
       "      <td>-0.420711</td>\n",
       "      <td>1.000000</td>\n",
       "      <td>-0.348351</td>\n",
       "      <td>-0.060889</td>\n",
       "      <td>-0.334739</td>\n",
       "      <td>0.233740</td>\n",
       "      <td>-0.251571</td>\n",
       "      <td>0.282781</td>\n",
       "      <td>0.397677</td>\n",
       "      <td>-0.427161</td>\n",
       "      <td>-0.524643</td>\n",
       "    </tr>\n",
       "    <tr>\n",
       "      <th>Polio</th>\n",
       "      <td>0.085865</td>\n",
       "      <td>0.444379</td>\n",
       "      <td>-0.270321</td>\n",
       "      <td>-0.325247</td>\n",
       "      <td>0.221067</td>\n",
       "      <td>0.137936</td>\n",
       "      <td>0.494058</td>\n",
       "      <td>-0.140433</td>\n",
       "      <td>0.260985</td>\n",
       "      <td>-0.348351</td>\n",
       "      <td>1.000000</td>\n",
       "      <td>0.113770</td>\n",
       "      <td>0.667436</td>\n",
       "      <td>-0.158646</td>\n",
       "      <td>0.205730</td>\n",
       "      <td>-0.021689</td>\n",
       "      <td>-0.225012</td>\n",
       "      <td>0.362692</td>\n",
       "      <td>0.402413</td>\n",
       "    </tr>\n",
       "    <tr>\n",
       "      <th>Total expenditure</th>\n",
       "      <td>0.080434</td>\n",
       "      <td>0.201465</td>\n",
       "      <td>-0.120452</td>\n",
       "      <td>-0.059154</td>\n",
       "      <td>0.283795</td>\n",
       "      <td>0.173113</td>\n",
       "      <td>0.023982</td>\n",
       "      <td>-0.031450</td>\n",
       "      <td>0.206488</td>\n",
       "      <td>-0.060889</td>\n",
       "      <td>0.113770</td>\n",
       "      <td>1.000000</td>\n",
       "      <td>0.133678</td>\n",
       "      <td>-0.008415</td>\n",
       "      <td>0.124594</td>\n",
       "      <td>-0.016648</td>\n",
       "      <td>-0.255979</td>\n",
       "      <td>0.152039</td>\n",
       "      <td>0.219831</td>\n",
       "    </tr>\n",
       "    <tr>\n",
       "      <th>Diphtheria</th>\n",
       "      <td>0.123969</td>\n",
       "      <td>0.449129</td>\n",
       "      <td>-0.262118</td>\n",
       "      <td>-0.308875</td>\n",
       "      <td>0.222196</td>\n",
       "      <td>0.132499</td>\n",
       "      <td>0.613914</td>\n",
       "      <td>-0.135217</td>\n",
       "      <td>0.259791</td>\n",
       "      <td>-0.334739</td>\n",
       "      <td>0.667436</td>\n",
       "      <td>0.133678</td>\n",
       "      <td>1.000000</td>\n",
       "      <td>-0.157944</td>\n",
       "      <td>0.192140</td>\n",
       "      <td>-0.011354</td>\n",
       "      <td>-0.209726</td>\n",
       "      <td>0.377377</td>\n",
       "      <td>0.405335</td>\n",
       "    </tr>\n",
       "    <tr>\n",
       "      <th>HIV/AIDS</th>\n",
       "      <td>-0.138105</td>\n",
       "      <td>-0.559225</td>\n",
       "      <td>0.523702</td>\n",
       "      <td>0.215520</td>\n",
       "      <td>-0.063403</td>\n",
       "      <td>-0.098448</td>\n",
       "      <td>-0.115789</td>\n",
       "      <td>0.050027</td>\n",
       "      <td>-0.253364</td>\n",
       "      <td>0.233740</td>\n",
       "      <td>-0.158646</td>\n",
       "      <td>-0.008415</td>\n",
       "      <td>-0.157944</td>\n",
       "      <td>1.000000</td>\n",
       "      <td>-0.141943</td>\n",
       "      <td>0.007390</td>\n",
       "      <td>0.243272</td>\n",
       "      <td>-0.246213</td>\n",
       "      <td>-0.227825</td>\n",
       "    </tr>\n",
       "    <tr>\n",
       "      <th>GDP</th>\n",
       "      <td>0.094773</td>\n",
       "      <td>0.463977</td>\n",
       "      <td>-0.303282</td>\n",
       "      <td>-0.256933</td>\n",
       "      <td>0.342174</td>\n",
       "      <td>0.885888</td>\n",
       "      <td>0.074370</td>\n",
       "      <td>-0.062081</td>\n",
       "      <td>0.301958</td>\n",
       "      <td>-0.251571</td>\n",
       "      <td>0.205730</td>\n",
       "      <td>0.124594</td>\n",
       "      <td>0.192140</td>\n",
       "      <td>-0.141943</td>\n",
       "      <td>1.000000</td>\n",
       "      <td>0.003311</td>\n",
       "      <td>-0.298314</td>\n",
       "      <td>0.462320</td>\n",
       "      <td>0.456951</td>\n",
       "    </tr>\n",
       "    <tr>\n",
       "      <th>Population</th>\n",
       "      <td>0.057791</td>\n",
       "      <td>-0.008967</td>\n",
       "      <td>0.027695</td>\n",
       "      <td>0.308747</td>\n",
       "      <td>-0.024475</td>\n",
       "      <td>0.002141</td>\n",
       "      <td>-0.014527</td>\n",
       "      <td>0.045153</td>\n",
       "      <td>-0.002789</td>\n",
       "      <td>0.282781</td>\n",
       "      <td>-0.021689</td>\n",
       "      <td>-0.016648</td>\n",
       "      <td>-0.011354</td>\n",
       "      <td>0.007390</td>\n",
       "      <td>0.003311</td>\n",
       "      <td>1.000000</td>\n",
       "      <td>0.046721</td>\n",
       "      <td>0.023280</td>\n",
       "      <td>-0.010085</td>\n",
       "    </tr>\n",
       "    <tr>\n",
       "      <th>Thinness 1-19 years</th>\n",
       "      <td>-0.040338</td>\n",
       "      <td>-0.516859</td>\n",
       "      <td>0.360560</td>\n",
       "      <td>0.395714</td>\n",
       "      <td>-0.457988</td>\n",
       "      <td>-0.263311</td>\n",
       "      <td>-0.069764</td>\n",
       "      <td>0.163695</td>\n",
       "      <td>-0.552536</td>\n",
       "      <td>0.397677</td>\n",
       "      <td>-0.225012</td>\n",
       "      <td>-0.255979</td>\n",
       "      <td>-0.209726</td>\n",
       "      <td>0.243272</td>\n",
       "      <td>-0.298314</td>\n",
       "      <td>0.046721</td>\n",
       "      <td>1.000000</td>\n",
       "      <td>-0.440496</td>\n",
       "      <td>-0.476318</td>\n",
       "    </tr>\n",
       "    <tr>\n",
       "      <th>Income composition of resources</th>\n",
       "      <td>0.239366</td>\n",
       "      <td>0.717205</td>\n",
       "      <td>-0.463920</td>\n",
       "      <td>-0.399641</td>\n",
       "      <td>0.454354</td>\n",
       "      <td>0.380606</td>\n",
       "      <td>0.190314</td>\n",
       "      <td>-0.129043</td>\n",
       "      <td>0.499346</td>\n",
       "      <td>-0.427161</td>\n",
       "      <td>0.362692</td>\n",
       "      <td>0.152039</td>\n",
       "      <td>0.377377</td>\n",
       "      <td>-0.246213</td>\n",
       "      <td>0.462320</td>\n",
       "      <td>0.023280</td>\n",
       "      <td>-0.440496</td>\n",
       "      <td>1.000000</td>\n",
       "      <td>0.797015</td>\n",
       "    </tr>\n",
       "    <tr>\n",
       "      <th>Schooling</th>\n",
       "      <td>0.204931</td>\n",
       "      <td>0.754119</td>\n",
       "      <td>-0.468045</td>\n",
       "      <td>-0.495304</td>\n",
       "      <td>0.543224</td>\n",
       "      <td>0.398152</td>\n",
       "      <td>0.219036</td>\n",
       "      <td>-0.187972</td>\n",
       "      <td>0.527662</td>\n",
       "      <td>-0.524643</td>\n",
       "      <td>0.402413</td>\n",
       "      <td>0.219831</td>\n",
       "      <td>0.405335</td>\n",
       "      <td>-0.227825</td>\n",
       "      <td>0.456951</td>\n",
       "      <td>-0.010085</td>\n",
       "      <td>-0.476318</td>\n",
       "      <td>0.797015</td>\n",
       "      <td>1.000000</td>\n",
       "    </tr>\n",
       "  </tbody>\n",
       "</table>\n",
       "</div>"
      ],
      "text/plain": [
       "                                     Year  Life expectancy  Adult Mortality  \\\n",
       "Year                             1.000000         0.157953        -0.078868   \n",
       "Life expectancy                  0.157953         1.000000        -0.705250   \n",
       "Adult Mortality                 -0.078868        -0.705250         1.000000   \n",
       "infant deaths                   -0.035790        -0.567194         0.385208   \n",
       "Alcohol                         -0.053931         0.421094        -0.210282   \n",
       "percentage expenditure           0.022834         0.380257        -0.245226   \n",
       "Hepatitis B                      0.087603         0.236214        -0.153775   \n",
       "Measles                         -0.137437        -0.175337         0.100226   \n",
       "BMI                              0.104106         0.562136        -0.395072   \n",
       "Under-five deaths               -0.045939        -0.601500         0.402869   \n",
       "Polio                            0.085865         0.444379        -0.270321   \n",
       "Total expenditure                0.080434         0.201465        -0.120452   \n",
       "Diphtheria                       0.123969         0.449129        -0.262118   \n",
       "HIV/AIDS                        -0.138105        -0.559225         0.523702   \n",
       "GDP                              0.094773         0.463977        -0.303282   \n",
       "Population                       0.057791        -0.008967         0.027695   \n",
       "Thinness 1-19 years             -0.040338        -0.516859         0.360560   \n",
       "Income composition of resources  0.239366         0.717205        -0.463920   \n",
       "Schooling                        0.204931         0.754119        -0.468045   \n",
       "\n",
       "                                 infant deaths   Alcohol  \\\n",
       "Year                                 -0.035790 -0.053931   \n",
       "Life expectancy                      -0.567194  0.421094   \n",
       "Adult Mortality                       0.385208 -0.210282   \n",
       "infant deaths                         1.000000 -0.311331   \n",
       "Alcohol                              -0.311331  1.000000   \n",
       "percentage expenditure               -0.199356  0.328278   \n",
       "Hepatitis B                          -0.190520  0.092313   \n",
       "Measles                               0.285019 -0.095142   \n",
       "BMI                                  -0.400459  0.316314   \n",
       "Under-five deaths                     0.988739 -0.304246   \n",
       "Polio                                -0.325247  0.221067   \n",
       "Total expenditure                    -0.059154  0.283795   \n",
       "Diphtheria                           -0.308875  0.222196   \n",
       "HIV/AIDS                              0.215520 -0.063403   \n",
       "GDP                                  -0.256933  0.342174   \n",
       "Population                            0.308747 -0.024475   \n",
       "Thinness 1-19 years                   0.395714 -0.457988   \n",
       "Income composition of resources      -0.399641  0.454354   \n",
       "Schooling                            -0.495304  0.543224   \n",
       "\n",
       "                                 percentage expenditure  Hepatitis B  \\\n",
       "Year                                           0.022834     0.087603   \n",
       "Life expectancy                                0.380257     0.236214   \n",
       "Adult Mortality                               -0.245226    -0.153775   \n",
       "infant deaths                                 -0.199356    -0.190520   \n",
       "Alcohol                                        0.328278     0.092313   \n",
       "percentage expenditure                         1.000000     0.002544   \n",
       "Hepatitis B                                    0.002544     1.000000   \n",
       "Measles                                       -0.038841    -0.086734   \n",
       "BMI                                            0.225541     0.119908   \n",
       "Under-five deaths                             -0.193356    -0.202107   \n",
       "Polio                                          0.137936     0.494058   \n",
       "Total expenditure                              0.173113     0.023982   \n",
       "Diphtheria                                     0.132499     0.613914   \n",
       "HIV/AIDS                                      -0.098448    -0.115789   \n",
       "GDP                                            0.885888     0.074370   \n",
       "Population                                     0.002141    -0.014527   \n",
       "Thinness 1-19 years                           -0.263311    -0.069764   \n",
       "Income composition of resources                0.380606     0.190314   \n",
       "Schooling                                      0.398152     0.219036   \n",
       "\n",
       "                                  Measles       BMI  Under-five deaths  \\\n",
       "Year                            -0.137437  0.104106          -0.045939   \n",
       "Life expectancy                 -0.175337  0.562136          -0.601500   \n",
       "Adult Mortality                  0.100226 -0.395072           0.402869   \n",
       "infant deaths                    0.285019 -0.400459           0.988739   \n",
       "Alcohol                         -0.095142  0.316314          -0.304246   \n",
       "percentage expenditure          -0.038841  0.225541          -0.193356   \n",
       "Hepatitis B                     -0.086734  0.119908          -0.202107   \n",
       "Measles                          1.000000 -0.156124           0.312182   \n",
       "BMI                             -0.156124  1.000000          -0.420711   \n",
       "Under-five deaths                0.312182 -0.420711           1.000000   \n",
       "Polio                           -0.140433  0.260985          -0.348351   \n",
       "Total expenditure               -0.031450  0.206488          -0.060889   \n",
       "Diphtheria                      -0.135217  0.259791          -0.334739   \n",
       "HIV/AIDS                         0.050027 -0.253364           0.233740   \n",
       "GDP                             -0.062081  0.301958          -0.251571   \n",
       "Population                       0.045153 -0.002789           0.282781   \n",
       "Thinness 1-19 years              0.163695 -0.552536           0.397677   \n",
       "Income composition of resources -0.129043  0.499346          -0.427161   \n",
       "Schooling                       -0.187972  0.527662          -0.524643   \n",
       "\n",
       "                                    Polio  Total expenditure  Diphtheria  \\\n",
       "Year                             0.085865           0.080434    0.123969   \n",
       "Life expectancy                  0.444379           0.201465    0.449129   \n",
       "Adult Mortality                 -0.270321          -0.120452   -0.262118   \n",
       "infant deaths                   -0.325247          -0.059154   -0.308875   \n",
       "Alcohol                          0.221067           0.283795    0.222196   \n",
       "percentage expenditure           0.137936           0.173113    0.132499   \n",
       "Hepatitis B                      0.494058           0.023982    0.613914   \n",
       "Measles                         -0.140433          -0.031450   -0.135217   \n",
       "BMI                              0.260985           0.206488    0.259791   \n",
       "Under-five deaths               -0.348351          -0.060889   -0.334739   \n",
       "Polio                            1.000000           0.113770    0.667436   \n",
       "Total expenditure                0.113770           1.000000    0.133678   \n",
       "Diphtheria                       0.667436           0.133678    1.000000   \n",
       "HIV/AIDS                        -0.158646          -0.008415   -0.157944   \n",
       "GDP                              0.205730           0.124594    0.192140   \n",
       "Population                      -0.021689          -0.016648   -0.011354   \n",
       "Thinness 1-19 years             -0.225012          -0.255979   -0.209726   \n",
       "Income composition of resources  0.362692           0.152039    0.377377   \n",
       "Schooling                        0.402413           0.219831    0.405335   \n",
       "\n",
       "                                 HIV/AIDS       GDP  Population  \\\n",
       "Year                            -0.138105  0.094773    0.057791   \n",
       "Life expectancy                 -0.559225  0.463977   -0.008967   \n",
       "Adult Mortality                  0.523702 -0.303282    0.027695   \n",
       "infant deaths                    0.215520 -0.256933    0.308747   \n",
       "Alcohol                         -0.063403  0.342174   -0.024475   \n",
       "percentage expenditure          -0.098448  0.885888    0.002141   \n",
       "Hepatitis B                     -0.115789  0.074370   -0.014527   \n",
       "Measles                          0.050027 -0.062081    0.045153   \n",
       "BMI                             -0.253364  0.301958   -0.002789   \n",
       "Under-five deaths                0.233740 -0.251571    0.282781   \n",
       "Polio                           -0.158646  0.205730   -0.021689   \n",
       "Total expenditure               -0.008415  0.124594   -0.016648   \n",
       "Diphtheria                      -0.157944  0.192140   -0.011354   \n",
       "HIV/AIDS                         1.000000 -0.141943    0.007390   \n",
       "GDP                             -0.141943  1.000000    0.003311   \n",
       "Population                       0.007390  0.003311    1.000000   \n",
       "Thinness 1-19 years              0.243272 -0.298314    0.046721   \n",
       "Income composition of resources -0.246213  0.462320    0.023280   \n",
       "Schooling                       -0.227825  0.456951   -0.010085   \n",
       "\n",
       "                                 Thinness 1-19 years  \\\n",
       "Year                                       -0.040338   \n",
       "Life expectancy                            -0.516859   \n",
       "Adult Mortality                             0.360560   \n",
       "infant deaths                               0.395714   \n",
       "Alcohol                                    -0.457988   \n",
       "percentage expenditure                     -0.263311   \n",
       "Hepatitis B                                -0.069764   \n",
       "Measles                                     0.163695   \n",
       "BMI                                        -0.552536   \n",
       "Under-five deaths                           0.397677   \n",
       "Polio                                      -0.225012   \n",
       "Total expenditure                          -0.255979   \n",
       "Diphtheria                                 -0.209726   \n",
       "HIV/AIDS                                    0.243272   \n",
       "GDP                                        -0.298314   \n",
       "Population                                  0.046721   \n",
       "Thinness 1-19 years                         1.000000   \n",
       "Income composition of resources            -0.440496   \n",
       "Schooling                                  -0.476318   \n",
       "\n",
       "                                 Income composition of resources  Schooling  \n",
       "Year                                                    0.239366   0.204931  \n",
       "Life expectancy                                         0.717205   0.754119  \n",
       "Adult Mortality                                        -0.463920  -0.468045  \n",
       "infant deaths                                          -0.399641  -0.495304  \n",
       "Alcohol                                                 0.454354   0.543224  \n",
       "percentage expenditure                                  0.380606   0.398152  \n",
       "Hepatitis B                                             0.190314   0.219036  \n",
       "Measles                                                -0.129043  -0.187972  \n",
       "BMI                                                     0.499346   0.527662  \n",
       "Under-five deaths                                      -0.427161  -0.524643  \n",
       "Polio                                                   0.362692   0.402413  \n",
       "Total expenditure                                       0.152039   0.219831  \n",
       "Diphtheria                                              0.377377   0.405335  \n",
       "HIV/AIDS                                               -0.246213  -0.227825  \n",
       "GDP                                                     0.462320   0.456951  \n",
       "Population                                              0.023280  -0.010085  \n",
       "Thinness 1-19 years                                    -0.440496  -0.476318  \n",
       "Income composition of resources                         1.000000   0.797015  \n",
       "Schooling                                               0.797015   1.000000  "
      ]
     },
     "execution_count": 26,
     "metadata": {},
     "output_type": "execute_result"
    }
   ],
   "source": [
    "corr_matrix = data_raw.corr()\n",
    "corr_matrix"
   ]
  },
  {
   "cell_type": "code",
   "execution_count": 27,
   "id": "f86e73d3",
   "metadata": {},
   "outputs": [
    {
     "data": {
      "image/png": "[encoded data removed]",
      "text/plain": [
       "<Figure size 432x288 with 2 Axes>"
      ]
     },
     "metadata": {
      "needs_background": "light"
     },
     "output_type": "display_data"
    }
   ],
   "source": [
    "sns.heatmap(corr_matrix, square=True, cmap='coolwarm', vmin=-1.0, vmax=1.0)\n",
    "pass"
   ]
  },
  {
   "cell_type": "markdown",
   "id": "7d6944e2",
   "metadata": {},
   "source": [
    "Коэффициенты корреляции близкие к 1 имеют признаки Schooling и Income composition of resources, остальные признаки не так сильно коррелируют друг с другом"
   ]
  },
  {
   "cell_type": "code",
   "execution_count": 28,
   "id": "5c679179",
   "metadata": {},
   "outputs": [
    {
     "data": {
      "text/plain": [
       "Developing    2221\n",
       "Developed      493\n",
       "Name: Status, dtype: int64"
      ]
     },
     "execution_count": 28,
     "metadata": {},
     "output_type": "execute_result"
    }
   ],
   "source": [
    "data_raw['Status'].value_counts()"
   ]
  },
  {
   "cell_type": "code",
   "execution_count": 29,
   "id": "e32a6cc9",
   "metadata": {},
   "outputs": [
    {
     "data": {
      "image/png": "[encoded data removed]",
      "text/plain": [
       "<Figure size 432x288 with 1 Axes>"
      ]
     },
     "metadata": {
      "needs_background": "light"
     },
     "output_type": "display_data"
    }
   ],
   "source": [
    "sns.countplot(x='Status', data=data_raw)\n",
    "pass"
   ]
  },
  {
   "cell_type": "markdown",
   "id": "542d943e",
   "metadata": {},
   "source": [
    "Рассмотрев страны по статусу, можно увидеть, что количество развивающихся стран значительно выше"
   ]
  },
  {
   "cell_type": "markdown",
   "id": "a6ab2f41",
   "metadata": {},
   "source": [
    "# Обработка пропущенных значений"
   ]
  },
  {
   "cell_type": "markdown",
   "id": "0d8f2445",
   "metadata": {},
   "source": [
    "Посмотрим, в каких строках у нас пропущены значения"
   ]
  },
  {
   "cell_type": "code",
   "execution_count": 30,
   "id": "e15f6e5d",
   "metadata": {},
   "outputs": [
    {
     "data": {
      "text/plain": [
       "Country                              0\n",
       "Year                                 0\n",
       "Status                               0\n",
       "Life expectancy                     10\n",
       "Adult Mortality                     10\n",
       "infant deaths                        0\n",
       "Alcohol                            184\n",
       "percentage expenditure               0\n",
       "Hepatitis B                        515\n",
       "Measles                              0\n",
       "BMI                                 34\n",
       "Under-five deaths                    0\n",
       "Polio                               19\n",
       "Total expenditure                  216\n",
       "Diphtheria                          19\n",
       "HIV/AIDS                             0\n",
       "GDP                                425\n",
       "Population                         629\n",
       "Thinness 1-19 years                 34\n",
       "Income composition of resources    144\n",
       "Schooling                          140\n",
       "dtype: int64"
      ]
     },
     "execution_count": 30,
     "metadata": {},
     "output_type": "execute_result"
    }
   ],
   "source": [
    "data_raw.isna().sum()"
   ]
  },
  {
   "cell_type": "markdown",
   "id": "49741f4a",
   "metadata": {},
   "source": [
    "Пропущенные значения варьируются от 10 до 629. Заполним пропущенные значения, которые больше 34, медианой"
   ]
  },
  {
   "cell_type": "code",
   "execution_count": 31,
   "id": "56c2adeb",
   "metadata": {},
   "outputs": [],
   "source": [
    "data_raw[\"Population\"].fillna(data_raw[\"Population\"].median(axis = 0), axis=0 , inplace=True)\n",
    "data_raw[\"Hepatitis B\"].fillna(data_raw[\"Hepatitis B\"].median(axis = 0), axis=0 , inplace=True)\n",
    "data_raw[\"GDP\"].fillna(data_raw[\"GDP\"].median(axis = 0), axis=0 , inplace=True)\n",
    "data_raw[\"Total expenditure\"].fillna(data_raw[\"Total expenditure\"].median(axis = 0), axis=0 , inplace=True)\n",
    "data_raw[\"Alcohol\"].fillna(data_raw[\"Alcohol\"].median(axis = 0), axis=0 , inplace=True)\n",
    "data_raw[\"Income composition of resources\"].fillna(data_raw[\"Income composition of resources\"].median(axis = 0), axis=0 , inplace=True)\n",
    "data_raw[\"Schooling\"].fillna(data_raw[\"Schooling\"].median(axis = 0), axis=0 , inplace=True)"
   ]
  },
  {
   "cell_type": "code",
   "execution_count": 32,
   "id": "fbac211c",
   "metadata": {},
   "outputs": [
    {
     "data": {
      "text/plain": [
       "Country                             0\n",
       "Year                                0\n",
       "Status                              0\n",
       "Life expectancy                    10\n",
       "Adult Mortality                    10\n",
       "infant deaths                       0\n",
       "Alcohol                             0\n",
       "percentage expenditure              0\n",
       "Hepatitis B                         0\n",
       "Measles                             0\n",
       "BMI                                34\n",
       "Under-five deaths                   0\n",
       "Polio                              19\n",
       "Total expenditure                   0\n",
       "Diphtheria                         19\n",
       "HIV/AIDS                            0\n",
       "GDP                                 0\n",
       "Population                          0\n",
       "Thinness 1-19 years                34\n",
       "Income composition of resources     0\n",
       "Schooling                           0\n",
       "dtype: int64"
      ]
     },
     "execution_count": 32,
     "metadata": {},
     "output_type": "execute_result"
    }
   ],
   "source": [
    "data_raw.isna().sum()"
   ]
  },
  {
   "cell_type": "markdown",
   "id": "d19eba9f",
   "metadata": {},
   "source": [
    "Остальные признаки имеют слишком малое кол-во пропущенных значений, поэтому можем просто удалить строчки с недостающими значениями"
   ]
  },
  {
   "cell_type": "code",
   "execution_count": 33,
   "id": "e9c840c9",
   "metadata": {},
   "outputs": [
    {
     "name": "stdout",
     "output_type": "stream",
     "text": [
      "(2664, 21)\n"
     ]
    },
    {
     "data": {
      "text/plain": [
       "Country                            0\n",
       "Year                               0\n",
       "Status                             0\n",
       "Life expectancy                    0\n",
       "Adult Mortality                    0\n",
       "infant deaths                      0\n",
       "Alcohol                            0\n",
       "percentage expenditure             0\n",
       "Hepatitis B                        0\n",
       "Measles                            0\n",
       "BMI                                0\n",
       "Under-five deaths                  0\n",
       "Polio                              0\n",
       "Total expenditure                  0\n",
       "Diphtheria                         0\n",
       "HIV/AIDS                           0\n",
       "GDP                                0\n",
       "Population                         0\n",
       "Thinness 1-19 years                0\n",
       "Income composition of resources    0\n",
       "Schooling                          0\n",
       "dtype: int64"
      ]
     },
     "execution_count": 33,
     "metadata": {},
     "output_type": "execute_result"
    }
   ],
   "source": [
    "data_raw.dropna(axis=0, how='all', subset=['Life expectancy'], inplace=True)\n",
    "data_raw.dropna(axis=0, how='all', subset=['Adult Mortality'], inplace=True)\n",
    "data_raw.dropna(axis=0, how='all', subset=['BMI'], inplace=True)\n",
    "data_raw.dropna(axis=0, how='all', subset=['Polio'], inplace=True)\n",
    "data_raw.dropna(axis=0, how='all', subset=['Diphtheria'], inplace=True)\n",
    "data_raw.dropna(axis=0, how='all', subset=['Thinness 1-19 years'], inplace=True)\n",
    "print(data_raw.shape)\n",
    "data_raw.isna().sum()"
   ]
  },
  {
   "cell_type": "markdown",
   "id": "240057af",
   "metadata": {},
   "source": [
    "# Обработка категориальных значений"
   ]
  },
  {
   "cell_type": "markdown",
   "id": "f597e7c3",
   "metadata": {},
   "source": [
    "Так как категориальный признак 'Status' выражен в буквенной форме, закодируем его с помощью числового признака"
   ]
  },
  {
   "cell_type": "code",
   "execution_count": 34,
   "id": "5d7ab0a9",
   "metadata": {},
   "outputs": [
    {
     "data": {
      "text/html": [
       "<div>\n",
       "<style scoped>\n",
       "    .dataframe tbody tr th:only-of-type {\n",
       "        vertical-align: middle;\n",
       "    }\n",
       "\n",
       "    .dataframe tbody tr th {\n",
       "        vertical-align: top;\n",
       "    }\n",
       "\n",
       "    .dataframe thead th {\n",
       "        text-align: right;\n",
       "    }\n",
       "</style>\n",
       "<table border=\"1\" class=\"dataframe\">\n",
       "  <thead>\n",
       "    <tr style=\"text-align: right;\">\n",
       "      <th></th>\n",
       "      <th>Country</th>\n",
       "      <th>Year</th>\n",
       "      <th>Status</th>\n",
       "      <th>Life expectancy</th>\n",
       "      <th>Adult Mortality</th>\n",
       "      <th>infant deaths</th>\n",
       "      <th>Alcohol</th>\n",
       "      <th>percentage expenditure</th>\n",
       "      <th>Hepatitis B</th>\n",
       "      <th>Measles</th>\n",
       "      <th>...</th>\n",
       "      <th>Under-five deaths</th>\n",
       "      <th>Polio</th>\n",
       "      <th>Total expenditure</th>\n",
       "      <th>Diphtheria</th>\n",
       "      <th>HIV/AIDS</th>\n",
       "      <th>GDP</th>\n",
       "      <th>Population</th>\n",
       "      <th>Thinness 1-19 years</th>\n",
       "      <th>Income composition of resources</th>\n",
       "      <th>Schooling</th>\n",
       "    </tr>\n",
       "  </thead>\n",
       "  <tbody>\n",
       "    <tr>\n",
       "      <th>0</th>\n",
       "      <td>Afghanistan</td>\n",
       "      <td>2015</td>\n",
       "      <td>0</td>\n",
       "      <td>65.0</td>\n",
       "      <td>263.0</td>\n",
       "      <td>62</td>\n",
       "      <td>0.01</td>\n",
       "      <td>71.279624</td>\n",
       "      <td>65.0</td>\n",
       "      <td>1154</td>\n",
       "      <td>...</td>\n",
       "      <td>83</td>\n",
       "      <td>6.0</td>\n",
       "      <td>8.16</td>\n",
       "      <td>65.0</td>\n",
       "      <td>0.1</td>\n",
       "      <td>584.259210</td>\n",
       "      <td>33736494.0</td>\n",
       "      <td>17.2</td>\n",
       "      <td>0.479</td>\n",
       "      <td>10.1</td>\n",
       "    </tr>\n",
       "    <tr>\n",
       "      <th>1</th>\n",
       "      <td>Afghanistan</td>\n",
       "      <td>2014</td>\n",
       "      <td>0</td>\n",
       "      <td>59.9</td>\n",
       "      <td>271.0</td>\n",
       "      <td>64</td>\n",
       "      <td>0.01</td>\n",
       "      <td>73.523582</td>\n",
       "      <td>62.0</td>\n",
       "      <td>492</td>\n",
       "      <td>...</td>\n",
       "      <td>86</td>\n",
       "      <td>58.0</td>\n",
       "      <td>8.18</td>\n",
       "      <td>62.0</td>\n",
       "      <td>0.1</td>\n",
       "      <td>612.696514</td>\n",
       "      <td>327582.0</td>\n",
       "      <td>17.5</td>\n",
       "      <td>0.476</td>\n",
       "      <td>10.0</td>\n",
       "    </tr>\n",
       "    <tr>\n",
       "      <th>2</th>\n",
       "      <td>Afghanistan</td>\n",
       "      <td>2013</td>\n",
       "      <td>0</td>\n",
       "      <td>59.9</td>\n",
       "      <td>268.0</td>\n",
       "      <td>66</td>\n",
       "      <td>0.01</td>\n",
       "      <td>73.219243</td>\n",
       "      <td>64.0</td>\n",
       "      <td>430</td>\n",
       "      <td>...</td>\n",
       "      <td>89</td>\n",
       "      <td>62.0</td>\n",
       "      <td>8.13</td>\n",
       "      <td>64.0</td>\n",
       "      <td>0.1</td>\n",
       "      <td>631.744976</td>\n",
       "      <td>31731688.0</td>\n",
       "      <td>17.7</td>\n",
       "      <td>0.470</td>\n",
       "      <td>9.9</td>\n",
       "    </tr>\n",
       "    <tr>\n",
       "      <th>3</th>\n",
       "      <td>Afghanistan</td>\n",
       "      <td>2012</td>\n",
       "      <td>0</td>\n",
       "      <td>59.5</td>\n",
       "      <td>272.0</td>\n",
       "      <td>69</td>\n",
       "      <td>0.01</td>\n",
       "      <td>78.184215</td>\n",
       "      <td>67.0</td>\n",
       "      <td>2787</td>\n",
       "      <td>...</td>\n",
       "      <td>93</td>\n",
       "      <td>67.0</td>\n",
       "      <td>8.52</td>\n",
       "      <td>67.0</td>\n",
       "      <td>0.1</td>\n",
       "      <td>669.959000</td>\n",
       "      <td>3696958.0</td>\n",
       "      <td>17.9</td>\n",
       "      <td>0.463</td>\n",
       "      <td>9.8</td>\n",
       "    </tr>\n",
       "    <tr>\n",
       "      <th>4</th>\n",
       "      <td>Afghanistan</td>\n",
       "      <td>2011</td>\n",
       "      <td>0</td>\n",
       "      <td>59.2</td>\n",
       "      <td>275.0</td>\n",
       "      <td>71</td>\n",
       "      <td>0.01</td>\n",
       "      <td>7.097109</td>\n",
       "      <td>68.0</td>\n",
       "      <td>3013</td>\n",
       "      <td>...</td>\n",
       "      <td>97</td>\n",
       "      <td>68.0</td>\n",
       "      <td>7.87</td>\n",
       "      <td>68.0</td>\n",
       "      <td>0.1</td>\n",
       "      <td>63.537231</td>\n",
       "      <td>2978599.0</td>\n",
       "      <td>18.2</td>\n",
       "      <td>0.454</td>\n",
       "      <td>9.5</td>\n",
       "    </tr>\n",
       "  </tbody>\n",
       "</table>\n",
       "<p>5 rows × 21 columns</p>\n",
       "</div>"
      ],
      "text/plain": [
       "       Country  Year  Status  Life expectancy  Adult Mortality  infant deaths  \\\n",
       "0  Afghanistan  2015       0             65.0            263.0             62   \n",
       "1  Afghanistan  2014       0             59.9            271.0             64   \n",
       "2  Afghanistan  2013       0             59.9            268.0             66   \n",
       "3  Afghanistan  2012       0             59.5            272.0             69   \n",
       "4  Afghanistan  2011       0             59.2            275.0             71   \n",
       "\n",
       "   Alcohol  percentage expenditure  Hepatitis B  Measles  ...  \\\n",
       "0     0.01               71.279624         65.0     1154  ...   \n",
       "1     0.01               73.523582         62.0      492  ...   \n",
       "2     0.01               73.219243         64.0      430  ...   \n",
       "3     0.01               78.184215         67.0     2787  ...   \n",
       "4     0.01                7.097109         68.0     3013  ...   \n",
       "\n",
       "   Under-five deaths  Polio  Total expenditure  Diphtheria  HIV/AIDS  \\\n",
       "0                 83    6.0               8.16        65.0       0.1   \n",
       "1                 86   58.0               8.18        62.0       0.1   \n",
       "2                 89   62.0               8.13        64.0       0.1   \n",
       "3                 93   67.0               8.52        67.0       0.1   \n",
       "4                 97   68.0               7.87        68.0       0.1   \n",
       "\n",
       "          GDP  Population  Thinness 1-19 years  \\\n",
       "0  584.259210  33736494.0                 17.2   \n",
       "1  612.696514    327582.0                 17.5   \n",
       "2  631.744976  31731688.0                 17.7   \n",
       "3  669.959000   3696958.0                 17.9   \n",
       "4   63.537231   2978599.0                 18.2   \n",
       "\n",
       "   Income composition of resources  Schooling  \n",
       "0                            0.479       10.1  \n",
       "1                            0.476       10.0  \n",
       "2                            0.470        9.9  \n",
       "3                            0.463        9.8  \n",
       "4                            0.454        9.5  \n",
       "\n",
       "[5 rows x 21 columns]"
      ]
     },
     "execution_count": 34,
     "metadata": {},
     "output_type": "execute_result"
    }
   ],
   "source": [
    "data_raw['Status'] = pd.factorize(data_raw['Status'])[0]\n",
    "data_raw.head()"
   ]
  },
  {
   "cell_type": "code",
   "execution_count": 35,
   "id": "b111dfee",
   "metadata": {},
   "outputs": [],
   "source": [
    "del data_raw['Country']"
   ]
  },
  {
   "cell_type": "markdown",
   "id": "e1a9d351",
   "metadata": {},
   "source": [
    "# Нормализация"
   ]
  },
  {
   "cell_type": "markdown",
   "id": "6107d62d",
   "metadata": {},
   "source": [
    "Проведем нормализацию с помощью линейного преобразования к отрезку [0,1]"
   ]
  },
  {
   "cell_type": "code",
   "execution_count": 36,
   "id": "3984c6ab",
   "metadata": {},
   "outputs": [
    {
     "data": {
      "text/html": [
       "<div>\n",
       "<style scoped>\n",
       "    .dataframe tbody tr th:only-of-type {\n",
       "        vertical-align: middle;\n",
       "    }\n",
       "\n",
       "    .dataframe tbody tr th {\n",
       "        vertical-align: top;\n",
       "    }\n",
       "\n",
       "    .dataframe thead th {\n",
       "        text-align: right;\n",
       "    }\n",
       "</style>\n",
       "<table border=\"1\" class=\"dataframe\">\n",
       "  <thead>\n",
       "    <tr style=\"text-align: right;\">\n",
       "      <th></th>\n",
       "      <th>Year</th>\n",
       "      <th>Status</th>\n",
       "      <th>Life expectancy</th>\n",
       "      <th>Adult Mortality</th>\n",
       "      <th>infant deaths</th>\n",
       "      <th>Alcohol</th>\n",
       "      <th>percentage expenditure</th>\n",
       "      <th>Hepatitis B</th>\n",
       "      <th>Measles</th>\n",
       "      <th>BMI</th>\n",
       "      <th>Under-five deaths</th>\n",
       "      <th>Polio</th>\n",
       "      <th>Total expenditure</th>\n",
       "      <th>Diphtheria</th>\n",
       "      <th>HIV/AIDS</th>\n",
       "      <th>GDP</th>\n",
       "      <th>Population</th>\n",
       "      <th>Thinness 1-19 years</th>\n",
       "      <th>Income composition of resources</th>\n",
       "      <th>Schooling</th>\n",
       "    </tr>\n",
       "  </thead>\n",
       "  <tbody>\n",
       "    <tr>\n",
       "      <th>count</th>\n",
       "      <td>2664.000000</td>\n",
       "      <td>2664.000000</td>\n",
       "      <td>2664.000000</td>\n",
       "      <td>2664.000000</td>\n",
       "      <td>2664.000000</td>\n",
       "      <td>2664.000000</td>\n",
       "      <td>2664.000000</td>\n",
       "      <td>2664.000000</td>\n",
       "      <td>2664.000000</td>\n",
       "      <td>2664.000000</td>\n",
       "      <td>2664.000000</td>\n",
       "      <td>2664.000000</td>\n",
       "      <td>2664.000000</td>\n",
       "      <td>2664.000000</td>\n",
       "      <td>2664.000000</td>\n",
       "      <td>2664.000000</td>\n",
       "      <td>2664.000000</td>\n",
       "      <td>2664.000000</td>\n",
       "      <td>2664.000000</td>\n",
       "      <td>2664.000000</td>\n",
       "    </tr>\n",
       "    <tr>\n",
       "      <th>mean</th>\n",
       "      <td>0.503353</td>\n",
       "      <td>0.185060</td>\n",
       "      <td>0.632743</td>\n",
       "      <td>0.222456</td>\n",
       "      <td>0.123415</td>\n",
       "      <td>0.258543</td>\n",
       "      <td>0.038174</td>\n",
       "      <td>0.845893</td>\n",
       "      <td>0.015869</td>\n",
       "      <td>0.498978</td>\n",
       "      <td>0.108881</td>\n",
       "      <td>0.837376</td>\n",
       "      <td>0.329000</td>\n",
       "      <td>0.836603</td>\n",
       "      <td>0.032579</td>\n",
       "      <td>0.076126</td>\n",
       "      <td>0.087206</td>\n",
       "      <td>0.225402</td>\n",
       "      <td>0.673069</td>\n",
       "      <td>0.590692</td>\n",
       "    </tr>\n",
       "    <tr>\n",
       "      <th>std</th>\n",
       "      <td>0.307097</td>\n",
       "      <td>0.388419</td>\n",
       "      <td>0.178555</td>\n",
       "      <td>0.170889</td>\n",
       "      <td>0.201511</td>\n",
       "      <td>0.219965</td>\n",
       "      <td>0.099050</td>\n",
       "      <td>0.226542</td>\n",
       "      <td>0.067157</td>\n",
       "      <td>0.258604</td>\n",
       "      <td>0.187003</td>\n",
       "      <td>0.238543</td>\n",
       "      <td>0.138058</td>\n",
       "      <td>0.239676</td>\n",
       "      <td>0.103427</td>\n",
       "      <td>0.145934</td>\n",
       "      <td>0.167526</td>\n",
       "      <td>0.195538</td>\n",
       "      <td>0.214078</td>\n",
       "      <td>0.149866</td>\n",
       "    </tr>\n",
       "    <tr>\n",
       "      <th>min</th>\n",
       "      <td>0.000000</td>\n",
       "      <td>0.000000</td>\n",
       "      <td>0.000000</td>\n",
       "      <td>0.000000</td>\n",
       "      <td>0.000000</td>\n",
       "      <td>0.000000</td>\n",
       "      <td>0.000000</td>\n",
       "      <td>0.000000</td>\n",
       "      <td>0.000000</td>\n",
       "      <td>0.000000</td>\n",
       "      <td>0.000000</td>\n",
       "      <td>0.000000</td>\n",
       "      <td>0.000000</td>\n",
       "      <td>0.000000</td>\n",
       "      <td>0.000000</td>\n",
       "      <td>0.000000</td>\n",
       "      <td>0.000000</td>\n",
       "      <td>0.000000</td>\n",
       "      <td>0.000000</td>\n",
       "      <td>0.000000</td>\n",
       "    </tr>\n",
       "    <tr>\n",
       "      <th>25%</th>\n",
       "      <td>0.266667</td>\n",
       "      <td>0.000000</td>\n",
       "      <td>0.521822</td>\n",
       "      <td>0.099723</td>\n",
       "      <td>0.000000</td>\n",
       "      <td>0.064250</td>\n",
       "      <td>0.000249</td>\n",
       "      <td>0.846939</td>\n",
       "      <td>0.000000</td>\n",
       "      <td>0.265013</td>\n",
       "      <td>0.000000</td>\n",
       "      <td>0.812500</td>\n",
       "      <td>0.242600</td>\n",
       "      <td>0.814433</td>\n",
       "      <td>0.000000</td>\n",
       "      <td>0.006920</td>\n",
       "      <td>0.007272</td>\n",
       "      <td>0.075758</td>\n",
       "      <td>0.543249</td>\n",
       "      <td>0.507246</td>\n",
       "    </tr>\n",
       "    <tr>\n",
       "      <th>50%</th>\n",
       "      <td>0.533333</td>\n",
       "      <td>0.000000</td>\n",
       "      <td>0.686907</td>\n",
       "      <td>0.191136</td>\n",
       "      <td>0.021277</td>\n",
       "      <td>0.212486</td>\n",
       "      <td>0.003675</td>\n",
       "      <td>0.928571</td>\n",
       "      <td>0.000174</td>\n",
       "      <td>0.573107</td>\n",
       "      <td>0.019737</td>\n",
       "      <td>0.937500</td>\n",
       "      <td>0.319211</td>\n",
       "      <td>0.938144</td>\n",
       "      <td>0.000000</td>\n",
       "      <td>0.021281</td>\n",
       "      <td>0.025069</td>\n",
       "      <td>0.161616</td>\n",
       "      <td>0.720464</td>\n",
       "      <td>0.599034</td>\n",
       "    </tr>\n",
       "    <tr>\n",
       "      <th>75%</th>\n",
       "      <td>0.800000</td>\n",
       "      <td>0.000000</td>\n",
       "      <td>0.753321</td>\n",
       "      <td>0.308864</td>\n",
       "      <td>0.148936</td>\n",
       "      <td>0.421053</td>\n",
       "      <td>0.024155</td>\n",
       "      <td>0.969388</td>\n",
       "      <td>0.003267</td>\n",
       "      <td>0.723238</td>\n",
       "      <td>0.118421</td>\n",
       "      <td>0.979167</td>\n",
       "      <td>0.409315</td>\n",
       "      <td>0.979381</td>\n",
       "      <td>0.011881</td>\n",
       "      <td>0.058608</td>\n",
       "      <td>0.073702</td>\n",
       "      <td>0.348485</td>\n",
       "      <td>0.821994</td>\n",
       "      <td>0.690821</td>\n",
       "    </tr>\n",
       "    <tr>\n",
       "      <th>max</th>\n",
       "      <td>1.000000</td>\n",
       "      <td>1.000000</td>\n",
       "      <td>1.000000</td>\n",
       "      <td>1.000000</td>\n",
       "      <td>1.000000</td>\n",
       "      <td>1.000000</td>\n",
       "      <td>1.000000</td>\n",
       "      <td>1.000000</td>\n",
       "      <td>1.000000</td>\n",
       "      <td>1.000000</td>\n",
       "      <td>1.000000</td>\n",
       "      <td>1.000000</td>\n",
       "      <td>1.000000</td>\n",
       "      <td>1.000000</td>\n",
       "      <td>1.000000</td>\n",
       "      <td>1.000000</td>\n",
       "      <td>1.000000</td>\n",
       "      <td>1.000000</td>\n",
       "      <td>1.000000</td>\n",
       "      <td>1.000000</td>\n",
       "    </tr>\n",
       "  </tbody>\n",
       "</table>\n",
       "</div>"
      ],
      "text/plain": [
       "              Year       Status  Life expectancy  Adult Mortality  \\\n",
       "count  2664.000000  2664.000000      2664.000000      2664.000000   \n",
       "mean      0.503353     0.185060         0.632743         0.222456   \n",
       "std       0.307097     0.388419         0.178555         0.170889   \n",
       "min       0.000000     0.000000         0.000000         0.000000   \n",
       "25%       0.266667     0.000000         0.521822         0.099723   \n",
       "50%       0.533333     0.000000         0.686907         0.191136   \n",
       "75%       0.800000     0.000000         0.753321         0.308864   \n",
       "max       1.000000     1.000000         1.000000         1.000000   \n",
       "\n",
       "       infant deaths      Alcohol  percentage expenditure  Hepatitis B  \\\n",
       "count    2664.000000  2664.000000             2664.000000  2664.000000   \n",
       "mean        0.123415     0.258543                0.038174     0.845893   \n",
       "std         0.201511     0.219965                0.099050     0.226542   \n",
       "min         0.000000     0.000000                0.000000     0.000000   \n",
       "25%         0.000000     0.064250                0.000249     0.846939   \n",
       "50%         0.021277     0.212486                0.003675     0.928571   \n",
       "75%         0.148936     0.421053                0.024155     0.969388   \n",
       "max         1.000000     1.000000                1.000000     1.000000   \n",
       "\n",
       "           Measles          BMI  Under-five deaths        Polio  \\\n",
       "count  2664.000000  2664.000000        2664.000000  2664.000000   \n",
       "mean      0.015869     0.498978           0.108881     0.837376   \n",
       "std       0.067157     0.258604           0.187003     0.238543   \n",
       "min       0.000000     0.000000           0.000000     0.000000   \n",
       "25%       0.000000     0.265013           0.000000     0.812500   \n",
       "50%       0.000174     0.573107           0.019737     0.937500   \n",
       "75%       0.003267     0.723238           0.118421     0.979167   \n",
       "max       1.000000     1.000000           1.000000     1.000000   \n",
       "\n",
       "       Total expenditure   Diphtheria     HIV/AIDS          GDP   Population  \\\n",
       "count        2664.000000  2664.000000  2664.000000  2664.000000  2664.000000   \n",
       "mean            0.329000     0.836603     0.032579     0.076126     0.087206   \n",
       "std             0.138058     0.239676     0.103427     0.145934     0.167526   \n",
       "min             0.000000     0.000000     0.000000     0.000000     0.000000   \n",
       "25%             0.242600     0.814433     0.000000     0.006920     0.007272   \n",
       "50%             0.319211     0.938144     0.000000     0.021281     0.025069   \n",
       "75%             0.409315     0.979381     0.011881     0.058608     0.073702   \n",
       "max             1.000000     1.000000     1.000000     1.000000     1.000000   \n",
       "\n",
       "       Thinness 1-19 years  Income composition of resources    Schooling  \n",
       "count          2664.000000                      2664.000000  2664.000000  \n",
       "mean              0.225402                         0.673069     0.590692  \n",
       "std               0.195538                         0.214078     0.149866  \n",
       "min               0.000000                         0.000000     0.000000  \n",
       "25%               0.075758                         0.543249     0.507246  \n",
       "50%               0.161616                         0.720464     0.599034  \n",
       "75%               0.348485                         0.821994     0.690821  \n",
       "max               1.000000                         1.000000     1.000000  "
      ]
     },
     "execution_count": 36,
     "metadata": {},
     "output_type": "execute_result"
    }
   ],
   "source": [
    "data_norm = (data_raw - data_raw.min(axis=0)) / (data_raw.max(axis=0) - data_raw.min(axis=0))\n",
    "data_norm.describe()"
   ]
  },
  {
   "cell_type": "code",
   "execution_count": 37,
   "id": "7584d103",
   "metadata": {},
   "outputs": [
    {
     "data": {
      "text/plain": [
       "Year                               0\n",
       "Status                             0\n",
       "Life expectancy                    0\n",
       "Adult Mortality                    0\n",
       "infant deaths                      0\n",
       "Alcohol                            0\n",
       "percentage expenditure             0\n",
       "Hepatitis B                        0\n",
       "Measles                            0\n",
       "BMI                                0\n",
       "Under-five deaths                  0\n",
       "Polio                              0\n",
       "Total expenditure                  0\n",
       "Diphtheria                         0\n",
       "HIV/AIDS                           0\n",
       "GDP                                0\n",
       "Population                         0\n",
       "Thinness 1-19 years                0\n",
       "Income composition of resources    0\n",
       "Schooling                          0\n",
       "dtype: int64"
      ]
     },
     "execution_count": 37,
     "metadata": {},
     "output_type": "execute_result"
    }
   ],
   "source": [
    "data_norm.isna().sum()"
   ]
  },
  {
   "cell_type": "code",
   "execution_count": 38,
   "id": "92e0e12a",
   "metadata": {},
   "outputs": [
    {
     "data": {
      "text/html": [
       "<div>\n",
       "<style scoped>\n",
       "    .dataframe tbody tr th:only-of-type {\n",
       "        vertical-align: middle;\n",
       "    }\n",
       "\n",
       "    .dataframe tbody tr th {\n",
       "        vertical-align: top;\n",
       "    }\n",
       "\n",
       "    .dataframe thead th {\n",
       "        text-align: right;\n",
       "    }\n",
       "</style>\n",
       "<table border=\"1\" class=\"dataframe\">\n",
       "  <thead>\n",
       "    <tr style=\"text-align: right;\">\n",
       "      <th></th>\n",
       "      <th>Year</th>\n",
       "      <th>Status</th>\n",
       "      <th>Life expectancy</th>\n",
       "      <th>Adult Mortality</th>\n",
       "      <th>infant deaths</th>\n",
       "      <th>Alcohol</th>\n",
       "      <th>percentage expenditure</th>\n",
       "      <th>Hepatitis B</th>\n",
       "      <th>Measles</th>\n",
       "      <th>BMI</th>\n",
       "      <th>Under-five deaths</th>\n",
       "      <th>Polio</th>\n",
       "      <th>Total expenditure</th>\n",
       "      <th>Diphtheria</th>\n",
       "      <th>HIV/AIDS</th>\n",
       "      <th>GDP</th>\n",
       "      <th>Population</th>\n",
       "      <th>Thinness 1-19 years</th>\n",
       "      <th>Income composition of resources</th>\n",
       "      <th>Schooling</th>\n",
       "    </tr>\n",
       "  </thead>\n",
       "  <tbody>\n",
       "    <tr>\n",
       "      <th>count</th>\n",
       "      <td>2664.000000</td>\n",
       "      <td>2664.000000</td>\n",
       "      <td>2664.000000</td>\n",
       "      <td>2664.000000</td>\n",
       "      <td>2664.000000</td>\n",
       "      <td>2664.000000</td>\n",
       "      <td>2664.000000</td>\n",
       "      <td>2664.000000</td>\n",
       "      <td>2664.000000</td>\n",
       "      <td>2664.000000</td>\n",
       "      <td>2664.000000</td>\n",
       "      <td>2664.000000</td>\n",
       "      <td>2664.000000</td>\n",
       "      <td>2664.000000</td>\n",
       "      <td>2664.000000</td>\n",
       "      <td>2664.000000</td>\n",
       "      <td>2664.000000</td>\n",
       "      <td>2664.000000</td>\n",
       "      <td>2664.000000</td>\n",
       "      <td>2664.000000</td>\n",
       "    </tr>\n",
       "    <tr>\n",
       "      <th>mean</th>\n",
       "      <td>0.503353</td>\n",
       "      <td>0.185060</td>\n",
       "      <td>0.632743</td>\n",
       "      <td>0.222456</td>\n",
       "      <td>0.123415</td>\n",
       "      <td>0.258543</td>\n",
       "      <td>0.038174</td>\n",
       "      <td>0.845893</td>\n",
       "      <td>0.015869</td>\n",
       "      <td>0.498978</td>\n",
       "      <td>0.108881</td>\n",
       "      <td>0.837376</td>\n",
       "      <td>0.329000</td>\n",
       "      <td>0.836603</td>\n",
       "      <td>0.032579</td>\n",
       "      <td>0.076126</td>\n",
       "      <td>0.087206</td>\n",
       "      <td>0.225402</td>\n",
       "      <td>0.673069</td>\n",
       "      <td>0.590692</td>\n",
       "    </tr>\n",
       "    <tr>\n",
       "      <th>std</th>\n",
       "      <td>0.307097</td>\n",
       "      <td>0.388419</td>\n",
       "      <td>0.178555</td>\n",
       "      <td>0.170889</td>\n",
       "      <td>0.201511</td>\n",
       "      <td>0.219965</td>\n",
       "      <td>0.099050</td>\n",
       "      <td>0.226542</td>\n",
       "      <td>0.067157</td>\n",
       "      <td>0.258604</td>\n",
       "      <td>0.187003</td>\n",
       "      <td>0.238543</td>\n",
       "      <td>0.138058</td>\n",
       "      <td>0.239676</td>\n",
       "      <td>0.103427</td>\n",
       "      <td>0.145934</td>\n",
       "      <td>0.167526</td>\n",
       "      <td>0.195538</td>\n",
       "      <td>0.214078</td>\n",
       "      <td>0.149866</td>\n",
       "    </tr>\n",
       "    <tr>\n",
       "      <th>min</th>\n",
       "      <td>0.000000</td>\n",
       "      <td>0.000000</td>\n",
       "      <td>0.000000</td>\n",
       "      <td>0.000000</td>\n",
       "      <td>0.000000</td>\n",
       "      <td>0.000000</td>\n",
       "      <td>0.000000</td>\n",
       "      <td>0.000000</td>\n",
       "      <td>0.000000</td>\n",
       "      <td>0.000000</td>\n",
       "      <td>0.000000</td>\n",
       "      <td>0.000000</td>\n",
       "      <td>0.000000</td>\n",
       "      <td>0.000000</td>\n",
       "      <td>0.000000</td>\n",
       "      <td>0.000000</td>\n",
       "      <td>0.000000</td>\n",
       "      <td>0.000000</td>\n",
       "      <td>0.000000</td>\n",
       "      <td>0.000000</td>\n",
       "    </tr>\n",
       "    <tr>\n",
       "      <th>25%</th>\n",
       "      <td>0.266667</td>\n",
       "      <td>0.000000</td>\n",
       "      <td>0.521822</td>\n",
       "      <td>0.099723</td>\n",
       "      <td>0.000000</td>\n",
       "      <td>0.064250</td>\n",
       "      <td>0.000249</td>\n",
       "      <td>0.846939</td>\n",
       "      <td>0.000000</td>\n",
       "      <td>0.265013</td>\n",
       "      <td>0.000000</td>\n",
       "      <td>0.812500</td>\n",
       "      <td>0.242600</td>\n",
       "      <td>0.814433</td>\n",
       "      <td>0.000000</td>\n",
       "      <td>0.006920</td>\n",
       "      <td>0.007272</td>\n",
       "      <td>0.075758</td>\n",
       "      <td>0.543249</td>\n",
       "      <td>0.507246</td>\n",
       "    </tr>\n",
       "    <tr>\n",
       "      <th>50%</th>\n",
       "      <td>0.533333</td>\n",
       "      <td>0.000000</td>\n",
       "      <td>0.686907</td>\n",
       "      <td>0.191136</td>\n",
       "      <td>0.021277</td>\n",
       "      <td>0.212486</td>\n",
       "      <td>0.003675</td>\n",
       "      <td>0.928571</td>\n",
       "      <td>0.000174</td>\n",
       "      <td>0.573107</td>\n",
       "      <td>0.019737</td>\n",
       "      <td>0.937500</td>\n",
       "      <td>0.319211</td>\n",
       "      <td>0.938144</td>\n",
       "      <td>0.000000</td>\n",
       "      <td>0.021281</td>\n",
       "      <td>0.025069</td>\n",
       "      <td>0.161616</td>\n",
       "      <td>0.720464</td>\n",
       "      <td>0.599034</td>\n",
       "    </tr>\n",
       "    <tr>\n",
       "      <th>75%</th>\n",
       "      <td>0.800000</td>\n",
       "      <td>0.000000</td>\n",
       "      <td>0.753321</td>\n",
       "      <td>0.308864</td>\n",
       "      <td>0.148936</td>\n",
       "      <td>0.421053</td>\n",
       "      <td>0.024155</td>\n",
       "      <td>0.969388</td>\n",
       "      <td>0.003267</td>\n",
       "      <td>0.723238</td>\n",
       "      <td>0.118421</td>\n",
       "      <td>0.979167</td>\n",
       "      <td>0.409315</td>\n",
       "      <td>0.979381</td>\n",
       "      <td>0.011881</td>\n",
       "      <td>0.058608</td>\n",
       "      <td>0.073702</td>\n",
       "      <td>0.348485</td>\n",
       "      <td>0.821994</td>\n",
       "      <td>0.690821</td>\n",
       "    </tr>\n",
       "    <tr>\n",
       "      <th>max</th>\n",
       "      <td>1.000000</td>\n",
       "      <td>1.000000</td>\n",
       "      <td>1.000000</td>\n",
       "      <td>1.000000</td>\n",
       "      <td>1.000000</td>\n",
       "      <td>1.000000</td>\n",
       "      <td>1.000000</td>\n",
       "      <td>1.000000</td>\n",
       "      <td>1.000000</td>\n",
       "      <td>1.000000</td>\n",
       "      <td>1.000000</td>\n",
       "      <td>1.000000</td>\n",
       "      <td>1.000000</td>\n",
       "      <td>1.000000</td>\n",
       "      <td>1.000000</td>\n",
       "      <td>1.000000</td>\n",
       "      <td>1.000000</td>\n",
       "      <td>1.000000</td>\n",
       "      <td>1.000000</td>\n",
       "      <td>1.000000</td>\n",
       "    </tr>\n",
       "  </tbody>\n",
       "</table>\n",
       "</div>"
      ],
      "text/plain": [
       "              Year       Status  Life expectancy  Adult Mortality  \\\n",
       "count  2664.000000  2664.000000      2664.000000      2664.000000   \n",
       "mean      0.503353     0.185060         0.632743         0.222456   \n",
       "std       0.307097     0.388419         0.178555         0.170889   \n",
       "min       0.000000     0.000000         0.000000         0.000000   \n",
       "25%       0.266667     0.000000         0.521822         0.099723   \n",
       "50%       0.533333     0.000000         0.686907         0.191136   \n",
       "75%       0.800000     0.000000         0.753321         0.308864   \n",
       "max       1.000000     1.000000         1.000000         1.000000   \n",
       "\n",
       "       infant deaths      Alcohol  percentage expenditure  Hepatitis B  \\\n",
       "count    2664.000000  2664.000000             2664.000000  2664.000000   \n",
       "mean        0.123415     0.258543                0.038174     0.845893   \n",
       "std         0.201511     0.219965                0.099050     0.226542   \n",
       "min         0.000000     0.000000                0.000000     0.000000   \n",
       "25%         0.000000     0.064250                0.000249     0.846939   \n",
       "50%         0.021277     0.212486                0.003675     0.928571   \n",
       "75%         0.148936     0.421053                0.024155     0.969388   \n",
       "max         1.000000     1.000000                1.000000     1.000000   \n",
       "\n",
       "           Measles          BMI  Under-five deaths        Polio  \\\n",
       "count  2664.000000  2664.000000        2664.000000  2664.000000   \n",
       "mean      0.015869     0.498978           0.108881     0.837376   \n",
       "std       0.067157     0.258604           0.187003     0.238543   \n",
       "min       0.000000     0.000000           0.000000     0.000000   \n",
       "25%       0.000000     0.265013           0.000000     0.812500   \n",
       "50%       0.000174     0.573107           0.019737     0.937500   \n",
       "75%       0.003267     0.723238           0.118421     0.979167   \n",
       "max       1.000000     1.000000           1.000000     1.000000   \n",
       "\n",
       "       Total expenditure   Diphtheria     HIV/AIDS          GDP   Population  \\\n",
       "count        2664.000000  2664.000000  2664.000000  2664.000000  2664.000000   \n",
       "mean            0.329000     0.836603     0.032579     0.076126     0.087206   \n",
       "std             0.138058     0.239676     0.103427     0.145934     0.167526   \n",
       "min             0.000000     0.000000     0.000000     0.000000     0.000000   \n",
       "25%             0.242600     0.814433     0.000000     0.006920     0.007272   \n",
       "50%             0.319211     0.938144     0.000000     0.021281     0.025069   \n",
       "75%             0.409315     0.979381     0.011881     0.058608     0.073702   \n",
       "max             1.000000     1.000000     1.000000     1.000000     1.000000   \n",
       "\n",
       "       Thinness 1-19 years  Income composition of resources    Schooling  \n",
       "count          2664.000000                      2664.000000  2664.000000  \n",
       "mean              0.225402                         0.673069     0.590692  \n",
       "std               0.195538                         0.214078     0.149866  \n",
       "min               0.000000                         0.000000     0.000000  \n",
       "25%               0.075758                         0.543249     0.507246  \n",
       "50%               0.161616                         0.720464     0.599034  \n",
       "75%               0.348485                         0.821994     0.690821  \n",
       "max               1.000000                         1.000000     1.000000  "
      ]
     },
     "execution_count": 38,
     "metadata": {},
     "output_type": "execute_result"
    }
   ],
   "source": [
    "pd.set_option('display.max_rows', None)\n",
    "pd.set_option('display.max_columns', None)\n",
    "\n",
    "data_norm.describe()"
   ]
  },
  {
   "cell_type": "markdown",
   "id": "a216f570",
   "metadata": {},
   "source": [
    "# Классификация"
   ]
  },
  {
   "cell_type": "markdown",
   "id": "01e33ba0",
   "metadata": {},
   "source": [
    "Для классификации разобьем данные на обучающую и тестовую выборки. За обучающую примем 75% данных, 25% - за тестовую\n",
    "\n"
   ]
  },
  {
   "cell_type": "code",
   "execution_count": 39,
   "id": "0b3cf470",
   "metadata": {},
   "outputs": [
    {
     "data": {
      "text/plain": [
       "(1998, 666)"
      ]
     },
     "execution_count": 39,
     "metadata": {},
     "output_type": "execute_result"
    }
   ],
   "source": [
    "X = data_norm.drop(['Status'], axis=1)\n",
    "y = data_raw['Status']\n",
    "from sklearn.model_selection import train_test_split\n",
    "X_train, X_test, y_train, y_test = train_test_split(X, y, test_size = 0.25, random_state = 42)\n",
    "\n",
    "N_train, _ = X_train.shape \n",
    "N_test,  _ = X_test.shape \n",
    "\n",
    "N_train, N_test"
   ]
  },
  {
   "cell_type": "markdown",
   "id": "e1479eeb",
   "metadata": {},
   "source": [
    "## K ближайших соседей"
   ]
  },
  {
   "cell_type": "markdown",
   "id": "6e72218c",
   "metadata": {},
   "source": [
    "5 соседей (по умолчанию)"
   ]
  },
  {
   "cell_type": "code",
   "execution_count": 40,
   "id": "c6cab111",
   "metadata": {},
   "outputs": [],
   "source": [
    "from sklearn.neighbors import KNeighborsClassifier\n",
    "from sklearn.ensemble import RandomForestClassifier\n",
    "from sklearn.metrics import accuracy_score, confusion_matrix, ConfusionMatrixDisplay\n",
    "from sklearn.model_selection import train_test_split\n",
    "from sklearn.metrics import mean_squared_error"
   ]
  },
  {
   "cell_type": "code",
   "execution_count": 41,
   "id": "657a4e61",
   "metadata": {},
   "outputs": [
    {
     "name": "stdout",
     "output_type": "stream",
     "text": [
      "Train: 96.15%, Test: 93.39%\n",
      "MSE: Train 0.04, Test 0.07\n"
     ]
    }
   ],
   "source": [
    "knn = KNeighborsClassifier()\n",
    "knn.fit(X_train.values, y_train.values)\n",
    "y_train_predict = knn.predict(X_train.values)\n",
    "y_test_predict = knn.predict(X_test.values)\n",
    "print(\"Train: {:.2f}%, Test: {:.2f}%\".format(accuracy_score(\n",
    "    y_train, y_train_predict) * 100, accuracy_score(y_test, y_test_predict) * 100))\n",
    "print(\"MSE: Train {:.2f}, Test {:.2f}\".format((mean_squared_error(y_train,\n",
    "      y_train_predict)), mean_squared_error(y_test, y_test_predict)))"
   ]
  },
  {
   "cell_type": "markdown",
   "id": "c162ec54",
   "metadata": {},
   "source": [
    "Возьмем 7 соседей"
   ]
  },
  {
   "cell_type": "code",
   "execution_count": 42,
   "id": "9f4b4627",
   "metadata": {},
   "outputs": [
    {
     "name": "stdout",
     "output_type": "stream",
     "text": [
      "Train: 95.35%, Test: 92.34%\n",
      "MSE: Train 0.05, Test 0.08\n"
     ]
    }
   ],
   "source": [
    "knn_7 = KNeighborsClassifier(n_neighbors=7)\n",
    "knn_7.fit(X_train.values, y_train.values)\n",
    "y_train_predict = knn_7.predict(X_train.values)\n",
    "y_test_predict = knn_7.predict(X_test.values)\n",
    "print(\"Train: {:.2f}%, Test: {:.2f}%\".format(accuracy_score(\n",
    "    y_train, y_train_predict) * 100, accuracy_score(y_test, y_test_predict) * 100))\n",
    "print(\"MSE: Train {:.2f}, Test {:.2f}\".format((mean_squared_error(y_train,\n",
    "      y_train_predict)), mean_squared_error(y_test, y_test_predict)))"
   ]
  },
  {
   "cell_type": "markdown",
   "id": "a44f25c0",
   "metadata": {},
   "source": [
    "Точность снизилась, поэтому возьмем 3 соседа"
   ]
  },
  {
   "cell_type": "code",
   "execution_count": 43,
   "id": "484c0aa2",
   "metadata": {},
   "outputs": [
    {
     "name": "stdout",
     "output_type": "stream",
     "text": [
      "Train: 97.65%, Test: 93.99%\n",
      "MSE: Train 0.02, Test 0.06\n"
     ]
    }
   ],
   "source": [
    "knn_3 = KNeighborsClassifier(n_neighbors=3)\n",
    "knn_3.fit(X_train.values, y_train.values)\n",
    "y_train_predict = knn_3.predict(X_train.values)\n",
    "y_test_predict = knn_3.predict(X_test.values)\n",
    "print(\"Train: {:.2f}%, Test: {:.2f}%\".format(accuracy_score(\n",
    "    y_train, y_train_predict) * 100, accuracy_score(y_test, y_test_predict) * 100))\n",
    "print(\"MSE: Train {:.2f}, Test {:.2f}\".format((mean_squared_error(y_train,\n",
    "      y_train_predict)), mean_squared_error(y_test, y_test_predict)))\n"
   ]
  },
  {
   "cell_type": "markdown",
   "id": "e78230c6",
   "metadata": {},
   "source": [
    "Точность возросла"
   ]
  },
  {
   "cell_type": "markdown",
   "id": "270946e5",
   "metadata": {},
   "source": [
    "# Random Forest"
   ]
  },
  {
   "cell_type": "markdown",
   "id": "cc813e04",
   "metadata": {},
   "source": [
    "Рассмотрим алгоритм - дерево решений"
   ]
  },
  {
   "cell_type": "code",
   "execution_count": 44,
   "id": "9700ddf1",
   "metadata": {},
   "outputs": [
    {
     "name": "stdout",
     "output_type": "stream",
     "text": [
      "Tree Depth: 14\n",
      "Tree Leaves: 65\n",
      "Accuracy. Train : 100.00%, Test: 95.95%. \n"
     ]
    }
   ],
   "source": [
    "from sklearn.tree import DecisionTreeClassifier\n",
    "\n",
    "dct = DecisionTreeClassifier()\n",
    "dct.fit(X_train,y_train)\n",
    "dct_train_score = 100 * dct.score(X_train, y_train)\n",
    "print ('Tree Depth:', dct.get_depth())\n",
    "print ('Tree Leaves:', dct.get_n_leaves())\n",
    "dct_test_score = 100 * dct.score(X_test, y_test)\n",
    "print(\"Accuracy. Train : {:.2f}%, Test: {:.2f}%. \".format(dct_train_score, dct_test_score))"
   ]
  },
  {
   "cell_type": "markdown",
   "id": "7372313b",
   "metadata": {},
   "source": [
    "Максимальная глубина равна 14, уменьшим ее до 10"
   ]
  },
  {
   "cell_type": "code",
   "execution_count": 45,
   "id": "89b46cff",
   "metadata": {},
   "outputs": [
    {
     "name": "stdout",
     "output_type": "stream",
     "text": [
      "Tree Depth: 10\n",
      "Tree Leaves: 60\n",
      "Accuracy. Train : 99.70%, Test: 95.95%. \n"
     ]
    }
   ],
   "source": [
    "dct_10 = DecisionTreeClassifier(max_depth=10)\n",
    "dct_10.fit(X_train,y_train)\n",
    "dct_train_score = 100 * dct_10.score(X_train, y_train)\n",
    "print ('Tree Depth:', dct_10.get_depth())\n",
    "print ('Tree Leaves:', dct_10.get_n_leaves())\n",
    "dct_test_score = 100 * dct_10.score(X_test, y_test)\n",
    "print(\"Accuracy. Train : {:.2f}%, Test: {:.2f}%. \".format(dct_train_score, dct_test_score))"
   ]
  },
  {
   "cell_type": "markdown",
   "id": "af6b6426",
   "metadata": {},
   "source": [
    "Точность на тренировочной и тестовой выборках снизилась. Возьмем глубину равную 5"
   ]
  },
  {
   "cell_type": "code",
   "execution_count": 46,
   "id": "cb3e85a2",
   "metadata": {},
   "outputs": [
    {
     "name": "stdout",
     "output_type": "stream",
     "text": [
      "Tree Depth: 5\n",
      "Tree Leaves: 22\n",
      "Accuracy. Train : 96.90%, Test: 95.65%. \n"
     ]
    }
   ],
   "source": [
    "dct_5 = DecisionTreeClassifier(max_depth=5)\n",
    "dct_5.fit(X_train,y_train.astype('int64'))\n",
    "dct_train_score = 100 * dct_5.score(X_train, y_train)\n",
    "print ('Tree Depth:', dct_5.get_depth())\n",
    "print ('Tree Leaves:', dct_5.get_n_leaves())\n",
    "dct_test_score = 100 * dct_5.score(X_test, y_test)\n",
    "print(\"Accuracy. Train : {:.2f}%, Test: {:.2f}%. \".format(dct_train_score, dct_test_score))"
   ]
  },
  {
   "cell_type": "markdown",
   "id": "e7f191fa",
   "metadata": {},
   "source": [
    "# Вывод"
   ]
  },
  {
   "cell_type": "markdown",
   "id": "dc6896dc",
   "metadata": {},
   "source": [
    "В данной работе был произведен анализ ожидаемой продолжительности жизни по данным ВОЗ и решение задачи классификации с помощью моделей, натренированых методами К-ближайших соседей и дерева решений.\n",
    "\n",
    "Алгоритм Дерева Решений оказался точнее алгоритма к-ближайших соседей при оптимальных параметрах каждого из методов, как на обучающей выборке, так и на тестовой.\n",
    "\n",
    "В результате решения задачи классификации мы получили:\n",
    "\n",
    "- Алгоритм дерева решений сильно выигрывает по точности на тренировочной выборке у метода KNN\n",
    "- При понижении числа соседей, точность KNN возрастает\n",
    "- При уменьшении глубины в методе дерева решений, точность уменьшается\n"
   ]
  },
  {
   "cell_type": "markdown",
   "id": "5ac80483",
   "metadata": {},
   "source": [
    "# Лабораторная работа №2"
   ]
  },
  {
   "cell_type": "markdown",
   "id": "ec96a550",
   "metadata": {},
   "source": [
    "## Обучение классификатора"
   ]
  },
  {
   "cell_type": "markdown",
   "id": "af05a8e0",
   "metadata": {},
   "source": [
    "В качестве алгоритма оптимизации выберем алгоритм Adam, в качестве функции активации - Relu, а в качетве метрики оценки классификатора возьмем accuracy_score."
   ]
  },
  {
   "cell_type": "code",
   "execution_count": 47,
   "id": "781da6a7",
   "metadata": {},
   "outputs": [],
   "source": [
    "from sklearn.neural_network import MLPClassifier\n",
    "from sklearn.metrics import accuracy_score\n",
    "from tqdm import tqdm"
   ]
  },
  {
   "cell_type": "code",
   "execution_count": 48,
   "id": "b4435cfc",
   "metadata": {},
   "outputs": [],
   "source": [
    "model = MLPClassifier(\n",
    "    hidden_layer_sizes=(50,),\n",
    "    solver='adam',\n",
    "    activation='relu',\n",
    "    random_state=3,\n",
    "    max_iter=1000\n",
    ")"
   ]
  },
  {
   "cell_type": "code",
   "execution_count": 49,
   "id": "5f782f00",
   "metadata": {},
   "outputs": [
    {
     "name": "stdout",
     "output_type": "stream",
     "text": [
      "CPU times: total: 35.9 s\n",
      "Wall time: 9.21 s\n"
     ]
    },
    {
     "data": {
      "text/plain": [
       "MLPClassifier(hidden_layer_sizes=(50,), max_iter=1000, random_state=3)"
      ]
     },
     "execution_count": 49,
     "metadata": {},
     "output_type": "execute_result"
    }
   ],
   "source": [
    "%%time\n",
    "model.fit(X_train, y_train)\n"
   ]
  },
  {
   "cell_type": "markdown",
   "id": "ef26013f",
   "metadata": {},
   "source": [
    "Проверим качество классификатора и точность на обучающей и тестовой выборках"
   ]
  },
  {
   "cell_type": "code",
   "execution_count": 50,
   "id": "75b3303a",
   "metadata": {},
   "outputs": [],
   "source": [
    "y_train_prediction = model.predict(X_train)\n",
    "y_test_prediction = model.predict(X_test)"
   ]
  },
  {
   "cell_type": "code",
   "execution_count": 51,
   "id": "f216c97a",
   "metadata": {},
   "outputs": [
    {
     "name": "stdout",
     "output_type": "stream",
     "text": [
      "Train: 95.95% Test: 93.69%\n"
     ]
    }
   ],
   "source": [
    "print(\"Train: {:.2f}% Test: {:.2f}%\".format(accuracy_score(y_train.astype('int64'), y_train_prediction)\n",
    "      * 100, accuracy_score(y_test.astype('int64'), y_test_prediction) * 100))"
   ]
  },
  {
   "cell_type": "markdown",
   "id": "1d9c6377",
   "metadata": {},
   "source": [
    "Точности на тестовой и тренировочной выборках приблизительно одинковы, что является хорошим результатом"
   ]
  },
  {
   "cell_type": "markdown",
   "id": "c07f47d9",
   "metadata": {},
   "source": [
    "## Подбор гиперпараметров"
   ]
  },
  {
   "cell_type": "markdown",
   "id": "17872282",
   "metadata": {},
   "source": [
    "Подберем оптимальное значение параметра alpha"
   ]
  },
  {
   "cell_type": "code",
   "execution_count": 52,
   "id": "0bd91602",
   "metadata": {},
   "outputs": [],
   "source": [
    "alpha_arr = np.logspace(-3, 2, 21)\n",
    "test_err = []\n",
    "train_err = []\n",
    "train_acc = []\n",
    "test_acc = []\n",
    "\n",
    "for alpha in alpha_arr:\n",
    "    mlp_model = MLPClassifier(alpha = alpha, hidden_layer_sizes = (100,), \n",
    "                              solver = 'adam', activation = 'relu', max_iter=1000, random_state = 42)\n",
    "    mlp_model.fit(X_train, y_train)\n",
    "\n",
    "    y_train_prediction = mlp_model.predict(X_train)\n",
    "    y_test_prediction = mlp_model.predict(X_test)\n",
    "    \n",
    "    train_err.append(np.mean(y_train != y_train_prediction))\n",
    "    test_err.append(np.mean(y_test!= y_test_prediction))\n",
    "    train_acc.append(sklearn.metrics.accuracy_score(y_train, y_train_prediction))\n",
    "    test_acc.append(sklearn.metrics.accuracy_score(y_test, y_test_prediction))\n",
    "     "
   ]
  },
  {
   "cell_type": "code",
   "execution_count": 53,
   "id": "21aecad7",
   "metadata": {},
   "outputs": [
    {
     "data": {
      "text/plain": [
       "<matplotlib.legend.Legend at 0x173e0d39670>"
      ]
     },
     "execution_count": 53,
     "metadata": {},
     "output_type": "execute_result"
    },
    {
     "data": {
      "image/png": "[encoded data removed]",
      "text/plain": [
       "<Figure size 432x288 with 1 Axes>"
      ]
     },
     "metadata": {
      "needs_background": "light"
     },
     "output_type": "display_data"
    }
   ],
   "source": [
    "plt.semilogx(alpha_arr, train_err, 'b-o', label = 'train')\n",
    "plt.semilogx(alpha_arr, test_err, 'r-o', label = 'test')\n",
    "plt.xlim([np.min(alpha_arr), np.max(alpha_arr)])\n",
    "plt.title('Error vs. alpha')\n",
    "plt.xlabel('alpha')\n",
    "plt.ylabel('error')\n",
    "plt.legend()"
   ]
  },
  {
   "cell_type": "code",
   "execution_count": 54,
   "id": "93858879",
   "metadata": {},
   "outputs": [
    {
     "data": {
      "text/plain": [
       "<matplotlib.legend.Legend at 0x173e2d4f0d0>"
      ]
     },
     "execution_count": 54,
     "metadata": {},
     "output_type": "execute_result"
    },
    {
     "data": {
      "image/png": "[encoded data removed]",
      "text/plain": [
       "<Figure size 432x288 with 1 Axes>"
      ]
     },
     "metadata": {
      "needs_background": "light"
     },
     "output_type": "display_data"
    }
   ],
   "source": [
    "plt.semilogx(alpha_arr, train_acc, 'r-o', label = 'train')\n",
    "plt.semilogx(alpha_arr, test_acc, 'b-o', label = 'test')\n",
    "plt.xlim([np.min(alpha_arr), np.max(alpha_arr)])\n",
    "plt.title('Accuracy vs. alpha')\n",
    "plt.xlabel('alpha')\n",
    "plt.ylabel('Accuracy')\n",
    "plt.legend()"
   ]
  },
  {
   "cell_type": "markdown",
   "id": "f8f6f278",
   "metadata": {},
   "source": [
    "Из графика выше следует, что у нас нет ни недообучения, ни переобучения. Колебания точности как на тренировочной, так и на тестовой выборке происходят в одном диапазоне."
   ]
  },
  {
   "cell_type": "markdown",
   "id": "6c5f17e3",
   "metadata": {},
   "source": [
    "Выявим минимальное значение ошибки"
   ]
  },
  {
   "cell_type": "code",
   "execution_count": 55,
   "id": "88ad0fe1",
   "metadata": {},
   "outputs": [
    {
     "name": "stdout",
     "output_type": "stream",
     "text": [
      "0.03053053053053053 0.05105105105105105\n"
     ]
    }
   ],
   "source": [
    "min_train_err = np.min(train_err)\n",
    "min_test_err = np.min(test_err)\n",
    "print(min_train_err, min_test_err)"
   ]
  },
  {
   "cell_type": "markdown",
   "id": "9c77e4ff",
   "metadata": {},
   "source": [
    "Оптимальное значение альфа"
   ]
  },
  {
   "cell_type": "code",
   "execution_count": 56,
   "id": "9b9154ba",
   "metadata": {},
   "outputs": [
    {
     "name": "stdout",
     "output_type": "stream",
     "text": [
      "0.005623413251903491\n"
     ]
    }
   ],
   "source": [
    "alpha_optarr = alpha_arr[test_err == min_test_err]\n",
    "alpha_opt = alpha_optarr[0]\n",
    "print(alpha_opt)"
   ]
  },
  {
   "cell_type": "markdown",
   "id": "f1787411",
   "metadata": {},
   "source": [
    "Классификатор с учетом оптимального значения альфа:"
   ]
  },
  {
   "cell_type": "code",
   "execution_count": 57,
   "id": "2680720d",
   "metadata": {},
   "outputs": [],
   "source": [
    "from sklearn.metrics import confusion_matrix, ConfusionMatrixDisplay"
   ]
  },
  {
   "cell_type": "code",
   "execution_count": 58,
   "id": "b9a807ba",
   "metadata": {},
   "outputs": [
    {
     "name": "stdout",
     "output_type": "stream",
     "text": [
      "Train: 95.60% Test: 93.99%\n"
     ]
    }
   ],
   "source": [
    "mlp_model = MLPClassifier(alpha=alpha_opt, hidden_layer_sizes=(80,),\n",
    "                          solver='adam', activation='relu', max_iter=5000, random_state=7)\n",
    "mlp_model.fit(X_train, y_train)\n",
    "\n",
    "y_train_prediction = mlp_model.predict(X_train)\n",
    "y_test_prediction = mlp_model.predict(X_test)\n",
    "\n",
    "print(\"Train: {:.2f}% Test: {:.2f}%\".format(accuracy_score(y_train, y_train_prediction)\n",
    "      * 100, accuracy_score(y_test.astype('int64'), y_test_prediction) * 100))"
   ]
  },
  {
   "cell_type": "markdown",
   "id": "f9dba10c",
   "metadata": {},
   "source": [
    "Метрика качества"
   ]
  },
  {
   "cell_type": "code",
   "execution_count": 59,
   "id": "93200df6",
   "metadata": {},
   "outputs": [
    {
     "name": "stdout",
     "output_type": "stream",
     "text": [
      "              precision    recall  f1-score   support\n",
      "\n",
      "           0       0.97      0.95      0.96       548\n",
      "           1       0.80      0.87      0.84       118\n",
      "\n",
      "    accuracy                           0.94       666\n",
      "   macro avg       0.89      0.91      0.90       666\n",
      "weighted avg       0.94      0.94      0.94       666\n",
      "\n"
     ]
    }
   ],
   "source": [
    "from sklearn.metrics import classification_report\n",
    "print(classification_report(y_test, y_test_prediction))"
   ]
  },
  {
   "cell_type": "markdown",
   "id": "0d045718",
   "metadata": {},
   "source": [
    "#### Подбор количества нейронов в скрытом слое"
   ]
  },
  {
   "cell_type": "code",
   "execution_count": 60,
   "id": "e4ae4cd8",
   "metadata": {},
   "outputs": [],
   "source": [
    "neuron_count_array = np.linspace(10, 300, 30).astype(int)\n",
    "test_error = []\n",
    "train_error = []\n",
    "test_acc = []\n",
    "train_acc = []\n",
    "\n",
    "for neuron_count in neuron_count_array:\n",
    "    model = MLPClassifier(\n",
    "        alpha=alpha_opt,\n",
    "        hidden_layer_sizes=(neuron_count,),\n",
    "        solver='adam',\n",
    "        activation='relu',\n",
    "        max_iter=1000,\n",
    "        random_state=42\n",
    "    )\n",
    "    model.fit(X_train, y_train)\n",
    "\n",
    "    y_train_prediction = model.predict(X_train)\n",
    "    y_test_prediction = model.predict(X_test)\n",
    "\n",
    "    test_error.append(np.mean(y_test != y_test_prediction))\n",
    "    train_error.append(np.mean(y_train != y_train_prediction))\n",
    "    test_acc.append(accuracy_score(y_test, y_test_prediction))\n",
    "    train_acc.append(accuracy_score(y_train, y_train_prediction))"
   ]
  },
  {
   "cell_type": "code",
   "execution_count": 61,
   "id": "e6366c39",
   "metadata": {},
   "outputs": [
    {
     "data": {
      "text/plain": [
       "<matplotlib.legend.Legend at 0x173e2e3f2e0>"
      ]
     },
     "execution_count": 61,
     "metadata": {},
     "output_type": "execute_result"
    },
    {
     "data": {
      "image/png": "[encoded data removed]",
      "text/plain": [
       "<Figure size 432x288 with 1 Axes>"
      ]
     },
     "metadata": {
      "needs_background": "light"
     },
     "output_type": "display_data"
    }
   ],
   "source": [
    "plt.plot(neuron_count_array, train_error, 'r-o', label='train')\n",
    "plt.plot(neuron_count_array, test_error, 'b-o', label='test')\n",
    "plt.xlim([np.min(neuron_count_array), np.max(neuron_count_array)])\n",
    "plt.xlabel('neuron count')\n",
    "plt.ylabel('error')\n",
    "plt.legend()"
   ]
  },
  {
   "cell_type": "code",
   "execution_count": 62,
   "id": "d7bae769",
   "metadata": {},
   "outputs": [
    {
     "data": {
      "text/plain": [
       "<matplotlib.legend.Legend at 0x173e2f5f130>"
      ]
     },
     "execution_count": 62,
     "metadata": {},
     "output_type": "execute_result"
    },
    {
     "data": {
      "image/png": "[encoded data removed]",
      "text/plain": [
       "<Figure size 432x288 with 1 Axes>"
      ]
     },
     "metadata": {
      "needs_background": "light"
     },
     "output_type": "display_data"
    }
   ],
   "source": [
    "\n",
    "plt.plot(neuron_count_array, train_acc, 'r-o', label='train')\n",
    "plt.plot(neuron_count_array, test_acc, 'b-o', label='test')\n",
    "plt.xlim([np.min(neuron_count_array), np.max(neuron_count_array)])\n",
    "plt.title('Accuracy vs. neuron count')\n",
    "plt.xlabel('neuron count')\n",
    "plt.ylabel('Accuracy')\n",
    "plt.legend()"
   ]
  },
  {
   "cell_type": "markdown",
   "id": "20f1640d",
   "metadata": {},
   "source": [
    "Здесь также не наблюдается ни недообучения, ни переобучения. Колебания происходятся в целом синхронно."
   ]
  },
  {
   "cell_type": "code",
   "execution_count": 63,
   "id": "94d343bc",
   "metadata": {},
   "outputs": [
    {
     "name": "stdout",
     "output_type": "stream",
     "text": [
      "Optimal number of neurons: 250\n"
     ]
    }
   ],
   "source": [
    "min_test_error = np.min(test_error)\n",
    "neuron_opt = neuron_count_array[test_error == min_test_error][0]\n",
    "print('Optimal number of neurons: {}'.format(neuron_opt))"
   ]
  },
  {
   "cell_type": "markdown",
   "id": "a5756347",
   "metadata": {},
   "source": [
    "Мы выделили некое оптимальное значение нейронов, при котором была лучшая точность на тестовой выборке. Запустим классификацию при вычисленном оптимальном числе нейронов в скрытом слое"
   ]
  },
  {
   "cell_type": "code",
   "execution_count": 64,
   "id": "1844972b",
   "metadata": {},
   "outputs": [],
   "source": [
    "mlp_model = MLPClassifier(alpha=alpha_opt, hidden_layer_sizes=(neuron_opt,),\n",
    "                          solver='adam', activation='relu', max_iter=2000, random_state=90)\n",
    "mlp_model.fit(X_train, y_train)\n",
    "\n",
    "y_train_prediction = mlp_model.predict(X_train)\n",
    "y_test_prediction = mlp_model.predict(X_test)\n",
    "     "
   ]
  },
  {
   "cell_type": "code",
   "execution_count": 65,
   "id": "7014b0a0",
   "metadata": {},
   "outputs": [
    {
     "name": "stdout",
     "output_type": "stream",
     "text": [
      "Train: 95.85% Test: 94.44%\n"
     ]
    }
   ],
   "source": [
    "print(\"Train: {:.2f}% Test: {:.2f}%\".format(accuracy_score(y_train, y_train_prediction)\n",
    "      * 100, accuracy_score(y_test, y_test_prediction) * 100))"
   ]
  },
  {
   "cell_type": "markdown",
   "id": "0bbd57f1",
   "metadata": {},
   "source": [
    "#### Подбор параметра регуляризации и количества нейронов"
   ]
  },
  {
   "cell_type": "code",
   "execution_count": 66,
   "id": "9306e8f7",
   "metadata": {},
   "outputs": [],
   "source": [
    "neuron_arr = np.linspace(10, 300, 5).astype(int)\n",
    "alpha_arr = np.logspace(-3, 2, 5)\n",
    "test_err = []\n",
    "train_err = []\n",
    "train_acc = []\n",
    "test_acc = []\n",
    "neuron_alpha_opt = []\n",
    "\n",
    "for neuron in neuron_arr:\n",
    "    for alpha in alpha_arr:\n",
    "        mlp_model = MLPClassifier(alpha=alpha, hidden_layer_sizes=(neuron,),\n",
    "                                  solver='adam', activation='relu', max_iter=1500, random_state=3)\n",
    "        mlp_model.fit(X_train, y_train)\n",
    "\n",
    "        y_train_prediction = mlp_model.predict(X_train)\n",
    "        y_test_prediction = mlp_model.predict(X_test)\n",
    "\n",
    "        train_err.append(np.mean(y_train != y_train_prediction))\n",
    "        test_err.append(np.mean(y_test != y_test_prediction))\n",
    "        train_acc.append(accuracy_score(y_train, y_train_prediction))\n",
    "        test_acc.append(accuracy_score(y_test, y_test_prediction))\n",
    "        neuron_alpha_opt.append([neuron, alpha])"
   ]
  },
  {
   "cell_type": "code",
   "execution_count": 67,
   "id": "6f877f30",
   "metadata": {},
   "outputs": [
    {
     "name": "stdout",
     "output_type": "stream",
     "text": [
      "Neuron count opt: 227\n",
      "Alpha opt:  0.001\n"
     ]
    }
   ],
   "source": [
    "min_test_err = np.min(test_err)\n",
    "i, = np.where(test_err == min_test_err)\n",
    "neuron_opt, alpha_opt = neuron_alpha_opt[i[0]]\n",
    "print(\"Neuron count opt:\", neuron_opt)\n",
    "print(\"Alpha opt: \", alpha_opt)"
   ]
  },
  {
   "cell_type": "markdown",
   "id": "64ecc36a",
   "metadata": {},
   "source": [
    "Классификатор с учетом оптимальных значений\n",
    "\n"
   ]
  },
  {
   "cell_type": "code",
   "execution_count": 68,
   "id": "30b88403",
   "metadata": {},
   "outputs": [],
   "source": [
    "mlp_model = MLPClassifier(alpha=alpha_opt, hidden_layer_sizes=(neuron_opt,),\n",
    "                          solver='adam', activation='relu', max_iter=2000, random_state=93)\n",
    "mlp_model.fit(X_train, y_train)\n",
    "\n",
    "y_train_prediction = mlp_model.predict(X_train)\n",
    "y_test_prediction = mlp_model.predict(X_test)"
   ]
  },
  {
   "cell_type": "code",
   "execution_count": 69,
   "id": "9be7a028",
   "metadata": {},
   "outputs": [
    {
     "name": "stdout",
     "output_type": "stream",
     "text": [
      "Train: 96.45% Test: 93.99%\n"
     ]
    }
   ],
   "source": [
    "print(\"Train: {:.2f}% Test: {:.2f}%\".format(accuracy_score(y_train, y_train_prediction)\n",
    "      * 100, accuracy_score(y_test, y_test_prediction) * 100))"
   ]
  },
  {
   "cell_type": "markdown",
   "id": "2d8f38fd",
   "metadata": {},
   "source": [
    "### Матрица рассогласования"
   ]
  },
  {
   "cell_type": "code",
   "execution_count": 70,
   "id": "d4be4a77",
   "metadata": {},
   "outputs": [
    {
     "data": {
      "image/png": "[encoded data removed]",
      "text/plain": [
       "<Figure size 432x288 with 2 Axes>"
      ]
     },
     "metadata": {
      "needs_background": "light"
     },
     "output_type": "display_data"
    }
   ],
   "source": [
    "confusion = confusion_matrix(y_test, y_test_prediction, labels=model.classes_)\n",
    "display = ConfusionMatrixDisplay(confusion_matrix=confusion, display_labels=model.classes_)\n",
    "display.plot()\n",
    "plt.show()\n",
    "pass"
   ]
  },
  {
   "cell_type": "markdown",
   "id": "5fc72764",
   "metadata": {},
   "source": [
    "### Выводы"
   ]
  },
  {
   "cell_type": "markdown",
   "id": "d700f85b",
   "metadata": {},
   "source": [
    "В данной работе была обучена полносвязная нейронная сеть и были сделаны следующие выводы:\n",
    "\n",
    "- Ни на одном из этапов подбора оптимальных параметров не было обнаружено недообучение или переобучение. \n",
    "- Улучшить точность на тренировочной выборке удалось при выборе одновременно оптимального числа нейронов в скрытом слое и параметра альфа.\n",
    "- На тестовой выборке лучший результат был достигнут при выборе только оптимального числа нейронов в скрытом слое."
   ]
  }
 ],
 "metadata": {
  "kernelspec": {
   "display_name": "Python 3 (ipykernel)",
   "language": "python",
   "name": "python3"
  },
  "language_info": {
   "codemirror_mode": {
    "name": "ipython",
    "version": 3
   },
   "file_extension": ".py",
   "mimetype": "text/x-python",
   "name": "python",
   "nbconvert_exporter": "python",
   "pygments_lexer": "ipython3",
   "version": "3.9.12"
  }
 },
 "nbformat": 4,
 "nbformat_minor": 5
}
