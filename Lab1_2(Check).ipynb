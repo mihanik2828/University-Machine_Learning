{
 "cells": [
  {
   "cell_type": "code",
   "execution_count": 3,
   "id": "af7a1692",
   "metadata": {},
   "outputs": [],
   "source": [
    "import numpy as np\n",
    "import matplotlib.pyplot as plt\n",
    "import pandas as pd\n",
    "import seaborn as sns\n",
    "import sklearn\n",
    "%matplotlib inline\n"
   ]
  },
  {
   "cell_type": "markdown",
   "id": "4e05190c",
   "metadata": {},
   "source": [
    "# Информация о датасете"
   ]
  },
  {
   "cell_type": "markdown",
   "id": "875fd53f",
   "metadata": {},
   "source": [
    "Набор данных представляет собой список из 90836 сертифицированных NASA астероидов, которые классифицируются как ближайшие к Земле объекты. Датасет содержит различные параметры /особенности, на основе которых конкретный астероид можно отнести к классу опасных или неопасных. Набор данных содержит 10 признаков."
   ]
  },
  {
   "cell_type": "markdown",
   "id": "39b09046",
   "metadata": {},
   "source": [
    "# Загрузка и анализ данных"
   ]
  },
  {
   "cell_type": "code",
   "execution_count": 4,
   "id": "b8998097",
   "metadata": {},
   "outputs": [
    {
     "data": {
      "text/plain": [
       "(90836, 10)"
      ]
     },
     "execution_count": 4,
     "metadata": {},
     "output_type": "execute_result"
    }
   ],
   "source": [
    "url = \"https://raw.githubusercontent.com/mihanik2828/University-Machine_Learning/main/NASA2.csv\"\n",
    "data_raw = pd.read_csv(url, sep=',', engine='python')\n",
    "data_raw.shape"
   ]
  },
  {
   "cell_type": "markdown",
   "id": "1288ebf5",
   "metadata": {},
   "source": [
    "Размеры таблицы соответствуют количеству строк, каждая из которых относится к определенному астероиду и количество столбцов, каждый из которых отвечает за конкретный признак. Наш набор данных содержит 90836 строк и 10 столбцов."
   ]
  },
  {
   "cell_type": "code",
   "execution_count": 5,
   "id": "a5ee281d",
   "metadata": {},
   "outputs": [
    {
     "data": {
      "text/html": [
       "<div>\n",
       "<style scoped>\n",
       "    .dataframe tbody tr th:only-of-type {\n",
       "        vertical-align: middle;\n",
       "    }\n",
       "\n",
       "    .dataframe tbody tr th {\n",
       "        vertical-align: top;\n",
       "    }\n",
       "\n",
       "    .dataframe thead th {\n",
       "        text-align: right;\n",
       "    }\n",
       "</style>\n",
       "<table border=\"1\" class=\"dataframe\">\n",
       "  <thead>\n",
       "    <tr style=\"text-align: right;\">\n",
       "      <th></th>\n",
       "      <th>id</th>\n",
       "      <th>name</th>\n",
       "      <th>est_diameter_min</th>\n",
       "      <th>est_diameter_max</th>\n",
       "      <th>relative_velocity</th>\n",
       "      <th>miss_distance</th>\n",
       "      <th>orbiting_body</th>\n",
       "      <th>sentry_object</th>\n",
       "      <th>absolute_magnitude</th>\n",
       "      <th>hazardous</th>\n",
       "    </tr>\n",
       "  </thead>\n",
       "  <tbody>\n",
       "    <tr>\n",
       "      <th>0</th>\n",
       "      <td>2162635</td>\n",
       "      <td>162635 (2000 SS164)</td>\n",
       "      <td>1.198271</td>\n",
       "      <td>2.679415</td>\n",
       "      <td>13569.249224</td>\n",
       "      <td>5.483974e+07</td>\n",
       "      <td>Earth</td>\n",
       "      <td>False</td>\n",
       "      <td>16.73</td>\n",
       "      <td>False</td>\n",
       "    </tr>\n",
       "    <tr>\n",
       "      <th>1</th>\n",
       "      <td>2277475</td>\n",
       "      <td>277475 (2005 WK4)</td>\n",
       "      <td>0.265800</td>\n",
       "      <td>0.594347</td>\n",
       "      <td>73588.726663</td>\n",
       "      <td>6.143813e+07</td>\n",
       "      <td>Earth</td>\n",
       "      <td>False</td>\n",
       "      <td>20.00</td>\n",
       "      <td>True</td>\n",
       "    </tr>\n",
       "    <tr>\n",
       "      <th>2</th>\n",
       "      <td>2512244</td>\n",
       "      <td>512244 (2015 YE18)</td>\n",
       "      <td>0.722030</td>\n",
       "      <td>1.614507</td>\n",
       "      <td>114258.692129</td>\n",
       "      <td>4.979872e+07</td>\n",
       "      <td>Earth</td>\n",
       "      <td>False</td>\n",
       "      <td>17.83</td>\n",
       "      <td>False</td>\n",
       "    </tr>\n",
       "    <tr>\n",
       "      <th>3</th>\n",
       "      <td>3596030</td>\n",
       "      <td>(2012 BV13)</td>\n",
       "      <td>0.096506</td>\n",
       "      <td>0.215794</td>\n",
       "      <td>24764.303138</td>\n",
       "      <td>2.543497e+07</td>\n",
       "      <td>Earth</td>\n",
       "      <td>False</td>\n",
       "      <td>22.20</td>\n",
       "      <td>False</td>\n",
       "    </tr>\n",
       "    <tr>\n",
       "      <th>4</th>\n",
       "      <td>3667127</td>\n",
       "      <td>(2014 GE35)</td>\n",
       "      <td>0.255009</td>\n",
       "      <td>0.570217</td>\n",
       "      <td>42737.733765</td>\n",
       "      <td>4.627557e+07</td>\n",
       "      <td>Earth</td>\n",
       "      <td>False</td>\n",
       "      <td>20.09</td>\n",
       "      <td>True</td>\n",
       "    </tr>\n",
       "  </tbody>\n",
       "</table>\n",
       "</div>"
      ],
      "text/plain": [
       "        id                 name  est_diameter_min  est_diameter_max  \\\n",
       "0  2162635  162635 (2000 SS164)          1.198271          2.679415   \n",
       "1  2277475    277475 (2005 WK4)          0.265800          0.594347   \n",
       "2  2512244   512244 (2015 YE18)          0.722030          1.614507   \n",
       "3  3596030          (2012 BV13)          0.096506          0.215794   \n",
       "4  3667127          (2014 GE35)          0.255009          0.570217   \n",
       "\n",
       "   relative_velocity  miss_distance orbiting_body  sentry_object  \\\n",
       "0       13569.249224   5.483974e+07         Earth          False   \n",
       "1       73588.726663   6.143813e+07         Earth          False   \n",
       "2      114258.692129   4.979872e+07         Earth          False   \n",
       "3       24764.303138   2.543497e+07         Earth          False   \n",
       "4       42737.733765   4.627557e+07         Earth          False   \n",
       "\n",
       "   absolute_magnitude  hazardous  \n",
       "0               16.73      False  \n",
       "1               20.00       True  \n",
       "2               17.83      False  \n",
       "3               22.20      False  \n",
       "4               20.09       True  "
      ]
     },
     "execution_count": 5,
     "metadata": {},
     "output_type": "execute_result"
    }
   ],
   "source": [
    "data_raw.head()"
   ]
  },
  {
   "cell_type": "markdown",
   "id": "1fd390da",
   "metadata": {},
   "source": [
    "\n",
    "#### Признаки:\n",
    "\n",
    "1. id - уникальный идентификатор для каждого астероида\n",
    "2. name - название, данное NASA\n",
    "3. est_diameter_min - минимальный расчетный диаметр в километрах\n",
    "4. est_diameter_max - максимальный расчетный диаметр в километрах\n",
    "5. relative_velocity - скорость относительно Земли\n",
    "6. miss_distance - пройденное расстояние в километрах\n",
    "7. orbiting_body - планета, вокруг которой вращается астероид\n",
    "8. sentry_object - входит или нет в состав sentry (автоматизированной системы мониторинга столкновений)\n",
    "9. absolute_magnitude - описывает внутреннюю светимость\n",
    "10. hazardous - показывает, является ли астероид вредным или нет\n"
   ]
  },
  {
   "cell_type": "markdown",
   "id": "095d6a7a",
   "metadata": {},
   "source": [
    "Выведем информацию о столбцах, чтобы узнать тип значений в них"
   ]
  },
  {
   "cell_type": "code",
   "execution_count": 6,
   "id": "a847d831",
   "metadata": {},
   "outputs": [
    {
     "name": "stdout",
     "output_type": "stream",
     "text": [
      "<class 'pandas.core.frame.DataFrame'>\n",
      "RangeIndex: 90836 entries, 0 to 90835\n",
      "Data columns (total 10 columns):\n",
      " #   Column              Non-Null Count  Dtype  \n",
      "---  ------              --------------  -----  \n",
      " 0   id                  90836 non-null  int64  \n",
      " 1   name                90836 non-null  object \n",
      " 2   est_diameter_min    90836 non-null  float64\n",
      " 3   est_diameter_max    90836 non-null  float64\n",
      " 4   relative_velocity   90836 non-null  float64\n",
      " 5   miss_distance       90836 non-null  float64\n",
      " 6   orbiting_body       90836 non-null  object \n",
      " 7   sentry_object       90836 non-null  bool   \n",
      " 8   absolute_magnitude  90836 non-null  float64\n",
      " 9   hazardous           90836 non-null  bool   \n",
      "dtypes: bool(2), float64(5), int64(1), object(2)\n",
      "memory usage: 5.7+ MB\n"
     ]
    }
   ],
   "source": [
    "data_raw.info()"
   ]
  },
  {
   "cell_type": "markdown",
   "id": "d71f1bcb",
   "metadata": {},
   "source": [
    "Признаки \"sentry_object\" и \"hazardous\" - бинарные (типа bool), \"name\" и \"orbiting_body\" - категориальные (типа object), остальные признаки - количественные (типа int64 и float64 )."
   ]
  },
  {
   "cell_type": "markdown",
   "id": "94756a3e",
   "metadata": {},
   "source": [
    "У признака \"hazardous\" можно заметить несбалансированность классов: обьектов класса 0 сильно больше, чем объектов класса 1"
   ]
  },
  {
   "cell_type": "code",
   "execution_count": 7,
   "id": "cdd9fd25",
   "metadata": {},
   "outputs": [
    {
     "data": {
      "text/plain": [
       "False    81996\n",
       "True      8840\n",
       "Name: hazardous, dtype: int64"
      ]
     },
     "execution_count": 7,
     "metadata": {},
     "output_type": "execute_result"
    }
   ],
   "source": [
    "data_raw['hazardous'].value_counts()"
   ]
  },
  {
   "cell_type": "code",
   "execution_count": 8,
   "id": "c9a35e97",
   "metadata": {},
   "outputs": [],
   "source": [
    "data_raw['sentry_object'] = data_raw['sentry_object'].astype('float32')\n",
    "data_raw['hazardous'] = data_raw['hazardous'].astype('float32')"
   ]
  },
  {
   "cell_type": "markdown",
   "id": "f8e47d0a",
   "metadata": {},
   "source": [
    "# Обработка категориальных признаков"
   ]
  },
  {
   "cell_type": "markdown",
   "id": "d968c15d",
   "metadata": {},
   "source": [
    "Заменим тип Object некоторых признаков на специальный тип, который предназначен для хранения категориальных значений"
   ]
  },
  {
   "cell_type": "code",
   "execution_count": 9,
   "id": "6819550d",
   "metadata": {},
   "outputs": [],
   "source": [
    "data_raw['name'] = data_raw['name'].astype('category')\n",
    "data_raw['orbiting_body'] = data_raw['orbiting_body'].astype('category')"
   ]
  },
  {
   "cell_type": "code",
   "execution_count": 10,
   "id": "2d5da583",
   "metadata": {},
   "outputs": [
    {
     "data": {
      "text/plain": [
       "CategoricalDtype(categories=['(1983 LC)', '(1986 NA)', '(1988 NE)', '(1989 AZ)',\n",
       "                  '(1991 GO)', '(1991 TF3)', '(1991 VG)', '(1992 JD)',\n",
       "                  '(1992 SZ)', '(1993 DA)',\n",
       "                  ...\n",
       "                  '96744 (1999 OW3)', '97725 (2000 GB147)', '9856 (1991 EE)',\n",
       "                  '98943 (2001 CC21)', '99248 (2001 KY66)',\n",
       "                  '9950 ESA (1990 VB)', '99799 (2002 LJ3)', '99907 (1989 VA)',\n",
       "                  '99935 (2002 AV4)', '99942 Apophis (2004 MN4)'],\n",
       ", ordered=False)"
      ]
     },
     "execution_count": 10,
     "metadata": {},
     "output_type": "execute_result"
    }
   ],
   "source": [
    "data_raw['name'].dtype"
   ]
  },
  {
   "cell_type": "code",
   "execution_count": 11,
   "id": "11fe6645",
   "metadata": {},
   "outputs": [
    {
     "data": {
      "text/plain": [
       "CategoricalDtype(categories=['Earth'], ordered=False)"
      ]
     },
     "execution_count": 11,
     "metadata": {},
     "output_type": "execute_result"
    }
   ],
   "source": [
    "data_raw['orbiting_body'].dtype"
   ]
  },
  {
   "cell_type": "code",
   "execution_count": 12,
   "id": "0886315e",
   "metadata": {},
   "outputs": [
    {
     "name": "stdout",
     "output_type": "stream",
     "text": [
      "<class 'pandas.core.frame.DataFrame'>\n",
      "RangeIndex: 90836 entries, 0 to 90835\n",
      "Data columns (total 10 columns):\n",
      " #   Column              Non-Null Count  Dtype   \n",
      "---  ------              --------------  -----   \n",
      " 0   id                  90836 non-null  int64   \n",
      " 1   name                90836 non-null  category\n",
      " 2   est_diameter_min    90836 non-null  float64 \n",
      " 3   est_diameter_max    90836 non-null  float64 \n",
      " 4   relative_velocity   90836 non-null  float64 \n",
      " 5   miss_distance       90836 non-null  float64 \n",
      " 6   orbiting_body       90836 non-null  category\n",
      " 7   sentry_object       90836 non-null  float32 \n",
      " 8   absolute_magnitude  90836 non-null  float64 \n",
      " 9   hazardous           90836 non-null  float32 \n",
      "dtypes: category(2), float32(2), float64(5), int64(1)\n",
      "memory usage: 6.3 MB\n"
     ]
    }
   ],
   "source": [
    "data_raw.info()"
   ]
  },
  {
   "cell_type": "markdown",
   "id": "31ec05eb",
   "metadata": {},
   "source": [
    "# Обработка выбросов"
   ]
  },
  {
   "cell_type": "markdown",
   "id": "e5db60ff",
   "metadata": {},
   "source": [
    "Построим диаграммы рассеивания для признаков: absolute_magnitude и est_diameter_min и аналогично для absolute_magnitude и est_diameter_max"
   ]
  },
  {
   "cell_type": "code",
   "execution_count": 13,
   "id": "e05dcb9b",
   "metadata": {},
   "outputs": [
    {
     "data": {
      "image/png": "[encoded data removed]",
      "text/plain": [
       "<Figure size 432x288 with 1 Axes>"
      ]
     },
     "metadata": {
      "needs_background": "light"
     },
     "output_type": "display_data"
    }
   ],
   "source": [
    "plt.scatter(data_raw['absolute_magnitude'], data_raw['est_diameter_min'], alpha=1)\n",
    "plt.xlabel('absolute_magnitude')\n",
    "plt.ylabel('est_diameter_min')\n",
    "pass"
   ]
  },
  {
   "cell_type": "code",
   "execution_count": 14,
   "id": "ed09dfa6",
   "metadata": {},
   "outputs": [
    {
     "data": {
      "image/png": "[encoded data removed]",
      "text/plain": [
       "<Figure size 432x288 with 1 Axes>"
      ]
     },
     "metadata": {
      "needs_background": "light"
     },
     "output_type": "display_data"
    }
   ],
   "source": [
    "plt.scatter(data_raw['absolute_magnitude'], data_raw['est_diameter_max'], alpha=1)\n",
    "plt.xlabel('absolute_magnitude')\n",
    "plt.ylabel('est_diameter_max')\n",
    "pass"
   ]
  },
  {
   "cell_type": "markdown",
   "id": "37b5770c",
   "metadata": {},
   "source": [
    "Видим, что основная масса точек расположена в нижней части графика, но некоторые точки сильно выбиваются из общей массы как в первом случае, так и во втором.\n",
    "\n",
    "Аналогично проверим зависимость скорости от пройденного растояния и скорости от диаметра."
   ]
  },
  {
   "cell_type": "code",
   "execution_count": 15,
   "id": "92a95ce5",
   "metadata": {},
   "outputs": [
    {
     "data": {
      "image/png": "[encoded data removed]",
      "text/plain": [
       "<Figure size 432x288 with 1 Axes>"
      ]
     },
     "metadata": {
      "needs_background": "light"
     },
     "output_type": "display_data"
    }
   ],
   "source": [
    "plt.scatter(data_raw['relative_velocity'], data_raw['miss_distance'], alpha=1)\n",
    "plt.xlabel('relative_velocity')\n",
    "plt.ylabel('miss_distance')\n",
    "pass"
   ]
  },
  {
   "cell_type": "code",
   "execution_count": 16,
   "id": "983d6722",
   "metadata": {},
   "outputs": [
    {
     "data": {
      "image/png": "[encoded data removed]",
      "text/plain": [
       "<Figure size 432x288 with 1 Axes>"
      ]
     },
     "metadata": {
      "needs_background": "light"
     },
     "output_type": "display_data"
    }
   ],
   "source": [
    "plt.scatter(data_raw['relative_velocity'], data_raw['est_diameter_min'], alpha=1)\n",
    "plt.xlabel('relative_velocity')\n",
    "plt.ylabel('est_diameter_min')\n",
    "pass"
   ]
  },
  {
   "cell_type": "markdown",
   "id": "bfefd2a5",
   "metadata": {},
   "source": [
    "Также видим, что есть некоторые точки, которые сильно выбиваются из общей массы. Для обнаружения выбросов найдем квантили для признаков est_diameter_max, est_diameter_min и relative_velocity:"
   ]
  },
  {
   "cell_type": "code",
   "execution_count": 17,
   "id": "73ba6f32",
   "metadata": {},
   "outputs": [
    {
     "data": {
      "text/plain": [
       "0.100     0.021579\n",
       "0.500     0.108153\n",
       "0.700     0.259442\n",
       "0.900     0.682402\n",
       "0.950     1.052059\n",
       "0.999     6.339281\n",
       "1.000    84.730541\n",
       "Name: est_diameter_max, dtype: float64"
      ]
     },
     "execution_count": 17,
     "metadata": {},
     "output_type": "execute_result"
    }
   ],
   "source": [
    "data_raw['est_diameter_max'].quantile([.1,.5,.70, .90, .95, .999, 1])"
   ]
  },
  {
   "cell_type": "code",
   "execution_count": 18,
   "id": "a8f1304f",
   "metadata": {},
   "outputs": [
    {
     "data": {
      "text/plain": [
       "0.100     0.009651\n",
       "0.500     0.048368\n",
       "0.700     0.116026\n",
       "0.900     0.305179\n",
       "0.950     0.470495\n",
       "0.999     2.835012\n",
       "1.000    37.892650\n",
       "Name: est_diameter_min, dtype: float64"
      ]
     },
     "execution_count": 18,
     "metadata": {},
     "output_type": "execute_result"
    }
   ],
   "source": [
    "data_raw['est_diameter_min'].quantile([.1,.5,.70, .90, .95, .999, 1])"
   ]
  },
  {
   "cell_type": "code",
   "execution_count": 19,
   "id": "ae57280e",
   "metadata": {},
   "outputs": [
    {
     "data": {
      "text/plain": [
       "0.100     19497.241740\n",
       "0.500     44190.117890\n",
       "0.700     58646.867149\n",
       "0.900     82071.928548\n",
       "0.950     95214.588889\n",
       "0.999    153758.426260\n",
       "1.000    236990.128088\n",
       "Name: relative_velocity, dtype: float64"
      ]
     },
     "execution_count": 19,
     "metadata": {},
     "output_type": "execute_result"
    }
   ],
   "source": [
    "data_raw['relative_velocity'].quantile([.1,.5,.70, .90, .95, .999, 1])"
   ]
  },
  {
   "cell_type": "markdown",
   "id": "f144df57",
   "metadata": {},
   "source": [
    "Для признака est_diameter_max уберем значения, которые превышают значения квантиля равное 0.999, аналогично сделаем и для остальных 2 признков"
   ]
  },
  {
   "cell_type": "code",
   "execution_count": 20,
   "id": "2b7cd07b",
   "metadata": {},
   "outputs": [
    {
     "data": {
      "text/plain": [
       "(90656, 10)"
      ]
     },
     "execution_count": 20,
     "metadata": {},
     "output_type": "execute_result"
    }
   ],
   "source": [
    "rows_to_drop = data_raw[\n",
    "    (data_raw['est_diameter_min'] > data_raw['est_diameter_min'].quantile(0.999)) | (data_raw['est_diameter_max'] > data_raw['est_diameter_max'].quantile(0.999)) | (data_raw['relative_velocity'] > data_raw['relative_velocity'].quantile(0.999))].index\n",
    "data1 = data_raw.drop(rows_to_drop)\n",
    "data1.shape"
   ]
  },
  {
   "cell_type": "markdown",
   "id": "49a76531",
   "metadata": {},
   "source": [
    "# Визуализация и описательная статистика"
   ]
  },
  {
   "cell_type": "code",
   "execution_count": 21,
   "id": "7a19488a",
   "metadata": {},
   "outputs": [
    {
     "data": {
      "text/html": [
       "<div>\n",
       "<style scoped>\n",
       "    .dataframe tbody tr th:only-of-type {\n",
       "        vertical-align: middle;\n",
       "    }\n",
       "\n",
       "    .dataframe tbody tr th {\n",
       "        vertical-align: top;\n",
       "    }\n",
       "\n",
       "    .dataframe thead th {\n",
       "        text-align: right;\n",
       "    }\n",
       "</style>\n",
       "<table border=\"1\" class=\"dataframe\">\n",
       "  <thead>\n",
       "    <tr style=\"text-align: right;\">\n",
       "      <th></th>\n",
       "      <th>id</th>\n",
       "      <th>est_diameter_min</th>\n",
       "      <th>est_diameter_max</th>\n",
       "      <th>relative_velocity</th>\n",
       "      <th>miss_distance</th>\n",
       "      <th>sentry_object</th>\n",
       "      <th>absolute_magnitude</th>\n",
       "      <th>hazardous</th>\n",
       "    </tr>\n",
       "  </thead>\n",
       "  <tbody>\n",
       "    <tr>\n",
       "      <th>count</th>\n",
       "      <td>9.065600e+04</td>\n",
       "      <td>90656.000000</td>\n",
       "      <td>90656.000000</td>\n",
       "      <td>90656.000000</td>\n",
       "      <td>9.065600e+04</td>\n",
       "      <td>90656.000000</td>\n",
       "      <td>90656.000000</td>\n",
       "      <td>90656.000000</td>\n",
       "    </tr>\n",
       "    <tr>\n",
       "      <th>mean</th>\n",
       "      <td>1.440276e+07</td>\n",
       "      <td>0.122495</td>\n",
       "      <td>0.273908</td>\n",
       "      <td>47922.620144</td>\n",
       "      <td>3.703208e+07</td>\n",
       "      <td>0.000143</td>\n",
       "      <td>23.540463</td>\n",
       "      <td>0.096960</td>\n",
       "    </tr>\n",
       "    <tr>\n",
       "      <th>std</th>\n",
       "      <td>2.088387e+07</td>\n",
       "      <td>0.205174</td>\n",
       "      <td>0.458783</td>\n",
       "      <td>25005.237881</td>\n",
       "      <td>2.234861e+07</td>\n",
       "      <td>0.011973</td>\n",
       "      <td>2.878255</td>\n",
       "      <td>0.295832</td>\n",
       "    </tr>\n",
       "    <tr>\n",
       "      <th>min</th>\n",
       "      <td>2.000719e+06</td>\n",
       "      <td>0.000609</td>\n",
       "      <td>0.001362</td>\n",
       "      <td>203.346433</td>\n",
       "      <td>6.745533e+03</td>\n",
       "      <td>0.000000</td>\n",
       "      <td>14.860000</td>\n",
       "      <td>0.000000</td>\n",
       "    </tr>\n",
       "    <tr>\n",
       "      <th>25%</th>\n",
       "      <td>3.449132e+06</td>\n",
       "      <td>0.019256</td>\n",
       "      <td>0.043057</td>\n",
       "      <td>28586.911303</td>\n",
       "      <td>1.718138e+07</td>\n",
       "      <td>0.000000</td>\n",
       "      <td>21.370000</td>\n",
       "      <td>0.000000</td>\n",
       "    </tr>\n",
       "    <tr>\n",
       "      <th>50%</th>\n",
       "      <td>3.748469e+06</td>\n",
       "      <td>0.048368</td>\n",
       "      <td>0.108153</td>\n",
       "      <td>44138.526799</td>\n",
       "      <td>3.779902e+07</td>\n",
       "      <td>0.000000</td>\n",
       "      <td>23.700000</td>\n",
       "      <td>0.000000</td>\n",
       "    </tr>\n",
       "    <tr>\n",
       "      <th>75%</th>\n",
       "      <td>3.884240e+06</td>\n",
       "      <td>0.141434</td>\n",
       "      <td>0.316257</td>\n",
       "      <td>62828.305287</td>\n",
       "      <td>5.648681e+07</td>\n",
       "      <td>0.000000</td>\n",
       "      <td>25.700000</td>\n",
       "      <td>0.000000</td>\n",
       "    </tr>\n",
       "    <tr>\n",
       "      <th>max</th>\n",
       "      <td>5.427591e+07</td>\n",
       "      <td>2.835012</td>\n",
       "      <td>6.339281</td>\n",
       "      <td>153752.342038</td>\n",
       "      <td>7.479865e+07</td>\n",
       "      <td>1.000000</td>\n",
       "      <td>33.200000</td>\n",
       "      <td>1.000000</td>\n",
       "    </tr>\n",
       "  </tbody>\n",
       "</table>\n",
       "</div>"
      ],
      "text/plain": [
       "                 id  est_diameter_min  est_diameter_max  relative_velocity  \\\n",
       "count  9.065600e+04      90656.000000      90656.000000       90656.000000   \n",
       "mean   1.440276e+07          0.122495          0.273908       47922.620144   \n",
       "std    2.088387e+07          0.205174          0.458783       25005.237881   \n",
       "min    2.000719e+06          0.000609          0.001362         203.346433   \n",
       "25%    3.449132e+06          0.019256          0.043057       28586.911303   \n",
       "50%    3.748469e+06          0.048368          0.108153       44138.526799   \n",
       "75%    3.884240e+06          0.141434          0.316257       62828.305287   \n",
       "max    5.427591e+07          2.835012          6.339281      153752.342038   \n",
       "\n",
       "       miss_distance  sentry_object  absolute_magnitude     hazardous  \n",
       "count   9.065600e+04   90656.000000        90656.000000  90656.000000  \n",
       "mean    3.703208e+07       0.000143           23.540463      0.096960  \n",
       "std     2.234861e+07       0.011973            2.878255      0.295832  \n",
       "min     6.745533e+03       0.000000           14.860000      0.000000  \n",
       "25%     1.718138e+07       0.000000           21.370000      0.000000  \n",
       "50%     3.779902e+07       0.000000           23.700000      0.000000  \n",
       "75%     5.648681e+07       0.000000           25.700000      0.000000  \n",
       "max     7.479865e+07       1.000000           33.200000      1.000000  "
      ]
     },
     "execution_count": 21,
     "metadata": {},
     "output_type": "execute_result"
    }
   ],
   "source": [
    "data1.describe()"
   ]
  },
  {
   "cell_type": "markdown",
   "id": "e387989b",
   "metadata": {},
   "source": [
    "- count - количество значений для каждого признака\n",
    "- mean - среднее значение\n",
    "- std - стандартное отклонение\n",
    "- min/max - минимальное / максимальное значение\n",
    "- 25% - первый квартиль\n",
    "- 50% - медиана\n",
    "- 75% - третий квартиль"
   ]
  },
  {
   "cell_type": "code",
   "execution_count": 22,
   "id": "51aa0247",
   "metadata": {},
   "outputs": [
    {
     "data": {
      "text/html": [
       "<div>\n",
       "<style scoped>\n",
       "    .dataframe tbody tr th:only-of-type {\n",
       "        vertical-align: middle;\n",
       "    }\n",
       "\n",
       "    .dataframe tbody tr th {\n",
       "        vertical-align: top;\n",
       "    }\n",
       "\n",
       "    .dataframe thead th {\n",
       "        text-align: right;\n",
       "    }\n",
       "</style>\n",
       "<table border=\"1\" class=\"dataframe\">\n",
       "  <thead>\n",
       "    <tr style=\"text-align: right;\">\n",
       "      <th></th>\n",
       "      <th>name</th>\n",
       "      <th>orbiting_body</th>\n",
       "    </tr>\n",
       "  </thead>\n",
       "  <tbody>\n",
       "    <tr>\n",
       "      <th>count</th>\n",
       "      <td>90656</td>\n",
       "      <td>90656</td>\n",
       "    </tr>\n",
       "    <tr>\n",
       "      <th>unique</th>\n",
       "      <td>27374</td>\n",
       "      <td>1</td>\n",
       "    </tr>\n",
       "    <tr>\n",
       "      <th>top</th>\n",
       "      <td>469219 Kamo`oalewa (2016 HO3)</td>\n",
       "      <td>Earth</td>\n",
       "    </tr>\n",
       "    <tr>\n",
       "      <th>freq</th>\n",
       "      <td>43</td>\n",
       "      <td>90656</td>\n",
       "    </tr>\n",
       "  </tbody>\n",
       "</table>\n",
       "</div>"
      ],
      "text/plain": [
       "                                 name orbiting_body\n",
       "count                           90656         90656\n",
       "unique                          27374             1\n",
       "top     469219 Kamo`oalewa (2016 HO3)         Earth\n",
       "freq                               43         90656"
      ]
     },
     "execution_count": 22,
     "metadata": {},
     "output_type": "execute_result"
    }
   ],
   "source": [
    "data1.describe(include=['category'])"
   ]
  },
  {
   "cell_type": "markdown",
   "id": "daa77a9a",
   "metadata": {},
   "source": [
    "Для категориальных признаков мы получили:\n",
    "\n",
    "- count - количество значений.\n",
    "- unique - количество уникальных значений.\n",
    "- top - наиболее встречающееся значение.\n",
    "- freq - частота наиболее встречающегося значения."
   ]
  },
  {
   "cell_type": "markdown",
   "id": "a71b802c",
   "metadata": {},
   "source": [
    "## Вычислим матрицу корреляции"
   ]
  },
  {
   "cell_type": "code",
   "execution_count": 23,
   "id": "9ff1ff47",
   "metadata": {},
   "outputs": [
    {
     "data": {
      "text/html": [
       "<div>\n",
       "<style scoped>\n",
       "    .dataframe tbody tr th:only-of-type {\n",
       "        vertical-align: middle;\n",
       "    }\n",
       "\n",
       "    .dataframe tbody tr th {\n",
       "        vertical-align: top;\n",
       "    }\n",
       "\n",
       "    .dataframe thead th {\n",
       "        text-align: right;\n",
       "    }\n",
       "</style>\n",
       "<table border=\"1\" class=\"dataframe\">\n",
       "  <thead>\n",
       "    <tr style=\"text-align: right;\">\n",
       "      <th></th>\n",
       "      <th>id</th>\n",
       "      <th>est_diameter_min</th>\n",
       "      <th>est_diameter_max</th>\n",
       "      <th>relative_velocity</th>\n",
       "      <th>miss_distance</th>\n",
       "      <th>sentry_object</th>\n",
       "      <th>absolute_magnitude</th>\n",
       "      <th>hazardous</th>\n",
       "    </tr>\n",
       "  </thead>\n",
       "  <tbody>\n",
       "    <tr>\n",
       "      <th>id</th>\n",
       "      <td>1.000000</td>\n",
       "      <td>-0.201987</td>\n",
       "      <td>-0.201987</td>\n",
       "      <td>-0.057510</td>\n",
       "      <td>-0.055825</td>\n",
       "      <td>-0.001900</td>\n",
       "      <td>0.276647</td>\n",
       "      <td>-0.123278</td>\n",
       "    </tr>\n",
       "    <tr>\n",
       "      <th>est_diameter_min</th>\n",
       "      <td>-0.201987</td>\n",
       "      <td>1.000000</td>\n",
       "      <td>1.000000</td>\n",
       "      <td>0.304737</td>\n",
       "      <td>0.194929</td>\n",
       "      <td>0.003518</td>\n",
       "      <td>-0.736269</td>\n",
       "      <td>0.263286</td>\n",
       "    </tr>\n",
       "    <tr>\n",
       "      <th>est_diameter_max</th>\n",
       "      <td>-0.201987</td>\n",
       "      <td>1.000000</td>\n",
       "      <td>1.000000</td>\n",
       "      <td>0.304737</td>\n",
       "      <td>0.194929</td>\n",
       "      <td>0.003518</td>\n",
       "      <td>-0.736269</td>\n",
       "      <td>0.263286</td>\n",
       "    </tr>\n",
       "    <tr>\n",
       "      <th>relative_velocity</th>\n",
       "      <td>-0.057510</td>\n",
       "      <td>0.304737</td>\n",
       "      <td>0.304737</td>\n",
       "      <td>1.000000</td>\n",
       "      <td>0.325950</td>\n",
       "      <td>0.002217</td>\n",
       "      <td>-0.350634</td>\n",
       "      <td>0.189198</td>\n",
       "    </tr>\n",
       "    <tr>\n",
       "      <th>miss_distance</th>\n",
       "      <td>-0.055825</td>\n",
       "      <td>0.194929</td>\n",
       "      <td>0.194929</td>\n",
       "      <td>0.325950</td>\n",
       "      <td>1.000000</td>\n",
       "      <td>0.000326</td>\n",
       "      <td>-0.263000</td>\n",
       "      <td>0.041377</td>\n",
       "    </tr>\n",
       "    <tr>\n",
       "      <th>sentry_object</th>\n",
       "      <td>-0.001900</td>\n",
       "      <td>0.003518</td>\n",
       "      <td>0.003518</td>\n",
       "      <td>0.002217</td>\n",
       "      <td>0.000326</td>\n",
       "      <td>1.000000</td>\n",
       "      <td>-0.005046</td>\n",
       "      <td>0.002302</td>\n",
       "    </tr>\n",
       "    <tr>\n",
       "      <th>absolute_magnitude</th>\n",
       "      <td>0.276647</td>\n",
       "      <td>-0.736269</td>\n",
       "      <td>-0.736269</td>\n",
       "      <td>-0.350634</td>\n",
       "      <td>-0.263000</td>\n",
       "      <td>-0.005046</td>\n",
       "      <td>1.000000</td>\n",
       "      <td>-0.366353</td>\n",
       "    </tr>\n",
       "    <tr>\n",
       "      <th>hazardous</th>\n",
       "      <td>-0.123278</td>\n",
       "      <td>0.263286</td>\n",
       "      <td>0.263286</td>\n",
       "      <td>0.189198</td>\n",
       "      <td>0.041377</td>\n",
       "      <td>0.002302</td>\n",
       "      <td>-0.366353</td>\n",
       "      <td>1.000000</td>\n",
       "    </tr>\n",
       "  </tbody>\n",
       "</table>\n",
       "</div>"
      ],
      "text/plain": [
       "                          id  est_diameter_min  est_diameter_max  \\\n",
       "id                  1.000000         -0.201987         -0.201987   \n",
       "est_diameter_min   -0.201987          1.000000          1.000000   \n",
       "est_diameter_max   -0.201987          1.000000          1.000000   \n",
       "relative_velocity  -0.057510          0.304737          0.304737   \n",
       "miss_distance      -0.055825          0.194929          0.194929   \n",
       "sentry_object      -0.001900          0.003518          0.003518   \n",
       "absolute_magnitude  0.276647         -0.736269         -0.736269   \n",
       "hazardous          -0.123278          0.263286          0.263286   \n",
       "\n",
       "                    relative_velocity  miss_distance  sentry_object  \\\n",
       "id                          -0.057510      -0.055825      -0.001900   \n",
       "est_diameter_min             0.304737       0.194929       0.003518   \n",
       "est_diameter_max             0.304737       0.194929       0.003518   \n",
       "relative_velocity            1.000000       0.325950       0.002217   \n",
       "miss_distance                0.325950       1.000000       0.000326   \n",
       "sentry_object                0.002217       0.000326       1.000000   \n",
       "absolute_magnitude          -0.350634      -0.263000      -0.005046   \n",
       "hazardous                    0.189198       0.041377       0.002302   \n",
       "\n",
       "                    absolute_magnitude  hazardous  \n",
       "id                            0.276647  -0.123278  \n",
       "est_diameter_min             -0.736269   0.263286  \n",
       "est_diameter_max             -0.736269   0.263286  \n",
       "relative_velocity            -0.350634   0.189198  \n",
       "miss_distance                -0.263000   0.041377  \n",
       "sentry_object                -0.005046   0.002302  \n",
       "absolute_magnitude            1.000000  -0.366353  \n",
       "hazardous                    -0.366353   1.000000  "
      ]
     },
     "execution_count": 23,
     "metadata": {},
     "output_type": "execute_result"
    }
   ],
   "source": [
    "corr_matrix = data1.corr()\n",
    "corr_matrix"
   ]
  },
  {
   "cell_type": "code",
   "execution_count": 24,
   "id": "1e76930a",
   "metadata": {},
   "outputs": [
    {
     "data": {
      "image/png": "[encoded data removed]",
      "text/plain": [
       "<Figure size 432x288 with 2 Axes>"
      ]
     },
     "metadata": {
      "needs_background": "light"
     },
     "output_type": "display_data"
    }
   ],
   "source": [
    "corr_mat = data1.corr()\n",
    "sns.heatmap(corr_mat, square=True, cmap='coolwarm', vmin=-1.0, vmax=1.0)\n",
    "pass"
   ]
  },
  {
   "cell_type": "code",
   "execution_count": 25,
   "id": "84acf5bc",
   "metadata": {},
   "outputs": [
    {
     "data": {
      "text/plain": [
       "est_diameter_min  est_diameter_max    1.0\n",
       "dtype: float64"
      ]
     },
     "execution_count": 25,
     "metadata": {},
     "output_type": "execute_result"
    }
   ],
   "source": [
    "corr_mat.where(np.triu(corr_mat > 0.5, k=1)\n",
    "               ).stack().sort_values(ascending=False)"
   ]
  },
  {
   "cell_type": "markdown",
   "id": "6968dcc1",
   "metadata": {},
   "source": [
    "Признаки est_diameter_min и est_diameter_max имеют коэффициент корреляции равный 1, что логично, так как это прямопропорциональные признаки. Остальные признаки плохо коррелируют друг с другом"
   ]
  },
  {
   "cell_type": "markdown",
   "id": "8fd1890c",
   "metadata": {},
   "source": [
    "Рассмотрим категориальный признак \"hazardous\", который показывает, является астероид опасным или нет."
   ]
  },
  {
   "cell_type": "code",
   "execution_count": 26,
   "id": "74091c31",
   "metadata": {},
   "outputs": [
    {
     "data": {
      "text/plain": [
       "0.0    81866\n",
       "1.0     8790\n",
       "Name: hazardous, dtype: int64"
      ]
     },
     "execution_count": 26,
     "metadata": {},
     "output_type": "execute_result"
    }
   ],
   "source": [
    "data1['hazardous'].value_counts()"
   ]
  },
  {
   "cell_type": "code",
   "execution_count": 27,
   "id": "a877d546",
   "metadata": {},
   "outputs": [
    {
     "data": {
      "image/png": "[encoded data removed]",
      "text/plain": [
       "<Figure size 432x288 with 1 Axes>"
      ]
     },
     "metadata": {
      "needs_background": "light"
     },
     "output_type": "display_data"
    }
   ],
   "source": [
    "sns.countplot(x='hazardous', data=data1)\n",
    "pass"
   ]
  },
  {
   "cell_type": "markdown",
   "id": "738c5ac8",
   "metadata": {},
   "source": [
    "Как можем заметить, количество 0 примерно в 10 раз выше, чем 1, что означает, что опасных астероидов намного меньше\n"
   ]
  },
  {
   "cell_type": "markdown",
   "id": "80134da3",
   "metadata": {},
   "source": [
    "# Обработка категориальных значений"
   ]
  },
  {
   "cell_type": "markdown",
   "id": "0be4d7f9",
   "metadata": {},
   "source": [
    "Посмотрим, сколько категорий содержат категориальные признаки"
   ]
  },
  {
   "cell_type": "code",
   "execution_count": 28,
   "id": "fd31c4e9",
   "metadata": {},
   "outputs": [
    {
     "data": {
      "text/plain": [
       "['Earth']\n",
       "Categories (1, object): ['Earth']"
      ]
     },
     "execution_count": 28,
     "metadata": {},
     "output_type": "execute_result"
    }
   ],
   "source": [
    "data_raw['orbiting_body'].unique()"
   ]
  },
  {
   "cell_type": "code",
   "execution_count": 29,
   "id": "55efa51a",
   "metadata": {},
   "outputs": [
    {
     "data": {
      "text/plain": [
       "['162635 (2000 SS164)', '277475 (2005 WK4)', '512244 (2015 YE18)', '(2012 BV13)', '(2014 GE35)', ..., '(2017 OL68)', '(2022 GA4)', '(2021 WR3)', '(2015 VK142)', '(1999 LV7)']\n",
       "Length: 27423\n",
       "Categories (27423, object): ['(1983 LC)', '(1986 NA)', '(1988 NE)', '(1989 AZ)', ..., '99799 (2002 LJ3)', '99907 (1989 VA)', '99935 (2002 AV4)', '99942 Apophis (2004 MN4)']"
      ]
     },
     "execution_count": 29,
     "metadata": {},
     "output_type": "execute_result"
    }
   ],
   "source": [
    "data_raw['name'].unique()"
   ]
  },
  {
   "cell_type": "markdown",
   "id": "ec06959c",
   "metadata": {},
   "source": [
    "В признаке 'name' слишком большое значение категорий, поэтому мы удалим его из рассмотрения"
   ]
  },
  {
   "cell_type": "code",
   "execution_count": 30,
   "id": "f9e182e0",
   "metadata": {},
   "outputs": [],
   "source": [
    "del data_raw['name']"
   ]
  },
  {
   "cell_type": "code",
   "execution_count": 31,
   "id": "eefcfdb9",
   "metadata": {},
   "outputs": [
    {
     "name": "stdout",
     "output_type": "stream",
     "text": [
      "(90836, 9)\n"
     ]
    },
    {
     "data": {
      "text/html": [
       "<div>\n",
       "<style scoped>\n",
       "    .dataframe tbody tr th:only-of-type {\n",
       "        vertical-align: middle;\n",
       "    }\n",
       "\n",
       "    .dataframe tbody tr th {\n",
       "        vertical-align: top;\n",
       "    }\n",
       "\n",
       "    .dataframe thead th {\n",
       "        text-align: right;\n",
       "    }\n",
       "</style>\n",
       "<table border=\"1\" class=\"dataframe\">\n",
       "  <thead>\n",
       "    <tr style=\"text-align: right;\">\n",
       "      <th></th>\n",
       "      <th>id</th>\n",
       "      <th>est_diameter_min</th>\n",
       "      <th>est_diameter_max</th>\n",
       "      <th>relative_velocity</th>\n",
       "      <th>miss_distance</th>\n",
       "      <th>sentry_object</th>\n",
       "      <th>absolute_magnitude</th>\n",
       "      <th>hazardous</th>\n",
       "      <th>orbiting_body_Earth</th>\n",
       "    </tr>\n",
       "  </thead>\n",
       "  <tbody>\n",
       "    <tr>\n",
       "      <th>0</th>\n",
       "      <td>2162635</td>\n",
       "      <td>1.198271</td>\n",
       "      <td>2.679415</td>\n",
       "      <td>13569.249224</td>\n",
       "      <td>5.483974e+07</td>\n",
       "      <td>0.0</td>\n",
       "      <td>16.73</td>\n",
       "      <td>0.0</td>\n",
       "      <td>1</td>\n",
       "    </tr>\n",
       "    <tr>\n",
       "      <th>1</th>\n",
       "      <td>2277475</td>\n",
       "      <td>0.265800</td>\n",
       "      <td>0.594347</td>\n",
       "      <td>73588.726663</td>\n",
       "      <td>6.143813e+07</td>\n",
       "      <td>0.0</td>\n",
       "      <td>20.00</td>\n",
       "      <td>1.0</td>\n",
       "      <td>1</td>\n",
       "    </tr>\n",
       "    <tr>\n",
       "      <th>2</th>\n",
       "      <td>2512244</td>\n",
       "      <td>0.722030</td>\n",
       "      <td>1.614507</td>\n",
       "      <td>114258.692129</td>\n",
       "      <td>4.979872e+07</td>\n",
       "      <td>0.0</td>\n",
       "      <td>17.83</td>\n",
       "      <td>0.0</td>\n",
       "      <td>1</td>\n",
       "    </tr>\n",
       "    <tr>\n",
       "      <th>3</th>\n",
       "      <td>3596030</td>\n",
       "      <td>0.096506</td>\n",
       "      <td>0.215794</td>\n",
       "      <td>24764.303138</td>\n",
       "      <td>2.543497e+07</td>\n",
       "      <td>0.0</td>\n",
       "      <td>22.20</td>\n",
       "      <td>0.0</td>\n",
       "      <td>1</td>\n",
       "    </tr>\n",
       "    <tr>\n",
       "      <th>4</th>\n",
       "      <td>3667127</td>\n",
       "      <td>0.255009</td>\n",
       "      <td>0.570217</td>\n",
       "      <td>42737.733765</td>\n",
       "      <td>4.627557e+07</td>\n",
       "      <td>0.0</td>\n",
       "      <td>20.09</td>\n",
       "      <td>1.0</td>\n",
       "      <td>1</td>\n",
       "    </tr>\n",
       "  </tbody>\n",
       "</table>\n",
       "</div>"
      ],
      "text/plain": [
       "        id  est_diameter_min  est_diameter_max  relative_velocity  \\\n",
       "0  2162635          1.198271          2.679415       13569.249224   \n",
       "1  2277475          0.265800          0.594347       73588.726663   \n",
       "2  2512244          0.722030          1.614507      114258.692129   \n",
       "3  3596030          0.096506          0.215794       24764.303138   \n",
       "4  3667127          0.255009          0.570217       42737.733765   \n",
       "\n",
       "   miss_distance  sentry_object  absolute_magnitude  hazardous  \\\n",
       "0   5.483974e+07            0.0               16.73        0.0   \n",
       "1   6.143813e+07            0.0               20.00        1.0   \n",
       "2   4.979872e+07            0.0               17.83        0.0   \n",
       "3   2.543497e+07            0.0               22.20        0.0   \n",
       "4   4.627557e+07            0.0               20.09        1.0   \n",
       "\n",
       "   orbiting_body_Earth  \n",
       "0                    1  \n",
       "1                    1  \n",
       "2                    1  \n",
       "3                    1  \n",
       "4                    1  "
      ]
     },
     "execution_count": 31,
     "metadata": {},
     "output_type": "execute_result"
    }
   ],
   "source": [
    "data1 = pd.get_dummies(data_raw)\n",
    "print(data1.shape)\n",
    "data1.head()"
   ]
  },
  {
   "cell_type": "markdown",
   "id": "3c1ce694",
   "metadata": {},
   "source": [
    "# Нормализация"
   ]
  },
  {
   "cell_type": "markdown",
   "id": "e4e76c92",
   "metadata": {},
   "source": [
    "Проведем нормализацию с помощью линейного преобразования к отрезку [0,1]"
   ]
  },
  {
   "cell_type": "code",
   "execution_count": 32,
   "id": "42f8a610",
   "metadata": {},
   "outputs": [
    {
     "data": {
      "text/html": [
       "<div>\n",
       "<style scoped>\n",
       "    .dataframe tbody tr th:only-of-type {\n",
       "        vertical-align: middle;\n",
       "    }\n",
       "\n",
       "    .dataframe tbody tr th {\n",
       "        vertical-align: top;\n",
       "    }\n",
       "\n",
       "    .dataframe thead th {\n",
       "        text-align: right;\n",
       "    }\n",
       "</style>\n",
       "<table border=\"1\" class=\"dataframe\">\n",
       "  <thead>\n",
       "    <tr style=\"text-align: right;\">\n",
       "      <th></th>\n",
       "      <th>id</th>\n",
       "      <th>est_diameter_min</th>\n",
       "      <th>est_diameter_max</th>\n",
       "      <th>relative_velocity</th>\n",
       "      <th>miss_distance</th>\n",
       "      <th>sentry_object</th>\n",
       "      <th>absolute_magnitude</th>\n",
       "      <th>hazardous</th>\n",
       "      <th>orbiting_body_Earth</th>\n",
       "    </tr>\n",
       "  </thead>\n",
       "  <tbody>\n",
       "    <tr>\n",
       "      <th>count</th>\n",
       "      <td>90836.000000</td>\n",
       "      <td>90836.000000</td>\n",
       "      <td>90836.000000</td>\n",
       "      <td>90836.000000</td>\n",
       "      <td>90836.000000</td>\n",
       "      <td>90836.000000</td>\n",
       "      <td>90836.000000</td>\n",
       "      <td>90836.000000</td>\n",
       "      <td>0.0</td>\n",
       "    </tr>\n",
       "    <tr>\n",
       "      <th>mean</th>\n",
       "      <td>0.236869</td>\n",
       "      <td>0.003347</td>\n",
       "      <td>0.003347</td>\n",
       "      <td>0.202138</td>\n",
       "      <td>0.495505</td>\n",
       "      <td>0.000143</td>\n",
       "      <td>0.596458</td>\n",
       "      <td>0.097318</td>\n",
       "      <td>NaN</td>\n",
       "    </tr>\n",
       "    <tr>\n",
       "      <th>std</th>\n",
       "      <td>0.399270</td>\n",
       "      <td>0.007878</td>\n",
       "      <td>0.007878</td>\n",
       "      <td>0.106819</td>\n",
       "      <td>0.298856</td>\n",
       "      <td>0.011962</td>\n",
       "      <td>0.120738</td>\n",
       "      <td>0.296392</td>\n",
       "      <td>NaN</td>\n",
       "    </tr>\n",
       "    <tr>\n",
       "      <th>min</th>\n",
       "      <td>0.000000</td>\n",
       "      <td>0.000000</td>\n",
       "      <td>0.000000</td>\n",
       "      <td>0.000000</td>\n",
       "      <td>0.000000</td>\n",
       "      <td>0.000000</td>\n",
       "      <td>0.000000</td>\n",
       "      <td>0.000000</td>\n",
       "      <td>NaN</td>\n",
       "    </tr>\n",
       "    <tr>\n",
       "      <th>25%</th>\n",
       "      <td>0.027693</td>\n",
       "      <td>0.000492</td>\n",
       "      <td>0.000492</td>\n",
       "      <td>0.120005</td>\n",
       "      <td>0.230026</td>\n",
       "      <td>0.000000</td>\n",
       "      <td>0.505215</td>\n",
       "      <td>0.000000</td>\n",
       "      <td>NaN</td>\n",
       "    </tr>\n",
       "    <tr>\n",
       "      <th>50%</th>\n",
       "      <td>0.033437</td>\n",
       "      <td>0.001260</td>\n",
       "      <td>0.001260</td>\n",
       "      <td>0.185765</td>\n",
       "      <td>0.505935</td>\n",
       "      <td>0.000000</td>\n",
       "      <td>0.603671</td>\n",
       "      <td>0.000000</td>\n",
       "      <td>NaN</td>\n",
       "    </tr>\n",
       "    <tr>\n",
       "      <th>75%</th>\n",
       "      <td>0.036032</td>\n",
       "      <td>0.003768</td>\n",
       "      <td>0.003768</td>\n",
       "      <td>0.264881</td>\n",
       "      <td>0.755994</td>\n",
       "      <td>0.000000</td>\n",
       "      <td>0.687109</td>\n",
       "      <td>0.000000</td>\n",
       "      <td>NaN</td>\n",
       "    </tr>\n",
       "    <tr>\n",
       "      <th>max</th>\n",
       "      <td>1.000000</td>\n",
       "      <td>1.000000</td>\n",
       "      <td>1.000000</td>\n",
       "      <td>1.000000</td>\n",
       "      <td>1.000000</td>\n",
       "      <td>1.000000</td>\n",
       "      <td>1.000000</td>\n",
       "      <td>1.000000</td>\n",
       "      <td>NaN</td>\n",
       "    </tr>\n",
       "  </tbody>\n",
       "</table>\n",
       "</div>"
      ],
      "text/plain": [
       "                 id  est_diameter_min  est_diameter_max  relative_velocity  \\\n",
       "count  90836.000000      90836.000000      90836.000000       90836.000000   \n",
       "mean       0.236869          0.003347          0.003347           0.202138   \n",
       "std        0.399270          0.007878          0.007878           0.106819   \n",
       "min        0.000000          0.000000          0.000000           0.000000   \n",
       "25%        0.027693          0.000492          0.000492           0.120005   \n",
       "50%        0.033437          0.001260          0.001260           0.185765   \n",
       "75%        0.036032          0.003768          0.003768           0.264881   \n",
       "max        1.000000          1.000000          1.000000           1.000000   \n",
       "\n",
       "       miss_distance  sentry_object  absolute_magnitude     hazardous  \\\n",
       "count   90836.000000   90836.000000        90836.000000  90836.000000   \n",
       "mean        0.495505       0.000143            0.596458      0.097318   \n",
       "std         0.298856       0.011962            0.120738      0.296392   \n",
       "min         0.000000       0.000000            0.000000      0.000000   \n",
       "25%         0.230026       0.000000            0.505215      0.000000   \n",
       "50%         0.505935       0.000000            0.603671      0.000000   \n",
       "75%         0.755994       0.000000            0.687109      0.000000   \n",
       "max         1.000000       1.000000            1.000000      1.000000   \n",
       "\n",
       "       orbiting_body_Earth  \n",
       "count                  0.0  \n",
       "mean                   NaN  \n",
       "std                    NaN  \n",
       "min                    NaN  \n",
       "25%                    NaN  \n",
       "50%                    NaN  \n",
       "75%                    NaN  \n",
       "max                    NaN  "
      ]
     },
     "execution_count": 32,
     "metadata": {},
     "output_type": "execute_result"
    }
   ],
   "source": [
    "data_norm = (data1 - data1.min(axis=0)) / (data1.max(axis=0) - data1.min(axis=0))\n",
    "data_norm.describe()"
   ]
  },
  {
   "cell_type": "code",
   "execution_count": 33,
   "id": "e09bcaee",
   "metadata": {},
   "outputs": [
    {
     "data": {
      "text/plain": [
       "id                         0\n",
       "est_diameter_min           0\n",
       "est_diameter_max           0\n",
       "relative_velocity          0\n",
       "miss_distance              0\n",
       "sentry_object              0\n",
       "absolute_magnitude         0\n",
       "hazardous                  0\n",
       "orbiting_body_Earth    90836\n",
       "dtype: int64"
      ]
     },
     "execution_count": 33,
     "metadata": {},
     "output_type": "execute_result"
    }
   ],
   "source": [
    "data_norm.isna().sum()"
   ]
  },
  {
   "cell_type": "markdown",
   "id": "d579498e",
   "metadata": {},
   "source": [
    "Так как у признака orbiting_body_Earth все значения NaN, удалим этот признак из рассмотрения"
   ]
  },
  {
   "cell_type": "code",
   "execution_count": 34,
   "id": "347aa70f",
   "metadata": {},
   "outputs": [],
   "source": [
    "del data_norm[\"orbiting_body_Earth\"]"
   ]
  },
  {
   "cell_type": "code",
   "execution_count": 35,
   "id": "81dacc94",
   "metadata": {},
   "outputs": [
    {
     "data": {
      "text/plain": [
       "Index(['id', 'est_diameter_min', 'est_diameter_max', 'relative_velocity',\n",
       "       'miss_distance', 'sentry_object', 'absolute_magnitude', 'hazardous'],\n",
       "      dtype='object')"
      ]
     },
     "execution_count": 35,
     "metadata": {},
     "output_type": "execute_result"
    }
   ],
   "source": [
    "data_norm.columns"
   ]
  },
  {
   "cell_type": "code",
   "execution_count": 36,
   "id": "46c590a4",
   "metadata": {},
   "outputs": [
    {
     "data": {
      "text/plain": [
       "id                    0\n",
       "est_diameter_min      0\n",
       "est_diameter_max      0\n",
       "relative_velocity     0\n",
       "miss_distance         0\n",
       "sentry_object         0\n",
       "absolute_magnitude    0\n",
       "hazardous             0\n",
       "dtype: int64"
      ]
     },
     "execution_count": 36,
     "metadata": {},
     "output_type": "execute_result"
    }
   ],
   "source": [
    "data_norm.isna().sum()"
   ]
  },
  {
   "cell_type": "markdown",
   "id": "667fd357",
   "metadata": {},
   "source": [
    "# Обучение"
   ]
  },
  {
   "cell_type": "markdown",
   "id": "ea0e1262",
   "metadata": {},
   "source": [
    "### Выбор обучающей и тестовой выборок"
   ]
  },
  {
   "cell_type": "markdown",
   "id": "f58ff865",
   "metadata": {},
   "source": [
    "Для классификации разобьем данные на обучающую и тестовую выборки. За обучающую возьмем 75% данных, 25% - за тестовую"
   ]
  },
  {
   "cell_type": "code",
   "execution_count": 37,
   "id": "df28d23e",
   "metadata": {},
   "outputs": [],
   "source": [
    "X = data_norm.drop (['hazardous'], axis=1) \n",
    "y = data1['hazardous']"
   ]
  },
  {
   "cell_type": "code",
   "execution_count": 38,
   "id": "0812e3a5",
   "metadata": {},
   "outputs": [
    {
     "data": {
      "text/plain": [
       "(68127, 22709)"
      ]
     },
     "execution_count": 38,
     "metadata": {},
     "output_type": "execute_result"
    }
   ],
   "source": [
    "from sklearn.model_selection import train_test_split\n",
    "X_train, X_test, y_train, y_test = train_test_split(X, y, test_size = 0.25, random_state = 42)\n",
    "\n",
    "N_train, _ = X_train.shape \n",
    "N_test, _ = X_test.shape \n",
    "\n",
    "N_train, N_test"
   ]
  },
  {
   "cell_type": "markdown",
   "id": "4b183e84",
   "metadata": {},
   "source": [
    "# KNN"
   ]
  },
  {
   "cell_type": "markdown",
   "id": "643a65b6",
   "metadata": {},
   "source": [
    "По умолчанию берется 5 соседей"
   ]
  },
  {
   "cell_type": "code",
   "execution_count": 39,
   "id": "343b2eea",
   "metadata": {},
   "outputs": [],
   "source": [
    "from sklearn.neighbors import KNeighborsClassifier\n",
    "from sklearn.ensemble import RandomForestClassifier\n",
    "from sklearn.metrics import accuracy_score, confusion_matrix, ConfusionMatrixDisplay\n",
    "from sklearn.model_selection import train_test_split\n",
    "from sklearn.metrics import mean_squared_error"
   ]
  },
  {
   "cell_type": "code",
   "execution_count": 40,
   "id": "3fe38971",
   "metadata": {},
   "outputs": [
    {
     "name": "stdout",
     "output_type": "stream",
     "text": [
      "Train: 93.28%, Test: 90.42%\n",
      "MSE: Train 0.07, Test 0.10\n"
     ]
    }
   ],
   "source": [
    "knn = KNeighborsClassifier()\n",
    "knn.fit(X_train.values, y_train.values)\n",
    "y_train_predict = knn.predict(X_train.values)\n",
    "y_test_predict = knn.predict(X_test.values)\n",
    "print(\"Train: {:.2f}%, Test: {:.2f}%\".format(accuracy_score(\n",
    "    y_train, y_train_predict) * 100, accuracy_score(y_test, y_test_predict) * 100))\n",
    "print(\"MSE: Train {:.2f}, Test {:.2f}\".format((mean_squared_error(y_train,\n",
    "      y_train_predict)), mean_squared_error(y_test, y_test_predict)))"
   ]
  },
  {
   "cell_type": "markdown",
   "id": "b8057bfe",
   "metadata": {},
   "source": [
    "Возьмем 7 соседей"
   ]
  },
  {
   "cell_type": "code",
   "execution_count": 41,
   "id": "ff390850",
   "metadata": {},
   "outputs": [
    {
     "name": "stdout",
     "output_type": "stream",
     "text": [
      "Train: 92.70%, Test: 90.41%\n",
      "MSE: Train 0.07, Test 0.10\n"
     ]
    }
   ],
   "source": [
    "knn_7 = KNeighborsClassifier(n_neighbors=7)\n",
    "knn_7.fit(X_train.values, y_train.values)\n",
    "y_train_predict = knn_7.predict(X_train.values)\n",
    "y_test_predict = knn_7.predict(X_test.values)\n",
    "print(\"Train: {:.2f}%, Test: {:.2f}%\".format(accuracy_score(\n",
    "    y_train, y_train_predict) * 100, accuracy_score(y_test, y_test_predict) * 100))\n",
    "print(\"MSE: Train {:.2f}, Test {:.2f}\".format((mean_squared_error(y_train,\n",
    "      y_train_predict)), mean_squared_error(y_test, y_test_predict)))"
   ]
  },
  {
   "cell_type": "markdown",
   "id": "42e811be",
   "metadata": {},
   "source": [
    "Точность на тренировочной и тестовой выборках уменьшилась. Попробуем еще 10 соседей"
   ]
  },
  {
   "cell_type": "code",
   "execution_count": 42,
   "id": "bc55671a",
   "metadata": {},
   "outputs": [
    {
     "name": "stdout",
     "output_type": "stream",
     "text": [
      "Train: 91.95%, Test: 90.92%\n",
      "MSE: Train 0.08, Test 0.09\n"
     ]
    }
   ],
   "source": [
    "knn_10 = KNeighborsClassifier(n_neighbors=10)\n",
    "knn_10.fit(X_train.values, y_train.values)\n",
    "y_train_predict = knn_10.predict(X_train.values)\n",
    "y_test_predict = knn_10.predict(X_test.values)\n",
    "print(\"Train: {:.2f}%, Test: {:.2f}%\".format(accuracy_score(\n",
    "    y_train, y_train_predict) * 100, accuracy_score(y_test, y_test_predict) * 100))\n",
    "print(\"MSE: Train {:.2f}, Test {:.2f}\".format((mean_squared_error(y_train,\n",
    "      y_train_predict)), mean_squared_error(y_test, y_test_predict)))"
   ]
  },
  {
   "cell_type": "markdown",
   "id": "a3be99f8",
   "metadata": {},
   "source": [
    "Возьмем 3 соседа"
   ]
  },
  {
   "cell_type": "code",
   "execution_count": 43,
   "id": "69dc0b4b",
   "metadata": {},
   "outputs": [
    {
     "name": "stdout",
     "output_type": "stream",
     "text": [
      "Train: 94.48%, Test: 89.68%\n",
      "MSE: Train 0.06, Test 0.10\n"
     ]
    }
   ],
   "source": [
    "knn_3 = KNeighborsClassifier(n_neighbors=3)\n",
    "knn_3.fit(X_train.values, y_train.values)\n",
    "y_train_predict = knn_3.predict(X_train.values)\n",
    "y_test_predict = knn_3.predict(X_test.values)\n",
    "print(\"Train: {:.2f}%, Test: {:.2f}%\".format(accuracy_score(\n",
    "    y_train, y_train_predict) * 100, accuracy_score(y_test, y_test_predict) * 100))\n",
    "print(\"MSE: Train {:.2f}, Test {:.2f}\".format((mean_squared_error(y_train,\n",
    "      y_train_predict)), mean_squared_error(y_test, y_test_predict)))\n"
   ]
  },
  {
   "cell_type": "markdown",
   "id": "0a3b07c8",
   "metadata": {},
   "source": [
    "Результат на тренировочной выборке лучше, чем в предыдущих случаях, но на тестовой выборке показатель ухудшился"
   ]
  },
  {
   "cell_type": "markdown",
   "id": "454e4a93",
   "metadata": {},
   "source": [
    "# Random Forest\n",
    "\n",
    "Возьмем алгоритм - дерево решений и сравним полученные результаты"
   ]
  },
  {
   "cell_type": "code",
   "execution_count": 44,
   "id": "98d578d5",
   "metadata": {},
   "outputs": [
    {
     "name": "stdout",
     "output_type": "stream",
     "text": [
      "Tree Depth: 46\n",
      "Tree Leaves: 3664\n",
      "Accuracy. Train : 100.00%, Test: 93.22%. \n"
     ]
    }
   ],
   "source": [
    "from sklearn.tree import DecisionTreeClassifier\n",
    "\n",
    "dct = DecisionTreeClassifier()\n",
    "dct.fit(X_train,y_train)\n",
    "dct_train_score = 100 * dct.score(X_train, y_train)\n",
    "print ('Tree Depth:', dct.get_depth())\n",
    "print ('Tree Leaves:', dct.get_n_leaves())\n",
    "dct_test_score = 100 * dct.score(X_test, y_test)\n",
    "print(\"Accuracy. Train : {:.2f}%, Test: {:.2f}%. \".format(dct_train_score, dct_test_score))\n"
   ]
  },
  {
   "cell_type": "markdown",
   "id": "f89b519a",
   "metadata": {},
   "source": [
    "Максимальная глубина 46. Уменьшим ее до 20"
   ]
  },
  {
   "cell_type": "code",
   "execution_count": 45,
   "id": "69e0eae8",
   "metadata": {},
   "outputs": [
    {
     "name": "stdout",
     "output_type": "stream",
     "text": [
      "Tree Depth: 20\n",
      "Tree Leaves: 2194\n",
      "Accuracy. Train : 97.37%, Test: 92.79%. \n"
     ]
    }
   ],
   "source": [
    "dct_20 = DecisionTreeClassifier(max_depth=20)\n",
    "dct_20.fit(X_train,y_train)\n",
    "dct_train_score = 100 * dct_20.score(X_train, y_train)\n",
    "print ('Tree Depth:', dct_20.get_depth())\n",
    "print ('Tree Leaves:', dct_20.get_n_leaves())\n",
    "dct_test_score = 100 * dct_20.score(X_test, y_test)\n",
    "print(\"Accuracy. Train : {:.2f}%, Test: {:.2f}%. \".format(dct_train_score, dct_test_score))"
   ]
  },
  {
   "cell_type": "markdown",
   "id": "8811cda5",
   "metadata": {},
   "source": [
    "Значения на тестовой и тренировочной выборках снизились. Возьмем глубину 35"
   ]
  },
  {
   "cell_type": "code",
   "execution_count": 46,
   "id": "ccc071b1",
   "metadata": {},
   "outputs": [
    {
     "name": "stdout",
     "output_type": "stream",
     "text": [
      "Tree Depth: 35\n",
      "Tree Leaves: 3610\n",
      "Accuracy. Train : 99.90%, Test: 93.21%. \n"
     ]
    }
   ],
   "source": [
    "dct_35 = DecisionTreeClassifier(max_depth=35)\n",
    "dct_35.fit(X_train,y_train)\n",
    "dct_train_score = 100 * dct_35.score(X_train, y_train)\n",
    "print ('Tree Depth:', dct_35.get_depth())\n",
    "print ('Tree Leaves:', dct_35.get_n_leaves())\n",
    "dct_test_score = 100 * dct_35.score(X_test, y_test)\n",
    "print(\"Accuracy. Train : {:.2f}%, Test: {:.2f}%. \".format(dct_train_score, dct_test_score))"
   ]
  },
  {
   "cell_type": "markdown",
   "id": "3e7e91df",
   "metadata": {},
   "source": [
    "На тренировочной и тестовой выборках значения уменьшились по сравнению с первоначальным. Возьмем глубину 40"
   ]
  },
  {
   "cell_type": "code",
   "execution_count": 47,
   "id": "45c86fb2",
   "metadata": {},
   "outputs": [
    {
     "name": "stdout",
     "output_type": "stream",
     "text": [
      "Tree Depth: 40\n",
      "Tree Leaves: 3655\n",
      "Accuracy. Train : 99.97%, Test: 93.08%. \n"
     ]
    }
   ],
   "source": [
    "dct_40 = DecisionTreeClassifier(max_depth=40)\n",
    "dct_40.fit(X_train,y_train)\n",
    "dct_train_score = 100 * dct_40.score(X_train, y_train)\n",
    "print ('Tree Depth:', dct_40.get_depth())\n",
    "print ('Tree Leaves:', dct_40.get_n_leaves())\n",
    "dct_test_score = 100 * dct_40.score(X_test, y_test)\n",
    "print(\"Accuracy. Train : {:.2f}%, Test: {:.2f}%. \".format(dct_train_score, dct_test_score))"
   ]
  },
  {
   "cell_type": "markdown",
   "id": "254b5c31",
   "metadata": {},
   "source": [
    "Значения не стали лучше по сравнению с первоначальной."
   ]
  },
  {
   "cell_type": "markdown",
   "id": "9a4d84f6",
   "metadata": {},
   "source": [
    "# Вывод"
   ]
  },
  {
   "cell_type": "markdown",
   "id": "7145b571",
   "metadata": {},
   "source": [
    "\n",
    "В результате решения задачи классификации мы получили:\n",
    "\n",
    "- Алгоритм дерева решений сильно выигрывает по точности у метода KNN\n",
    "- При понижении числа соседей, точность метода KNN возрастает на тренировочной выборке, но уменьшается на тестовой \n",
    "- Лучший результат в методе дерева решений на тренировочной выборке был достигнут при глубине 46, на тестовой при глубине 35. При уменьшении глубины точность понижалась"
   ]
  },
  {
   "cell_type": "markdown",
   "id": "a835f8fd",
   "metadata": {},
   "source": [
    "# Вторая часть"
   ]
  },
  {
   "cell_type": "markdown",
   "id": "6c350532",
   "metadata": {},
   "source": [
    "### Обучение модели"
   ]
  },
  {
   "cell_type": "code",
   "execution_count": 48,
   "id": "111373ac",
   "metadata": {},
   "outputs": [],
   "source": [
    "from sklearn.neural_network import MLPClassifier\n",
    "from sklearn.metrics import accuracy_score\n",
    "from tqdm import tqdm"
   ]
  },
  {
   "cell_type": "code",
   "execution_count": 50,
   "id": "9a06580a",
   "metadata": {},
   "outputs": [],
   "source": [
    "model = MLPClassifier(\n",
    "    hidden_layer_sizes=(50,),\n",
    "    solver='adam',\n",
    "    activation='relu',\n",
    "    random_state=3,\n",
    "    max_iter=1000\n",
    ")"
   ]
  },
  {
   "cell_type": "code",
   "execution_count": 51,
   "id": "f80082ac",
   "metadata": {},
   "outputs": [
    {
     "name": "stdout",
     "output_type": "stream",
     "text": [
      "CPU times: total: 2min 31s\n",
      "Wall time: 38.1 s\n"
     ]
    },
    {
     "data": {
      "text/plain": [
       "MLPClassifier(hidden_layer_sizes=(50,), max_iter=1000, random_state=3)"
      ]
     },
     "execution_count": 51,
     "metadata": {},
     "output_type": "execute_result"
    }
   ],
   "source": [
    "%%time\n",
    "model.fit(X_train, y_train)"
   ]
  },
  {
   "cell_type": "markdown",
   "id": "a9f49d78",
   "metadata": {},
   "source": [
    "Проверка качества классификатора и точности на обучающей и тестовой выборках"
   ]
  },
  {
   "cell_type": "code",
   "execution_count": 52,
   "id": "9e70aabf",
   "metadata": {},
   "outputs": [],
   "source": [
    "y_train_prediction = model.predict(X_train)\n",
    "y_test_prediction = model.predict(X_test)"
   ]
  },
  {
   "cell_type": "code",
   "execution_count": 53,
   "id": "80eba9e8",
   "metadata": {},
   "outputs": [
    {
     "name": "stdout",
     "output_type": "stream",
     "text": [
      "Train: 91.46% Test: 91.41%\n"
     ]
    }
   ],
   "source": [
    "print(\"Train: {:.2f}% Test: {:.2f}%\".format(accuracy_score(y_train.astype('int64'), y_train_prediction)\n",
    "      * 100, accuracy_score(y_test.astype('int64'), y_test_prediction) * 100))"
   ]
  },
  {
   "cell_type": "markdown",
   "id": "65bfafbf",
   "metadata": {},
   "source": [
    "## Подбор оптимального альфа"
   ]
  },
  {
   "cell_type": "code",
   "execution_count": 54,
   "id": "874caf29",
   "metadata": {},
   "outputs": [],
   "source": [
    "alpha_arr = np.logspace(-3, 2, 21)\n",
    "test_err = []\n",
    "train_err = []\n",
    "train_acc = []\n",
    "test_acc = []\n",
    "\n",
    "for alpha in alpha_arr:\n",
    "    mlp_model = MLPClassifier(alpha = alpha, hidden_layer_sizes = (100,), \n",
    "                              solver = 'adam', activation = 'relu', max_iter=1000, random_state = 42)\n",
    "    mlp_model.fit(X_train, y_train)\n",
    "\n",
    "    y_train_prediction = mlp_model.predict(X_train)\n",
    "    y_test_prediction = mlp_model.predict(X_test)\n",
    "    \n",
    "    train_err.append(np.mean(y_train != y_train_prediction))\n",
    "    test_err.append(np.mean(y_test!= y_test_prediction))\n",
    "    train_acc.append(sklearn.metrics.accuracy_score(y_train, y_train_prediction))\n",
    "    test_acc.append(sklearn.metrics.accuracy_score(y_test, y_test_prediction))\n",
    "     "
   ]
  },
  {
   "cell_type": "code",
   "execution_count": 55,
   "id": "92828749",
   "metadata": {},
   "outputs": [
    {
     "data": {
      "text/plain": [
       "<matplotlib.legend.Legend at 0x139e250b460>"
      ]
     },
     "execution_count": 55,
     "metadata": {},
     "output_type": "execute_result"
    },
    {
     "data": {
      "image/png": "[encoded data removed]",
      "text/plain": [
       "<Figure size 432x288 with 1 Axes>"
      ]
     },
     "metadata": {
      "needs_background": "light"
     },
     "output_type": "display_data"
    }
   ],
   "source": [
    "plt.semilogx(alpha_arr, train_err, 'b-o', label = 'train')\n",
    "plt.semilogx(alpha_arr, test_err, 'r-o', label = 'test')\n",
    "plt.xlim([np.min(alpha_arr), np.max(alpha_arr)])\n",
    "plt.title('Error vs. alpha')\n",
    "plt.xlabel('alpha')\n",
    "plt.ylabel('error')\n",
    "plt.legend()"
   ]
  },
  {
   "cell_type": "code",
   "execution_count": 56,
   "id": "b0b7f843",
   "metadata": {},
   "outputs": [
    {
     "data": {
      "text/plain": [
       "<matplotlib.legend.Legend at 0x139e27f12e0>"
      ]
     },
     "execution_count": 56,
     "metadata": {},
     "output_type": "execute_result"
    },
    {
     "data": {
      "image/png": "[encoded data removed]",
      "text/plain": [
       "<Figure size 432x288 with 1 Axes>"
      ]
     },
     "metadata": {
      "needs_background": "light"
     },
     "output_type": "display_data"
    }
   ],
   "source": [
    "plt.semilogx(alpha_arr, train_acc, 'r-o', label = 'train')\n",
    "plt.semilogx(alpha_arr, test_acc, 'b-o', label = 'test')\n",
    "plt.xlim([np.min(alpha_arr), np.max(alpha_arr)])\n",
    "plt.title('Accuracy vs. alpha')\n",
    "plt.xlabel('alpha')\n",
    "plt.ylabel('Accuracy')\n",
    "plt.legend()"
   ]
  },
  {
   "cell_type": "markdown",
   "id": "c9fb1ad6",
   "metadata": {},
   "source": [
    "Судя по графикам у нас не наблюдается ни недообучения, ни переобучения. "
   ]
  },
  {
   "cell_type": "markdown",
   "id": "ea3a6eba",
   "metadata": {},
   "source": [
    "Минимальное значение ошибки:"
   ]
  },
  {
   "cell_type": "code",
   "execution_count": 57,
   "id": "4b6d5a6a",
   "metadata": {},
   "outputs": [
    {
     "name": "stdout",
     "output_type": "stream",
     "text": [
      "0.08547272006693382 0.08626535734730724\n"
     ]
    }
   ],
   "source": [
    "min_train_err = np.min(train_err)\n",
    "min_test_err = np.min(test_err)\n",
    "print(min_train_err, min_test_err)"
   ]
  },
  {
   "cell_type": "markdown",
   "id": "cc6e68ad",
   "metadata": {},
   "source": [
    "Оптимальное значение альфа:"
   ]
  },
  {
   "cell_type": "code",
   "execution_count": 58,
   "id": "b9bbb1a4",
   "metadata": {},
   "outputs": [
    {
     "name": "stdout",
     "output_type": "stream",
     "text": [
      "0.0017782794100389228\n"
     ]
    }
   ],
   "source": [
    "alpha_optarr = alpha_arr[test_err == min_test_err]\n",
    "alpha_opt = alpha_optarr[0]\n",
    "print(alpha_opt)"
   ]
  },
  {
   "cell_type": "markdown",
   "id": "5971fc35",
   "metadata": {},
   "source": [
    "Классификатор с учетом оптимального значения альфа:"
   ]
  },
  {
   "cell_type": "code",
   "execution_count": 59,
   "id": "81d7f4d7",
   "metadata": {},
   "outputs": [],
   "source": [
    "from sklearn.metrics import confusion_matrix, ConfusionMatrixDisplay"
   ]
  },
  {
   "cell_type": "code",
   "execution_count": 60,
   "id": "7d7388b7",
   "metadata": {},
   "outputs": [
    {
     "name": "stdout",
     "output_type": "stream",
     "text": [
      "Train: 91.40% Test: 91.31%\n"
     ]
    }
   ],
   "source": [
    "mlp_model = MLPClassifier(alpha=alpha_opt, hidden_layer_sizes=(80,),\n",
    "                          solver='adam', activation='relu', max_iter=5000, random_state=7)\n",
    "mlp_model.fit(X_train, y_train)\n",
    "\n",
    "y_train_prediction = mlp_model.predict(X_train)\n",
    "y_test_prediction = mlp_model.predict(X_test)\n",
    "\n",
    "print(\"Train: {:.2f}% Test: {:.2f}%\".format(accuracy_score(y_train, y_train_prediction)\n",
    "      * 100, accuracy_score(y_test.astype('int64'), y_test_prediction) * 100))"
   ]
  },
  {
   "cell_type": "markdown",
   "id": "76f8dc4c",
   "metadata": {},
   "source": [
    "## Подбор оптимального числа нейронов"
   ]
  },
  {
   "cell_type": "code",
   "execution_count": 62,
   "id": "345abb08",
   "metadata": {},
   "outputs": [],
   "source": [
    "neuron_count_array = np.linspace(10, 300, 30).astype(int)\n",
    "test_error = []\n",
    "train_error = []\n",
    "test_acc = []\n",
    "train_acc = []\n",
    "\n",
    "for neuron_count in neuron_count_array:\n",
    "    model = MLPClassifier(\n",
    "        alpha=alpha_opt,\n",
    "        hidden_layer_sizes=(neuron_count,),\n",
    "        solver='adam',\n",
    "        activation='relu',\n",
    "        max_iter=1000,\n",
    "        random_state=42\n",
    "    )\n",
    "    model.fit(X_train, y_train)\n",
    "\n",
    "    y_train_prediction = model.predict(X_train)\n",
    "    y_test_prediction = model.predict(X_test)\n",
    "\n",
    "    test_error.append(np.mean(y_test != y_test_prediction))\n",
    "    train_error.append(np.mean(y_train != y_train_prediction))\n",
    "    test_acc.append(accuracy_score(y_test, y_test_prediction))\n",
    "    train_acc.append(accuracy_score(y_train, y_train_prediction))"
   ]
  },
  {
   "cell_type": "code",
   "execution_count": 63,
   "id": "2b9d2a0b",
   "metadata": {},
   "outputs": [
    {
     "data": {
      "text/plain": [
       "<matplotlib.legend.Legend at 0x139e3434100>"
      ]
     },
     "execution_count": 63,
     "metadata": {},
     "output_type": "execute_result"
    },
    {
     "data": {
      "image/png": "[encoded data removed]",
      "text/plain": [
       "<Figure size 432x288 with 1 Axes>"
      ]
     },
     "metadata": {
      "needs_background": "light"
     },
     "output_type": "display_data"
    }
   ],
   "source": [
    "plt.plot(neuron_count_array, train_error, 'r-o', label='train')\n",
    "plt.plot(neuron_count_array, test_error, 'b-o', label='test')\n",
    "plt.xlim([np.min(neuron_count_array), np.max(neuron_count_array)])\n",
    "plt.xlabel('neuron count')\n",
    "plt.ylabel('error')\n",
    "plt.legend()"
   ]
  },
  {
   "cell_type": "code",
   "execution_count": 64,
   "id": "7d960362",
   "metadata": {},
   "outputs": [
    {
     "data": {
      "text/plain": [
       "<matplotlib.legend.Legend at 0x139e2915e80>"
      ]
     },
     "execution_count": 64,
     "metadata": {},
     "output_type": "execute_result"
    },
    {
     "data": {
      "image/png": "[encoded data removed]",
      "text/plain": [
       "<Figure size 432x288 with 1 Axes>"
      ]
     },
     "metadata": {
      "needs_background": "light"
     },
     "output_type": "display_data"
    }
   ],
   "source": [
    "\n",
    "plt.plot(neuron_count_array, train_acc, 'r-o', label='train')\n",
    "plt.plot(neuron_count_array, test_acc, 'b-o', label='test')\n",
    "plt.xlim([np.min(neuron_count_array), np.max(neuron_count_array)])\n",
    "plt.title('Accuracy vs. neuron count')\n",
    "plt.xlabel('neuron count')\n",
    "plt.ylabel('Accuracy')\n",
    "plt.legend()"
   ]
  },
  {
   "cell_type": "markdown",
   "id": "3b3e47d5",
   "metadata": {},
   "source": [
    "В данном случае также не наблюдается ни недообучения, ни переобучения. Колебания происходятся достаточно синхронно."
   ]
  },
  {
   "cell_type": "code",
   "execution_count": 65,
   "id": "64e11dbd",
   "metadata": {},
   "outputs": [
    {
     "name": "stdout",
     "output_type": "stream",
     "text": [
      "Optimal number of neurons: 260\n"
     ]
    }
   ],
   "source": [
    "min_test_error = np.min(test_error)\n",
    "neuron_opt = neuron_count_array[test_error == min_test_error][0]\n",
    "print('Optimal number of neurons: {}'.format(neuron_opt))"
   ]
  },
  {
   "cell_type": "code",
   "execution_count": 66,
   "id": "1af58ea6",
   "metadata": {},
   "outputs": [],
   "source": [
    "mlp_model = MLPClassifier(alpha=alpha_opt, hidden_layer_sizes=(neuron_opt,),\n",
    "                          solver='adam', activation='relu', max_iter=2000, random_state=90)\n",
    "mlp_model.fit(X_train, y_train)\n",
    "\n",
    "y_train_prediction = mlp_model.predict(X_train)\n",
    "y_test_prediction = mlp_model.predict(X_test)"
   ]
  },
  {
   "cell_type": "code",
   "execution_count": 67,
   "id": "4d05ac99",
   "metadata": {},
   "outputs": [
    {
     "name": "stdout",
     "output_type": "stream",
     "text": [
      "Train: 91.38% Test: 91.34%\n"
     ]
    }
   ],
   "source": [
    "print(\"Train: {:.2f}% Test: {:.2f}%\".format(accuracy_score(y_train, y_train_prediction)\n",
    "      * 100, accuracy_score(y_test, y_test_prediction) * 100))"
   ]
  },
  {
   "cell_type": "markdown",
   "id": "0998f909",
   "metadata": {},
   "source": [
    "## Подбор оптимального числа нейронов и значения альфа"
   ]
  },
  {
   "cell_type": "code",
   "execution_count": 68,
   "id": "c9f1e0df",
   "metadata": {},
   "outputs": [],
   "source": [
    "neuron_arr = np.linspace(10, 300, 5).astype(int)\n",
    "alpha_arr = np.logspace(-3, 2, 5)\n",
    "test_err = []\n",
    "train_err = []\n",
    "train_acc = []\n",
    "test_acc = []\n",
    "neuron_alpha_opt = []\n",
    "\n",
    "for neuron in neuron_arr:\n",
    "    for alpha in alpha_arr:\n",
    "        mlp_model = MLPClassifier(alpha=alpha, hidden_layer_sizes=(neuron,),\n",
    "                                  solver='adam', activation='relu', max_iter=1500, random_state=3)\n",
    "        mlp_model.fit(X_train, y_train)\n",
    "\n",
    "        y_train_prediction = mlp_model.predict(X_train)\n",
    "        y_test_prediction = mlp_model.predict(X_test)\n",
    "\n",
    "        train_err.append(np.mean(y_train != y_train_prediction))\n",
    "        test_err.append(np.mean(y_test != y_test_prediction))\n",
    "        train_acc.append(accuracy_score(y_train, y_train_prediction))\n",
    "        test_acc.append(accuracy_score(y_test, y_test_prediction))\n",
    "        neuron_alpha_opt.append([neuron, alpha])"
   ]
  },
  {
   "cell_type": "code",
   "execution_count": 69,
   "id": "ebf0edf4",
   "metadata": {},
   "outputs": [
    {
     "name": "stdout",
     "output_type": "stream",
     "text": [
      "Neuron count opt: 227\n",
      "Alpha opt:  0.001\n"
     ]
    }
   ],
   "source": [
    "min_test_err = np.min(test_err)\n",
    "i, = np.where(test_err == min_test_err)\n",
    "neuron_opt, alpha_opt = neuron_alpha_opt[i[0]]\n",
    "print(\"Neuron count opt:\", neuron_opt)\n",
    "print(\"Alpha opt: \", alpha_opt)"
   ]
  },
  {
   "cell_type": "markdown",
   "id": "6fe3ee28",
   "metadata": {},
   "source": [
    "Классификатор с учетом оптимальных значений"
   ]
  },
  {
   "cell_type": "code",
   "execution_count": 70,
   "id": "3f64efde",
   "metadata": {},
   "outputs": [],
   "source": [
    "mlp_model = MLPClassifier(alpha=alpha_opt, hidden_layer_sizes=(neuron_opt,),\n",
    "                          solver='adam', activation='relu', max_iter=2000, random_state=93)\n",
    "mlp_model.fit(X_train, y_train)\n",
    "\n",
    "y_train_prediction = mlp_model.predict(X_train)\n",
    "y_test_prediction = mlp_model.predict(X_test)"
   ]
  },
  {
   "cell_type": "code",
   "execution_count": 71,
   "id": "a0bf8ca6",
   "metadata": {},
   "outputs": [
    {
     "name": "stdout",
     "output_type": "stream",
     "text": [
      "Train: 91.46% Test: 91.39%\n"
     ]
    }
   ],
   "source": [
    "print(\"Train: {:.2f}% Test: {:.2f}%\".format(accuracy_score(y_train, y_train_prediction)\n",
    "      * 100, accuracy_score(y_test, y_test_prediction) * 100))"
   ]
  },
  {
   "cell_type": "markdown",
   "id": "6d721fe9",
   "metadata": {},
   "source": [
    "### Матрица рассогласования"
   ]
  },
  {
   "cell_type": "code",
   "execution_count": 72,
   "id": "b9262b96",
   "metadata": {},
   "outputs": [
    {
     "data": {
      "image/png": "[encoded data removed]",
      "text/plain": [
       "<Figure size 432x288 with 2 Axes>"
      ]
     },
     "metadata": {
      "needs_background": "light"
     },
     "output_type": "display_data"
    }
   ],
   "source": [
    "confusion = confusion_matrix(y_test, y_test_prediction, labels=model.classes_)\n",
    "display = ConfusionMatrixDisplay(confusion_matrix=confusion, display_labels=model.classes_)\n",
    "display.plot()\n",
    "plt.show()\n",
    "pass"
   ]
  },
  {
   "cell_type": "markdown",
   "id": "50d7c78f",
   "metadata": {},
   "source": [
    "# Выводы"
   ]
  },
  {
   "cell_type": "markdown",
   "id": "9f18ba5d",
   "metadata": {},
   "source": [
    "Оценив результаты работы на тестовой и тренировочной выборках при различных коэфициентах и количествах нейронов, можно проследить несильное изменение точности, что свидетельствует о том, что явной зависимости точности от этих параметров нет. Кроме того, не наблюдалось переобучение или недообучение. "
   ]
  }
 ],
 "metadata": {
  "kernelspec": {
   "display_name": "Python 3 (ipykernel)",
   "language": "python",
   "name": "python3"
  },
  "language_info": {
   "codemirror_mode": {
    "name": "ipython",
    "version": 3
   },
   "file_extension": ".py",
   "mimetype": "text/x-python",
   "name": "python",
   "nbconvert_exporter": "python",
   "pygments_lexer": "ipython3",
   "version": "3.9.12"
  }
 },
 "nbformat": 4,
 "nbformat_minor": 5
}
